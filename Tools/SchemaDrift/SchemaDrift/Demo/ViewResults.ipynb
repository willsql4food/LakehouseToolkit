{
    "metadata": {
        "kernelspec": {
            "name": "SQL",
            "display_name": "SQL",
            "language": "sql"
        },
        "language_info": {
            "name": "sql",
            "version": ""
        }
    },
    "nbformat_minor": 2,
    "nbformat": 4,
    "cells": [
        {
            "cell_type": "markdown",
            "source": [
                "## `PersonRigid` & `PersonFlexible` - the Target tables "
            ],
            "metadata": {
                "language": "sql",
                "azdata_cell_guid": "a989f7ad-857b-4d0b-a557-48460e104534"
            },
            "attachments": {}
        },
        {
            "cell_type": "code",
            "source": [
                "select * from dbo.PersonRigid\r\n",
                "select * from dbo.PersonFlexible\r\n",
                ""
            ],
            "metadata": {
                "azdata_cell_guid": "53b19923-4530-48d8-be35-6684d338c778",
                "language": "sql"
            },
            "outputs": [
                {
                    "output_type": "display_data",
                    "data": {
                        "text/html": "(0 rows affected)"
                    },
                    "metadata": {}
                },
                {
                    "output_type": "display_data",
                    "data": {
                        "text/html": "(0 rows affected)"
                    },
                    "metadata": {}
                },
                {
                    "output_type": "display_data",
                    "data": {
                        "text/html": "Total execution time: 00:00:00.148"
                    },
                    "metadata": {}
                },
                {
                    "output_type": "execute_result",
                    "metadata": {},
                    "execution_count": 43,
                    "data": {
                        "application/vnd.dataresource+json": {
                            "schema": {
                                "fields": [
                                    {
                                        "name": "Id"
                                    },
                                    {
                                        "name": "FirstName"
                                    },
                                    {
                                        "name": "MiddleInitial"
                                    },
                                    {
                                        "name": "LastName"
                                    }
                                ]
                            },
                            "data": []
                        },
                        "text/html": [
                            "<table>",
                            "<tr><th>Id</th><th>FirstName</th><th>MiddleInitial</th><th>LastName</th></tr>",
                            "</table>"
                        ]
                    }
                },
                {
                    "output_type": "execute_result",
                    "metadata": {},
                    "execution_count": 43,
                    "data": {
                        "application/vnd.dataresource+json": {
                            "schema": {
                                "fields": [
                                    {
                                        "name": "Id"
                                    },
                                    {
                                        "name": "FirstName"
                                    },
                                    {
                                        "name": "MiddleInitial"
                                    },
                                    {
                                        "name": "LastName"
                                    }
                                ]
                            },
                            "data": []
                        },
                        "text/html": [
                            "<table>",
                            "<tr><th>Id</th><th>FirstName</th><th>MiddleInitial</th><th>LastName</th></tr>",
                            "</table>"
                        ]
                    }
                }
            ],
            "execution_count": 43
        },
        {
            "cell_type": "markdown",
            "source": [
                "## `uspConformTable` results for the various stage tables\r\n",
                "### `PersonRigid` - Perform DDL = 0\r\n",
                ""
            ],
            "metadata": {
                "language": "sql",
                "azdata_cell_guid": "26e57bef-7310-4c92-999b-bd386c1e462b"
            },
            "attachments": {}
        },
        {
            "cell_type": "code",
            "source": [
                "exec uspConformTable 'stage', 'PersonA', 'dbo', 'PersonRigid', '{\"Perform DDL\": 0, \"Debug\": 1}'\r\n",
                "exec uspConformTable 'stage', 'PersonB', 'dbo', 'PersonRigid', '{\"Perform DDL\": 0, \"Debug\": 1}'\r\n",
                "exec uspConformTable 'stage', 'PersonC', 'dbo', 'PersonRigid', '{\"Perform DDL\": 0, \"Debug\": 1}'\r\n",
                "exec uspConformTable 'stage', 'PersonD', 'dbo', 'PersonRigid', '{\"Perform DDL\": 0, \"Debug\": 1}'\r\n",
                "exec uspConformTable 'stage', 'PersonE', 'dbo', 'PersonRigid', '{\"Perform DDL\": 0, \"Debug\": 1}'\r\n",
                ""
            ],
            "metadata": {
                "language": "sql",
                "azdata_cell_guid": "717a5e8b-5b47-4f30-9dae-5527150fc07e"
            },
            "outputs": [
                {
                    "output_type": "display_data",
                    "data": {
                        "text/html": "Commands completed successfully."
                    },
                    "metadata": {}
                },
                {
                    "output_type": "display_data",
                    "data": {
                        "text/html": "Total execution time: 00:00:00.092"
                    },
                    "metadata": {}
                },
                {
                    "output_type": "execute_result",
                    "metadata": {},
                    "execution_count": 44,
                    "data": {
                        "application/vnd.dataresource+json": {
                            "schema": {
                                "fields": [
                                    {
                                        "name": "SqlCommand"
                                    }
                                ]
                            },
                            "data": [
                                {
                                    "SqlCommand": "insert into [dbo].[PersonRigid] ([FirstName], [MiddleInitial], [LastName]) select [FirstName], [MiddleInitial], [LastName] from [stage].[PersonA]"
                                }
                            ]
                        },
                        "text/html": [
                            "<table>",
                            "<tr><th>SqlCommand</th></tr>",
                            "<tr><td>insert into [dbo].[PersonRigid] ([FirstName], [MiddleInitial], [LastName]) select [FirstName], [MiddleInitial], [LastName] from [stage].[PersonA]</td></tr>",
                            "</table>"
                        ]
                    }
                },
                {
                    "output_type": "execute_result",
                    "metadata": {},
                    "execution_count": 44,
                    "data": {
                        "application/vnd.dataresource+json": {
                            "schema": {
                                "fields": [
                                    {
                                        "name": "ColumnName"
                                    },
                                    {
                                        "name": "ActionReason"
                                    },
                                    {
                                        "name": "srcColDefinition"
                                    },
                                    {
                                        "name": "Change"
                                    },
                                    {
                                        "name": "tgtColDefinition"
                                    },
                                    {
                                        "name": "tgtTypeName"
                                    },
                                    {
                                        "name": "tgtMaxStrLength"
                                    },
                                    {
                                        "name": "difMaxLength"
                                    },
                                    {
                                        "name": "tgtPrecision"
                                    },
                                    {
                                        "name": "difPrecision"
                                    },
                                    {
                                        "name": "tgtScale"
                                    },
                                    {
                                        "name": "difScale"
                                    },
                                    {
                                        "name": "SelectClauseNoDdl"
                                    },
                                    {
                                        "name": "DdlStmt"
                                    },
                                    {
                                        "name": "SelectClausePostDdl"
                                    },
                                    {
                                        "name": "Options"
                                    },
                                    {
                                        "name": "ActionMessage"
                                    }
                                ]
                            },
                            "data": [
                                {
                                    "ColumnName": "[FirstName]",
                                    "ActionReason": "RPT.SAME",
                                    "srcColDefinition": "[FirstName] varchar(10) NULL",
                                    "Change": "-->",
                                    "tgtColDefinition": "[FirstName] varchar(10) NULL",
                                    "tgtTypeName": "varchar",
                                    "tgtMaxStrLength": "10",
                                    "difMaxLength": "0",
                                    "tgtPrecision": "0",
                                    "difPrecision": "0",
                                    "tgtScale": "0",
                                    "difScale": "0",
                                    "SelectClauseNoDdl": "[FirstName]",
                                    "DdlStmt": "",
                                    "SelectClausePostDdl": "[FirstName]",
                                    "Options": "{\"Perform DDL\": 0, \"Debug\": 1}",
                                    "ActionMessage": "/* Source and target column definitions are identical */"
                                },
                                {
                                    "ColumnName": "[LastName]",
                                    "ActionReason": "RPT.SAME",
                                    "srcColDefinition": "[LastName] varchar(15) NULL",
                                    "Change": "-->",
                                    "tgtColDefinition": "[LastName] varchar(15) NULL",
                                    "tgtTypeName": "varchar",
                                    "tgtMaxStrLength": "15",
                                    "difMaxLength": "0",
                                    "tgtPrecision": "0",
                                    "difPrecision": "0",
                                    "tgtScale": "0",
                                    "difScale": "0",
                                    "SelectClauseNoDdl": "[LastName]",
                                    "DdlStmt": "",
                                    "SelectClausePostDdl": "[LastName]",
                                    "Options": "{\"Perform DDL\": 0, \"Debug\": 1}",
                                    "ActionMessage": "/* Source and target column definitions are identical */"
                                },
                                {
                                    "ColumnName": "[MiddleInitial]",
                                    "ActionReason": "RPT.SAME",
                                    "srcColDefinition": "[MiddleInitial] char(1) NULL",
                                    "Change": "-->",
                                    "tgtColDefinition": "[MiddleInitial] char(1) NULL",
                                    "tgtTypeName": "char",
                                    "tgtMaxStrLength": "1",
                                    "difMaxLength": "0",
                                    "tgtPrecision": "0",
                                    "difPrecision": "0",
                                    "tgtScale": "0",
                                    "difScale": "0",
                                    "SelectClauseNoDdl": "[MiddleInitial]",
                                    "DdlStmt": "",
                                    "SelectClausePostDdl": "[MiddleInitial]",
                                    "Options": "{\"Perform DDL\": 0, \"Debug\": 1}",
                                    "ActionMessage": "/* Source and target column definitions are identical */"
                                },
                                {
                                    "ColumnName": "[Id]",
                                    "ActionReason": "SQL.NO_SOURCE",
                                    "srcColDefinition": "NULL",
                                    "Change": "-->",
                                    "tgtColDefinition": "[Id] int NULL",
                                    "tgtTypeName": "int",
                                    "tgtMaxStrLength": "4",
                                    "difMaxLength": "NULL",
                                    "tgtPrecision": "10",
                                    "difPrecision": "NULL",
                                    "tgtScale": "0",
                                    "difScale": "NULL",
                                    "SelectClauseNoDdl": "",
                                    "DdlStmt": "",
                                    "SelectClausePostDdl": "",
                                    "Options": "{\"Perform DDL\": 0, \"Debug\": 1}",
                                    "ActionMessage": "Column does not exist in source, exclude from target insert"
                                }
                            ]
                        },
                        "text/html": [
                            "<table>",
                            "<tr><th>ColumnName</th><th>ActionReason</th><th>srcColDefinition</th><th>Change</th><th>tgtColDefinition</th><th>tgtTypeName</th><th>tgtMaxStrLength</th><th>difMaxLength</th><th>tgtPrecision</th><th>difPrecision</th><th>tgtScale</th><th>difScale</th><th>SelectClauseNoDdl</th><th>DdlStmt</th><th>SelectClausePostDdl</th><th>Options</th><th>ActionMessage</th></tr>",
                            "<tr><td>[FirstName]</td><td>RPT.SAME</td><td>[FirstName] varchar(10) NULL</td><td>--&gt;</td><td>[FirstName] varchar(10) NULL</td><td>varchar</td><td>10</td><td>0</td><td>0</td><td>0</td><td>0</td><td>0</td><td>[FirstName]</td><td></td><td>[FirstName]</td><td>{&quot;Perform DDL&quot;: 0, &quot;Debug&quot;: 1}</td><td>/* Source and target column definitions are identical */</td></tr>",
                            "<tr><td>[LastName]</td><td>RPT.SAME</td><td>[LastName] varchar(15) NULL</td><td>--&gt;</td><td>[LastName] varchar(15) NULL</td><td>varchar</td><td>15</td><td>0</td><td>0</td><td>0</td><td>0</td><td>0</td><td>[LastName]</td><td></td><td>[LastName]</td><td>{&quot;Perform DDL&quot;: 0, &quot;Debug&quot;: 1}</td><td>/* Source and target column definitions are identical */</td></tr>",
                            "<tr><td>[MiddleInitial]</td><td>RPT.SAME</td><td>[MiddleInitial] char(1) NULL</td><td>--&gt;</td><td>[MiddleInitial] char(1) NULL</td><td>char</td><td>1</td><td>0</td><td>0</td><td>0</td><td>0</td><td>0</td><td>[MiddleInitial]</td><td></td><td>[MiddleInitial]</td><td>{&quot;Perform DDL&quot;: 0, &quot;Debug&quot;: 1}</td><td>/* Source and target column definitions are identical */</td></tr>",
                            "<tr><td>[Id]</td><td>SQL.NO_SOURCE</td><td>NULL</td><td>--&gt;</td><td>[Id] int NULL</td><td>int</td><td>4</td><td>NULL</td><td>10</td><td>NULL</td><td>0</td><td>NULL</td><td></td><td></td><td></td><td>{&quot;Perform DDL&quot;: 0, &quot;Debug&quot;: 1}</td><td>Column does not exist in source, exclude from target insert</td></tr>",
                            "</table>"
                        ]
                    }
                },
                {
                    "output_type": "execute_result",
                    "metadata": {},
                    "execution_count": 44,
                    "data": {
                        "application/vnd.dataresource+json": {
                            "schema": {
                                "fields": [
                                    {
                                        "name": "SqlCommand"
                                    }
                                ]
                            },
                            "data": [
                                {
                                    "SqlCommand": "insert into [dbo].[PersonRigid] ([FirstName], [MiddleInitial], [LastName]) select convert( varchar(10), [FirstName]), [MiddleInitial], convert( varchar(15), [LastName]) from [stage].[PersonB]"
                                }
                            ]
                        },
                        "text/html": [
                            "<table>",
                            "<tr><th>SqlCommand</th></tr>",
                            "<tr><td>insert into [dbo].[PersonRigid] ([FirstName], [MiddleInitial], [LastName]) select convert( varchar(10), [FirstName]), [MiddleInitial], convert( varchar(15), [LastName]) from [stage].[PersonB]</td></tr>",
                            "</table>"
                        ]
                    }
                },
                {
                    "output_type": "execute_result",
                    "metadata": {},
                    "execution_count": 44,
                    "data": {
                        "application/vnd.dataresource+json": {
                            "schema": {
                                "fields": [
                                    {
                                        "name": "ColumnName"
                                    },
                                    {
                                        "name": "ActionReason"
                                    },
                                    {
                                        "name": "srcColDefinition"
                                    },
                                    {
                                        "name": "Change"
                                    },
                                    {
                                        "name": "tgtColDefinition"
                                    },
                                    {
                                        "name": "tgtTypeName"
                                    },
                                    {
                                        "name": "tgtMaxStrLength"
                                    },
                                    {
                                        "name": "difMaxLength"
                                    },
                                    {
                                        "name": "tgtPrecision"
                                    },
                                    {
                                        "name": "difPrecision"
                                    },
                                    {
                                        "name": "tgtScale"
                                    },
                                    {
                                        "name": "difScale"
                                    },
                                    {
                                        "name": "SelectClauseNoDdl"
                                    },
                                    {
                                        "name": "DdlStmt"
                                    },
                                    {
                                        "name": "SelectClausePostDdl"
                                    },
                                    {
                                        "name": "Options"
                                    },
                                    {
                                        "name": "ActionMessage"
                                    }
                                ]
                            },
                            "data": [
                                {
                                    "ColumnName": "[FirstName]",
                                    "ActionReason": "DDL.SMALLER_STRING",
                                    "srcColDefinition": "[FirstName] varchar(20) NULL",
                                    "Change": "-->",
                                    "tgtColDefinition": "[FirstName] varchar(10) NULL",
                                    "tgtTypeName": "varchar",
                                    "tgtMaxStrLength": "10",
                                    "difMaxLength": "10",
                                    "tgtPrecision": "0",
                                    "difPrecision": "0",
                                    "tgtScale": "0",
                                    "difScale": "0",
                                    "SelectClauseNoDdl": "convert( varchar(10), [FirstName])",
                                    "DdlStmt": "alter table [dbo].[PersonRigid] alter column [FirstName] varchar(20) NULL",
                                    "SelectClausePostDdl": "[FirstName]",
                                    "Options": "{\"Perform DDL\": 0, \"Debug\": 1}",
                                    "ActionMessage": "Target string is smaller than source - either alter target column or risk truncation"
                                },
                                {
                                    "ColumnName": "[LastName]",
                                    "ActionReason": "DDL.SMALLER_STRING",
                                    "srcColDefinition": "[LastName] varchar(25) NULL",
                                    "Change": "-->",
                                    "tgtColDefinition": "[LastName] varchar(15) NULL",
                                    "tgtTypeName": "varchar",
                                    "tgtMaxStrLength": "15",
                                    "difMaxLength": "10",
                                    "tgtPrecision": "0",
                                    "difPrecision": "0",
                                    "tgtScale": "0",
                                    "difScale": "0",
                                    "SelectClauseNoDdl": "convert( varchar(15), [LastName])",
                                    "DdlStmt": "alter table [dbo].[PersonRigid] alter column [LastName] varchar(25) NULL",
                                    "SelectClausePostDdl": "[LastName]",
                                    "Options": "{\"Perform DDL\": 0, \"Debug\": 1}",
                                    "ActionMessage": "Target string is smaller than source - either alter target column or risk truncation"
                                },
                                {
                                    "ColumnName": "[MiddleInitial]",
                                    "ActionReason": "RPT.SAME",
                                    "srcColDefinition": "[MiddleInitial] char(1) NULL",
                                    "Change": "-->",
                                    "tgtColDefinition": "[MiddleInitial] char(1) NULL",
                                    "tgtTypeName": "char",
                                    "tgtMaxStrLength": "1",
                                    "difMaxLength": "0",
                                    "tgtPrecision": "0",
                                    "difPrecision": "0",
                                    "tgtScale": "0",
                                    "difScale": "0",
                                    "SelectClauseNoDdl": "[MiddleInitial]",
                                    "DdlStmt": "",
                                    "SelectClausePostDdl": "[MiddleInitial]",
                                    "Options": "{\"Perform DDL\": 0, \"Debug\": 1}",
                                    "ActionMessage": "/* Source and target column definitions are identical */"
                                },
                                {
                                    "ColumnName": "[Id]",
                                    "ActionReason": "SQL.NO_SOURCE",
                                    "srcColDefinition": "NULL",
                                    "Change": "-->",
                                    "tgtColDefinition": "[Id] int NULL",
                                    "tgtTypeName": "int",
                                    "tgtMaxStrLength": "4",
                                    "difMaxLength": "NULL",
                                    "tgtPrecision": "10",
                                    "difPrecision": "NULL",
                                    "tgtScale": "0",
                                    "difScale": "NULL",
                                    "SelectClauseNoDdl": "",
                                    "DdlStmt": "",
                                    "SelectClausePostDdl": "",
                                    "Options": "{\"Perform DDL\": 0, \"Debug\": 1}",
                                    "ActionMessage": "Column does not exist in source, exclude from target insert"
                                }
                            ]
                        },
                        "text/html": [
                            "<table>",
                            "<tr><th>ColumnName</th><th>ActionReason</th><th>srcColDefinition</th><th>Change</th><th>tgtColDefinition</th><th>tgtTypeName</th><th>tgtMaxStrLength</th><th>difMaxLength</th><th>tgtPrecision</th><th>difPrecision</th><th>tgtScale</th><th>difScale</th><th>SelectClauseNoDdl</th><th>DdlStmt</th><th>SelectClausePostDdl</th><th>Options</th><th>ActionMessage</th></tr>",
                            "<tr><td>[FirstName]</td><td>DDL.SMALLER_STRING</td><td>[FirstName] varchar(20) NULL</td><td>--&gt;</td><td>[FirstName] varchar(10) NULL</td><td>varchar</td><td>10</td><td>10</td><td>0</td><td>0</td><td>0</td><td>0</td><td>convert( varchar(10), [FirstName])</td><td>alter table [dbo].[PersonRigid] alter column [FirstName] varchar(20) NULL</td><td>[FirstName]</td><td>{&quot;Perform DDL&quot;: 0, &quot;Debug&quot;: 1}</td><td>Target string is smaller than source - either alter target column or risk truncation</td></tr>",
                            "<tr><td>[LastName]</td><td>DDL.SMALLER_STRING</td><td>[LastName] varchar(25) NULL</td><td>--&gt;</td><td>[LastName] varchar(15) NULL</td><td>varchar</td><td>15</td><td>10</td><td>0</td><td>0</td><td>0</td><td>0</td><td>convert( varchar(15), [LastName])</td><td>alter table [dbo].[PersonRigid] alter column [LastName] varchar(25) NULL</td><td>[LastName]</td><td>{&quot;Perform DDL&quot;: 0, &quot;Debug&quot;: 1}</td><td>Target string is smaller than source - either alter target column or risk truncation</td></tr>",
                            "<tr><td>[MiddleInitial]</td><td>RPT.SAME</td><td>[MiddleInitial] char(1) NULL</td><td>--&gt;</td><td>[MiddleInitial] char(1) NULL</td><td>char</td><td>1</td><td>0</td><td>0</td><td>0</td><td>0</td><td>0</td><td>[MiddleInitial]</td><td></td><td>[MiddleInitial]</td><td>{&quot;Perform DDL&quot;: 0, &quot;Debug&quot;: 1}</td><td>/* Source and target column definitions are identical */</td></tr>",
                            "<tr><td>[Id]</td><td>SQL.NO_SOURCE</td><td>NULL</td><td>--&gt;</td><td>[Id] int NULL</td><td>int</td><td>4</td><td>NULL</td><td>10</td><td>NULL</td><td>0</td><td>NULL</td><td></td><td></td><td></td><td>{&quot;Perform DDL&quot;: 0, &quot;Debug&quot;: 1}</td><td>Column does not exist in source, exclude from target insert</td></tr>",
                            "</table>"
                        ]
                    }
                },
                {
                    "output_type": "execute_result",
                    "metadata": {},
                    "execution_count": 44,
                    "data": {
                        "application/vnd.dataresource+json": {
                            "schema": {
                                "fields": [
                                    {
                                        "name": "SqlCommand"
                                    }
                                ]
                            },
                            "data": [
                                {
                                    "SqlCommand": "insert into [dbo].[PersonRigid] ([FirstName], [MiddleInitial], [LastName]) select convert( varchar(10), [FirstName]), [MiddleInitial], convert( varchar(15), [LastName]) from [stage].[PersonC]"
                                }
                            ]
                        },
                        "text/html": [
                            "<table>",
                            "<tr><th>SqlCommand</th></tr>",
                            "<tr><td>insert into [dbo].[PersonRigid] ([FirstName], [MiddleInitial], [LastName]) select convert( varchar(10), [FirstName]), [MiddleInitial], convert( varchar(15), [LastName]) from [stage].[PersonC]</td></tr>",
                            "</table>"
                        ]
                    }
                },
                {
                    "output_type": "execute_result",
                    "metadata": {},
                    "execution_count": 44,
                    "data": {
                        "application/vnd.dataresource+json": {
                            "schema": {
                                "fields": [
                                    {
                                        "name": "ColumnName"
                                    },
                                    {
                                        "name": "ActionReason"
                                    },
                                    {
                                        "name": "srcColDefinition"
                                    },
                                    {
                                        "name": "Change"
                                    },
                                    {
                                        "name": "tgtColDefinition"
                                    },
                                    {
                                        "name": "tgtTypeName"
                                    },
                                    {
                                        "name": "tgtMaxStrLength"
                                    },
                                    {
                                        "name": "difMaxLength"
                                    },
                                    {
                                        "name": "tgtPrecision"
                                    },
                                    {
                                        "name": "difPrecision"
                                    },
                                    {
                                        "name": "tgtScale"
                                    },
                                    {
                                        "name": "difScale"
                                    },
                                    {
                                        "name": "SelectClauseNoDdl"
                                    },
                                    {
                                        "name": "DdlStmt"
                                    },
                                    {
                                        "name": "SelectClausePostDdl"
                                    },
                                    {
                                        "name": "Options"
                                    },
                                    {
                                        "name": "ActionMessage"
                                    }
                                ]
                            },
                            "data": [
                                {
                                    "ColumnName": "[FirstName]",
                                    "ActionReason": "DDL.SMALLER_STRING",
                                    "srcColDefinition": "[FirstName] varchar(20) NULL",
                                    "Change": "-->",
                                    "tgtColDefinition": "[FirstName] varchar(10) NULL",
                                    "tgtTypeName": "varchar",
                                    "tgtMaxStrLength": "10",
                                    "difMaxLength": "10",
                                    "tgtPrecision": "0",
                                    "difPrecision": "0",
                                    "tgtScale": "0",
                                    "difScale": "0",
                                    "SelectClauseNoDdl": "convert( varchar(10), [FirstName])",
                                    "DdlStmt": "alter table [dbo].[PersonRigid] alter column [FirstName] varchar(20) NULL",
                                    "SelectClausePostDdl": "[FirstName]",
                                    "Options": "{\"Perform DDL\": 0, \"Debug\": 1}",
                                    "ActionMessage": "Target string is smaller than source - either alter target column or risk truncation"
                                },
                                {
                                    "ColumnName": "[LastName]",
                                    "ActionReason": "DDL.SMALLER_STRING",
                                    "srcColDefinition": "[LastName] varchar(25) NULL",
                                    "Change": "-->",
                                    "tgtColDefinition": "[LastName] varchar(15) NULL",
                                    "tgtTypeName": "varchar",
                                    "tgtMaxStrLength": "15",
                                    "difMaxLength": "10",
                                    "tgtPrecision": "0",
                                    "difPrecision": "0",
                                    "tgtScale": "0",
                                    "difScale": "0",
                                    "SelectClauseNoDdl": "convert( varchar(15), [LastName])",
                                    "DdlStmt": "alter table [dbo].[PersonRigid] alter column [LastName] varchar(25) NULL",
                                    "SelectClausePostDdl": "[LastName]",
                                    "Options": "{\"Perform DDL\": 0, \"Debug\": 1}",
                                    "ActionMessage": "Target string is smaller than source - either alter target column or risk truncation"
                                },
                                {
                                    "ColumnName": "[MiddleInitial]",
                                    "ActionReason": "RPT.SAME",
                                    "srcColDefinition": "[MiddleInitial] char(1) NULL",
                                    "Change": "-->",
                                    "tgtColDefinition": "[MiddleInitial] char(1) NULL",
                                    "tgtTypeName": "char",
                                    "tgtMaxStrLength": "1",
                                    "difMaxLength": "0",
                                    "tgtPrecision": "0",
                                    "difPrecision": "0",
                                    "tgtScale": "0",
                                    "difScale": "0",
                                    "SelectClauseNoDdl": "[MiddleInitial]",
                                    "DdlStmt": "",
                                    "SelectClausePostDdl": "[MiddleInitial]",
                                    "Options": "{\"Perform DDL\": 0, \"Debug\": 1}",
                                    "ActionMessage": "/* Source and target column definitions are identical */"
                                },
                                {
                                    "ColumnName": "[Id]",
                                    "ActionReason": "SQL.NO_SOURCE",
                                    "srcColDefinition": "NULL",
                                    "Change": "-->",
                                    "tgtColDefinition": "[Id] int NULL",
                                    "tgtTypeName": "int",
                                    "tgtMaxStrLength": "4",
                                    "difMaxLength": "NULL",
                                    "tgtPrecision": "10",
                                    "difPrecision": "NULL",
                                    "tgtScale": "0",
                                    "difScale": "NULL",
                                    "SelectClauseNoDdl": "",
                                    "DdlStmt": "",
                                    "SelectClausePostDdl": "",
                                    "Options": "{\"Perform DDL\": 0, \"Debug\": 1}",
                                    "ActionMessage": "Column does not exist in source, exclude from target insert"
                                }
                            ]
                        },
                        "text/html": [
                            "<table>",
                            "<tr><th>ColumnName</th><th>ActionReason</th><th>srcColDefinition</th><th>Change</th><th>tgtColDefinition</th><th>tgtTypeName</th><th>tgtMaxStrLength</th><th>difMaxLength</th><th>tgtPrecision</th><th>difPrecision</th><th>tgtScale</th><th>difScale</th><th>SelectClauseNoDdl</th><th>DdlStmt</th><th>SelectClausePostDdl</th><th>Options</th><th>ActionMessage</th></tr>",
                            "<tr><td>[FirstName]</td><td>DDL.SMALLER_STRING</td><td>[FirstName] varchar(20) NULL</td><td>--&gt;</td><td>[FirstName] varchar(10) NULL</td><td>varchar</td><td>10</td><td>10</td><td>0</td><td>0</td><td>0</td><td>0</td><td>convert( varchar(10), [FirstName])</td><td>alter table [dbo].[PersonRigid] alter column [FirstName] varchar(20) NULL</td><td>[FirstName]</td><td>{&quot;Perform DDL&quot;: 0, &quot;Debug&quot;: 1}</td><td>Target string is smaller than source - either alter target column or risk truncation</td></tr>",
                            "<tr><td>[LastName]</td><td>DDL.SMALLER_STRING</td><td>[LastName] varchar(25) NULL</td><td>--&gt;</td><td>[LastName] varchar(15) NULL</td><td>varchar</td><td>15</td><td>10</td><td>0</td><td>0</td><td>0</td><td>0</td><td>convert( varchar(15), [LastName])</td><td>alter table [dbo].[PersonRigid] alter column [LastName] varchar(25) NULL</td><td>[LastName]</td><td>{&quot;Perform DDL&quot;: 0, &quot;Debug&quot;: 1}</td><td>Target string is smaller than source - either alter target column or risk truncation</td></tr>",
                            "<tr><td>[MiddleInitial]</td><td>RPT.SAME</td><td>[MiddleInitial] char(1) NULL</td><td>--&gt;</td><td>[MiddleInitial] char(1) NULL</td><td>char</td><td>1</td><td>0</td><td>0</td><td>0</td><td>0</td><td>0</td><td>[MiddleInitial]</td><td></td><td>[MiddleInitial]</td><td>{&quot;Perform DDL&quot;: 0, &quot;Debug&quot;: 1}</td><td>/* Source and target column definitions are identical */</td></tr>",
                            "<tr><td>[Id]</td><td>SQL.NO_SOURCE</td><td>NULL</td><td>--&gt;</td><td>[Id] int NULL</td><td>int</td><td>4</td><td>NULL</td><td>10</td><td>NULL</td><td>0</td><td>NULL</td><td></td><td></td><td></td><td>{&quot;Perform DDL&quot;: 0, &quot;Debug&quot;: 1}</td><td>Column does not exist in source, exclude from target insert</td></tr>",
                            "</table>"
                        ]
                    }
                },
                {
                    "output_type": "execute_result",
                    "metadata": {},
                    "execution_count": 44,
                    "data": {
                        "application/vnd.dataresource+json": {
                            "schema": {
                                "fields": [
                                    {
                                        "name": "SqlCommand"
                                    }
                                ]
                            },
                            "data": [
                                {
                                    "SqlCommand": "insert into [dbo].[PersonRigid] ([FirstName], [LastName]) select [FirstName], convert( varchar(15), [LastName]) from [stage].[PersonD]"
                                }
                            ]
                        },
                        "text/html": [
                            "<table>",
                            "<tr><th>SqlCommand</th></tr>",
                            "<tr><td>insert into [dbo].[PersonRigid] ([FirstName], [LastName]) select [FirstName], convert( varchar(15), [LastName]) from [stage].[PersonD]</td></tr>",
                            "</table>"
                        ]
                    }
                },
                {
                    "output_type": "execute_result",
                    "metadata": {},
                    "execution_count": 44,
                    "data": {
                        "application/vnd.dataresource+json": {
                            "schema": {
                                "fields": [
                                    {
                                        "name": "ColumnName"
                                    },
                                    {
                                        "name": "ActionReason"
                                    },
                                    {
                                        "name": "srcColDefinition"
                                    },
                                    {
                                        "name": "Change"
                                    },
                                    {
                                        "name": "tgtColDefinition"
                                    },
                                    {
                                        "name": "tgtTypeName"
                                    },
                                    {
                                        "name": "tgtMaxStrLength"
                                    },
                                    {
                                        "name": "difMaxLength"
                                    },
                                    {
                                        "name": "tgtPrecision"
                                    },
                                    {
                                        "name": "difPrecision"
                                    },
                                    {
                                        "name": "tgtScale"
                                    },
                                    {
                                        "name": "difScale"
                                    },
                                    {
                                        "name": "SelectClauseNoDdl"
                                    },
                                    {
                                        "name": "DdlStmt"
                                    },
                                    {
                                        "name": "SelectClausePostDdl"
                                    },
                                    {
                                        "name": "Options"
                                    },
                                    {
                                        "name": "ActionMessage"
                                    }
                                ]
                            },
                            "data": [
                                {
                                    "ColumnName": "[MiddleName]",
                                    "ActionReason": "DDL.NO_DEST",
                                    "srcColDefinition": "[MiddleName] varchar(9) NULL",
                                    "Change": "-->",
                                    "tgtColDefinition": "NULL",
                                    "tgtTypeName": "NULL",
                                    "tgtMaxStrLength": "NULL",
                                    "difMaxLength": "NULL",
                                    "tgtPrecision": "NULL",
                                    "difPrecision": "NULL",
                                    "tgtScale": "NULL",
                                    "difScale": "NULL",
                                    "SelectClauseNoDdl": "",
                                    "DdlStmt": "alter table [dbo].[PersonRigid] add [MiddleName] varchar(9) NULL",
                                    "SelectClausePostDdl": "[MiddleName]",
                                    "Options": "{\"Perform DDL\": 0, \"Debug\": 1}",
                                    "ActionMessage": "Target column does not exist - either add it to the table or exclude it from the insert"
                                },
                                {
                                    "ColumnName": "[LastName]",
                                    "ActionReason": "DDL.SMALLER_STRING",
                                    "srcColDefinition": "[LastName] varchar(71) NULL",
                                    "Change": "-->",
                                    "tgtColDefinition": "[LastName] varchar(15) NULL",
                                    "tgtTypeName": "varchar",
                                    "tgtMaxStrLength": "15",
                                    "difMaxLength": "56",
                                    "tgtPrecision": "0",
                                    "difPrecision": "0",
                                    "tgtScale": "0",
                                    "difScale": "0",
                                    "SelectClauseNoDdl": "convert( varchar(15), [LastName])",
                                    "DdlStmt": "alter table [dbo].[PersonRigid] alter column [LastName] varchar(71) NULL",
                                    "SelectClausePostDdl": "[LastName]",
                                    "Options": "{\"Perform DDL\": 0, \"Debug\": 1}",
                                    "ActionMessage": "Target string is smaller than source - either alter target column or risk truncation"
                                },
                                {
                                    "ColumnName": "[FirstName]",
                                    "ActionReason": "RPT.SMALLER_SOURCE",
                                    "srcColDefinition": "[FirstName] varchar(8) NULL",
                                    "Change": "-->",
                                    "tgtColDefinition": "[FirstName] varchar(10) NULL",
                                    "tgtTypeName": "varchar",
                                    "tgtMaxStrLength": "10",
                                    "difMaxLength": "-2",
                                    "tgtPrecision": "0",
                                    "difPrecision": "0",
                                    "tgtScale": "0",
                                    "difScale": "0",
                                    "SelectClauseNoDdl": "[FirstName]",
                                    "DdlStmt": "",
                                    "SelectClausePostDdl": "[FirstName]",
                                    "Options": "{\"Perform DDL\": 0, \"Debug\": 1}",
                                    "ActionMessage": "/* Target column is of same base type but allows more data (ex. int -> bigint; varchar(50) -> varchar(100)) */"
                                },
                                {
                                    "ColumnName": "[Id]",
                                    "ActionReason": "SQL.NO_SOURCE",
                                    "srcColDefinition": "NULL",
                                    "Change": "-->",
                                    "tgtColDefinition": "[Id] int NULL",
                                    "tgtTypeName": "int",
                                    "tgtMaxStrLength": "4",
                                    "difMaxLength": "NULL",
                                    "tgtPrecision": "10",
                                    "difPrecision": "NULL",
                                    "tgtScale": "0",
                                    "difScale": "NULL",
                                    "SelectClauseNoDdl": "",
                                    "DdlStmt": "",
                                    "SelectClausePostDdl": "",
                                    "Options": "{\"Perform DDL\": 0, \"Debug\": 1}",
                                    "ActionMessage": "Column does not exist in source, exclude from target insert"
                                },
                                {
                                    "ColumnName": "[MiddleInitial]",
                                    "ActionReason": "SQL.NO_SOURCE",
                                    "srcColDefinition": "NULL",
                                    "Change": "-->",
                                    "tgtColDefinition": "[MiddleInitial] char(1) NULL",
                                    "tgtTypeName": "char",
                                    "tgtMaxStrLength": "1",
                                    "difMaxLength": "NULL",
                                    "tgtPrecision": "0",
                                    "difPrecision": "NULL",
                                    "tgtScale": "0",
                                    "difScale": "NULL",
                                    "SelectClauseNoDdl": "",
                                    "DdlStmt": "",
                                    "SelectClausePostDdl": "",
                                    "Options": "{\"Perform DDL\": 0, \"Debug\": 1}",
                                    "ActionMessage": "Column does not exist in source, exclude from target insert"
                                }
                            ]
                        },
                        "text/html": [
                            "<table>",
                            "<tr><th>ColumnName</th><th>ActionReason</th><th>srcColDefinition</th><th>Change</th><th>tgtColDefinition</th><th>tgtTypeName</th><th>tgtMaxStrLength</th><th>difMaxLength</th><th>tgtPrecision</th><th>difPrecision</th><th>tgtScale</th><th>difScale</th><th>SelectClauseNoDdl</th><th>DdlStmt</th><th>SelectClausePostDdl</th><th>Options</th><th>ActionMessage</th></tr>",
                            "<tr><td>[MiddleName]</td><td>DDL.NO_DEST</td><td>[MiddleName] varchar(9) NULL</td><td>--&gt;</td><td>NULL</td><td>NULL</td><td>NULL</td><td>NULL</td><td>NULL</td><td>NULL</td><td>NULL</td><td>NULL</td><td></td><td>alter table [dbo].[PersonRigid] add [MiddleName] varchar(9) NULL</td><td>[MiddleName]</td><td>{&quot;Perform DDL&quot;: 0, &quot;Debug&quot;: 1}</td><td>Target column does not exist - either add it to the table or exclude it from the insert</td></tr>",
                            "<tr><td>[LastName]</td><td>DDL.SMALLER_STRING</td><td>[LastName] varchar(71) NULL</td><td>--&gt;</td><td>[LastName] varchar(15) NULL</td><td>varchar</td><td>15</td><td>56</td><td>0</td><td>0</td><td>0</td><td>0</td><td>convert( varchar(15), [LastName])</td><td>alter table [dbo].[PersonRigid] alter column [LastName] varchar(71) NULL</td><td>[LastName]</td><td>{&quot;Perform DDL&quot;: 0, &quot;Debug&quot;: 1}</td><td>Target string is smaller than source - either alter target column or risk truncation</td></tr>",
                            "<tr><td>[FirstName]</td><td>RPT.SMALLER_SOURCE</td><td>[FirstName] varchar(8) NULL</td><td>--&gt;</td><td>[FirstName] varchar(10) NULL</td><td>varchar</td><td>10</td><td>-2</td><td>0</td><td>0</td><td>0</td><td>0</td><td>[FirstName]</td><td></td><td>[FirstName]</td><td>{&quot;Perform DDL&quot;: 0, &quot;Debug&quot;: 1}</td><td>/* Target column is of same base type but allows more data (ex. int -&gt; bigint; varchar(50) -&gt; varchar(100)) */</td></tr>",
                            "<tr><td>[Id]</td><td>SQL.NO_SOURCE</td><td>NULL</td><td>--&gt;</td><td>[Id] int NULL</td><td>int</td><td>4</td><td>NULL</td><td>10</td><td>NULL</td><td>0</td><td>NULL</td><td></td><td></td><td></td><td>{&quot;Perform DDL&quot;: 0, &quot;Debug&quot;: 1}</td><td>Column does not exist in source, exclude from target insert</td></tr>",
                            "<tr><td>[MiddleInitial]</td><td>SQL.NO_SOURCE</td><td>NULL</td><td>--&gt;</td><td>[MiddleInitial] char(1) NULL</td><td>char</td><td>1</td><td>NULL</td><td>0</td><td>NULL</td><td>0</td><td>NULL</td><td></td><td></td><td></td><td>{&quot;Perform DDL&quot;: 0, &quot;Debug&quot;: 1}</td><td>Column does not exist in source, exclude from target insert</td></tr>",
                            "</table>"
                        ]
                    }
                },
                {
                    "output_type": "execute_result",
                    "metadata": {},
                    "execution_count": 44,
                    "data": {
                        "application/vnd.dataresource+json": {
                            "schema": {
                                "fields": [
                                    {
                                        "name": "SqlCommand"
                                    }
                                ]
                            },
                            "data": [
                                {
                                    "SqlCommand": "insert into [dbo].[PersonRigid] ([FirstName], [LastName]) select convert( varchar(10), [FirstName]), convert( varchar(15), [LastName]) from [stage].[PersonE]"
                                }
                            ]
                        },
                        "text/html": [
                            "<table>",
                            "<tr><th>SqlCommand</th></tr>",
                            "<tr><td>insert into [dbo].[PersonRigid] ([FirstName], [LastName]) select convert( varchar(10), [FirstName]), convert( varchar(15), [LastName]) from [stage].[PersonE]</td></tr>",
                            "</table>"
                        ]
                    }
                },
                {
                    "output_type": "execute_result",
                    "metadata": {},
                    "execution_count": 44,
                    "data": {
                        "application/vnd.dataresource+json": {
                            "schema": {
                                "fields": [
                                    {
                                        "name": "ColumnName"
                                    },
                                    {
                                        "name": "ActionReason"
                                    },
                                    {
                                        "name": "srcColDefinition"
                                    },
                                    {
                                        "name": "Change"
                                    },
                                    {
                                        "name": "tgtColDefinition"
                                    },
                                    {
                                        "name": "tgtTypeName"
                                    },
                                    {
                                        "name": "tgtMaxStrLength"
                                    },
                                    {
                                        "name": "difMaxLength"
                                    },
                                    {
                                        "name": "tgtPrecision"
                                    },
                                    {
                                        "name": "difPrecision"
                                    },
                                    {
                                        "name": "tgtScale"
                                    },
                                    {
                                        "name": "difScale"
                                    },
                                    {
                                        "name": "SelectClauseNoDdl"
                                    },
                                    {
                                        "name": "DdlStmt"
                                    },
                                    {
                                        "name": "SelectClausePostDdl"
                                    },
                                    {
                                        "name": "Options"
                                    },
                                    {
                                        "name": "ActionMessage"
                                    }
                                ]
                            },
                            "data": [
                                {
                                    "ColumnName": "[MiddleName]",
                                    "ActionReason": "DDL.NO_DEST",
                                    "srcColDefinition": "[MiddleName] nvarchar(7) NULL",
                                    "Change": "-->",
                                    "tgtColDefinition": "NULL",
                                    "tgtTypeName": "NULL",
                                    "tgtMaxStrLength": "NULL",
                                    "difMaxLength": "NULL",
                                    "tgtPrecision": "NULL",
                                    "difPrecision": "NULL",
                                    "tgtScale": "NULL",
                                    "difScale": "NULL",
                                    "SelectClauseNoDdl": "",
                                    "DdlStmt": "alter table [dbo].[PersonRigid] add [MiddleName] nvarchar(7) NULL",
                                    "SelectClausePostDdl": "[MiddleName]",
                                    "Options": "{\"Perform DDL\": 0, \"Debug\": 1}",
                                    "ActionMessage": "Target column does not exist - either add it to the table or exclude it from the insert"
                                },
                                {
                                    "ColumnName": "[FirstName]",
                                    "ActionReason": "DDL.UNICODE_TO_ASCII",
                                    "srcColDefinition": "[FirstName] nvarchar(8) NULL",
                                    "Change": "-->",
                                    "tgtColDefinition": "[FirstName] varchar(10) NULL",
                                    "tgtTypeName": "varchar",
                                    "tgtMaxStrLength": "10",
                                    "difMaxLength": "-2",
                                    "tgtPrecision": "0",
                                    "difPrecision": "0",
                                    "tgtScale": "0",
                                    "difScale": "0",
                                    "SelectClauseNoDdl": "convert( varchar(10), [FirstName])",
                                    "DdlStmt": "alter table [dbo].[PersonRigid] alter column [FirstName] nvarchar(10) NULL",
                                    "SelectClausePostDdl": "[FirstName]",
                                    "Options": "{\"Perform DDL\": 0, \"Debug\": 1}",
                                    "ActionMessage": "Source column is unicode but target is ASCII - either alter target column or perform cast and risk data loss"
                                },
                                {
                                    "ColumnName": "[LastName]",
                                    "ActionReason": "DDL.UNICODE_TO_ASCII",
                                    "srcColDefinition": "[LastName] nvarchar(7) NULL",
                                    "Change": "-->",
                                    "tgtColDefinition": "[LastName] varchar(15) NULL",
                                    "tgtTypeName": "varchar",
                                    "tgtMaxStrLength": "15",
                                    "difMaxLength": "-8",
                                    "tgtPrecision": "0",
                                    "difPrecision": "0",
                                    "tgtScale": "0",
                                    "difScale": "0",
                                    "SelectClauseNoDdl": "convert( varchar(15), [LastName])",
                                    "DdlStmt": "alter table [dbo].[PersonRigid] alter column [LastName] nvarchar(15) NULL",
                                    "SelectClausePostDdl": "[LastName]",
                                    "Options": "{\"Perform DDL\": 0, \"Debug\": 1}",
                                    "ActionMessage": "Source column is unicode but target is ASCII - either alter target column or perform cast and risk data loss"
                                },
                                {
                                    "ColumnName": "[Id]",
                                    "ActionReason": "SQL.NO_SOURCE",
                                    "srcColDefinition": "NULL",
                                    "Change": "-->",
                                    "tgtColDefinition": "[Id] int NULL",
                                    "tgtTypeName": "int",
                                    "tgtMaxStrLength": "4",
                                    "difMaxLength": "NULL",
                                    "tgtPrecision": "10",
                                    "difPrecision": "NULL",
                                    "tgtScale": "0",
                                    "difScale": "NULL",
                                    "SelectClauseNoDdl": "",
                                    "DdlStmt": "",
                                    "SelectClausePostDdl": "",
                                    "Options": "{\"Perform DDL\": 0, \"Debug\": 1}",
                                    "ActionMessage": "Column does not exist in source, exclude from target insert"
                                },
                                {
                                    "ColumnName": "[MiddleInitial]",
                                    "ActionReason": "SQL.NO_SOURCE",
                                    "srcColDefinition": "NULL",
                                    "Change": "-->",
                                    "tgtColDefinition": "[MiddleInitial] char(1) NULL",
                                    "tgtTypeName": "char",
                                    "tgtMaxStrLength": "1",
                                    "difMaxLength": "NULL",
                                    "tgtPrecision": "0",
                                    "difPrecision": "NULL",
                                    "tgtScale": "0",
                                    "difScale": "NULL",
                                    "SelectClauseNoDdl": "",
                                    "DdlStmt": "",
                                    "SelectClausePostDdl": "",
                                    "Options": "{\"Perform DDL\": 0, \"Debug\": 1}",
                                    "ActionMessage": "Column does not exist in source, exclude from target insert"
                                }
                            ]
                        },
                        "text/html": [
                            "<table>",
                            "<tr><th>ColumnName</th><th>ActionReason</th><th>srcColDefinition</th><th>Change</th><th>tgtColDefinition</th><th>tgtTypeName</th><th>tgtMaxStrLength</th><th>difMaxLength</th><th>tgtPrecision</th><th>difPrecision</th><th>tgtScale</th><th>difScale</th><th>SelectClauseNoDdl</th><th>DdlStmt</th><th>SelectClausePostDdl</th><th>Options</th><th>ActionMessage</th></tr>",
                            "<tr><td>[MiddleName]</td><td>DDL.NO_DEST</td><td>[MiddleName] nvarchar(7) NULL</td><td>--&gt;</td><td>NULL</td><td>NULL</td><td>NULL</td><td>NULL</td><td>NULL</td><td>NULL</td><td>NULL</td><td>NULL</td><td></td><td>alter table [dbo].[PersonRigid] add [MiddleName] nvarchar(7) NULL</td><td>[MiddleName]</td><td>{&quot;Perform DDL&quot;: 0, &quot;Debug&quot;: 1}</td><td>Target column does not exist - either add it to the table or exclude it from the insert</td></tr>",
                            "<tr><td>[FirstName]</td><td>DDL.UNICODE_TO_ASCII</td><td>[FirstName] nvarchar(8) NULL</td><td>--&gt;</td><td>[FirstName] varchar(10) NULL</td><td>varchar</td><td>10</td><td>-2</td><td>0</td><td>0</td><td>0</td><td>0</td><td>convert( varchar(10), [FirstName])</td><td>alter table [dbo].[PersonRigid] alter column [FirstName] nvarchar(10) NULL</td><td>[FirstName]</td><td>{&quot;Perform DDL&quot;: 0, &quot;Debug&quot;: 1}</td><td>Source column is unicode but target is ASCII - either alter target column or perform cast and risk data loss</td></tr>",
                            "<tr><td>[LastName]</td><td>DDL.UNICODE_TO_ASCII</td><td>[LastName] nvarchar(7) NULL</td><td>--&gt;</td><td>[LastName] varchar(15) NULL</td><td>varchar</td><td>15</td><td>-8</td><td>0</td><td>0</td><td>0</td><td>0</td><td>convert( varchar(15), [LastName])</td><td>alter table [dbo].[PersonRigid] alter column [LastName] nvarchar(15) NULL</td><td>[LastName]</td><td>{&quot;Perform DDL&quot;: 0, &quot;Debug&quot;: 1}</td><td>Source column is unicode but target is ASCII - either alter target column or perform cast and risk data loss</td></tr>",
                            "<tr><td>[Id]</td><td>SQL.NO_SOURCE</td><td>NULL</td><td>--&gt;</td><td>[Id] int NULL</td><td>int</td><td>4</td><td>NULL</td><td>10</td><td>NULL</td><td>0</td><td>NULL</td><td></td><td></td><td></td><td>{&quot;Perform DDL&quot;: 0, &quot;Debug&quot;: 1}</td><td>Column does not exist in source, exclude from target insert</td></tr>",
                            "<tr><td>[MiddleInitial]</td><td>SQL.NO_SOURCE</td><td>NULL</td><td>--&gt;</td><td>[MiddleInitial] char(1) NULL</td><td>char</td><td>1</td><td>NULL</td><td>0</td><td>NULL</td><td>0</td><td>NULL</td><td></td><td></td><td></td><td>{&quot;Perform DDL&quot;: 0, &quot;Debug&quot;: 1}</td><td>Column does not exist in source, exclude from target insert</td></tr>",
                            "</table>"
                        ]
                    }
                }
            ],
            "execution_count": 44
        },
        {
            "cell_type": "markdown",
            "source": [
                "## `uspConformTable` results for the various stage tables\n",
                "\n",
                "### PersonFlexible - Perform DDL = 1"
            ],
            "metadata": {
                "language": "sql",
                "azdata_cell_guid": "78e85dde-005d-4105-9988-8539fc0a8455"
            },
            "attachments": {}
        },
        {
            "cell_type": "code",
            "source": [
                "exec uspConformTable 'stage', 'PersonA', 'dbo', 'PersonFlexible', '{\"Perform DDL\": 1, \"Debug\": 1}'\r\n",
                "exec uspConformTable 'stage', 'PersonB', 'dbo', 'PersonFlexible', '{\"Perform DDL\": 1, \"Debug\": 1}'\r\n",
                "exec uspConformTable 'stage', 'PersonC', 'dbo', 'PersonFlexible', '{\"Perform DDL\": 1, \"Debug\": 1}'\r\n",
                "exec uspConformTable 'stage', 'PersonD', 'dbo', 'PersonFlexible', '{\"Perform DDL\": 1, \"Debug\": 1}'\r\n",
                "exec uspConformTable 'stage', 'PersonE', 'dbo', 'PersonFlexible', '{\"Perform DDL\": 1, \"Debug\": 1}'\r\n",
                ""
            ],
            "metadata": {
                "language": "sql",
                "azdata_cell_guid": "91ab8ebe-3126-4c98-aa02-b2d58e4a4b47"
            },
            "outputs": [
                {
                    "output_type": "display_data",
                    "data": {
                        "text/html": "Commands completed successfully."
                    },
                    "metadata": {}
                },
                {
                    "output_type": "display_data",
                    "data": {
                        "text/html": "Total execution time: 00:00:00.116"
                    },
                    "metadata": {}
                },
                {
                    "output_type": "execute_result",
                    "metadata": {},
                    "execution_count": 45,
                    "data": {
                        "application/vnd.dataresource+json": {
                            "schema": {
                                "fields": [
                                    {
                                        "name": "DebugMsg"
                                    },
                                    {
                                        "name": "id"
                                    },
                                    {
                                        "name": "ddl"
                                    },
                                    {
                                        "name": "SchemaName"
                                    },
                                    {
                                        "name": "TableName"
                                    },
                                    {
                                        "name": "ColumnName"
                                    },
                                    {
                                        "name": "PriorDefinition"
                                    },
                                    {
                                        "name": "Definition"
                                    },
                                    {
                                        "name": "ActionReason"
                                    }
                                ]
                            },
                            "data": []
                        },
                        "text/html": [
                            "<table>",
                            "<tr><th>DebugMsg</th><th>id</th><th>ddl</th><th>SchemaName</th><th>TableName</th><th>ColumnName</th><th>PriorDefinition</th><th>Definition</th><th>ActionReason</th></tr>",
                            "</table>"
                        ]
                    }
                },
                {
                    "output_type": "execute_result",
                    "metadata": {},
                    "execution_count": 45,
                    "data": {
                        "application/vnd.dataresource+json": {
                            "schema": {
                                "fields": [
                                    {
                                        "name": "SqlCommand"
                                    }
                                ]
                            },
                            "data": [
                                {
                                    "SqlCommand": "insert into [dbo].[PersonFlexible] ([FirstName], [MiddleInitial], [LastName]) select [FirstName], [MiddleInitial], [LastName] from [stage].[PersonA]"
                                }
                            ]
                        },
                        "text/html": [
                            "<table>",
                            "<tr><th>SqlCommand</th></tr>",
                            "<tr><td>insert into [dbo].[PersonFlexible] ([FirstName], [MiddleInitial], [LastName]) select [FirstName], [MiddleInitial], [LastName] from [stage].[PersonA]</td></tr>",
                            "</table>"
                        ]
                    }
                },
                {
                    "output_type": "execute_result",
                    "metadata": {},
                    "execution_count": 45,
                    "data": {
                        "application/vnd.dataresource+json": {
                            "schema": {
                                "fields": [
                                    {
                                        "name": "ColumnName"
                                    },
                                    {
                                        "name": "ActionReason"
                                    },
                                    {
                                        "name": "srcColDefinition"
                                    },
                                    {
                                        "name": "Change"
                                    },
                                    {
                                        "name": "tgtColDefinition"
                                    },
                                    {
                                        "name": "tgtTypeName"
                                    },
                                    {
                                        "name": "tgtMaxStrLength"
                                    },
                                    {
                                        "name": "difMaxLength"
                                    },
                                    {
                                        "name": "tgtPrecision"
                                    },
                                    {
                                        "name": "difPrecision"
                                    },
                                    {
                                        "name": "tgtScale"
                                    },
                                    {
                                        "name": "difScale"
                                    },
                                    {
                                        "name": "SelectClauseNoDdl"
                                    },
                                    {
                                        "name": "DdlStmt"
                                    },
                                    {
                                        "name": "SelectClausePostDdl"
                                    },
                                    {
                                        "name": "Options"
                                    },
                                    {
                                        "name": "ActionMessage"
                                    }
                                ]
                            },
                            "data": [
                                {
                                    "ColumnName": "[FirstName]",
                                    "ActionReason": "RPT.SAME",
                                    "srcColDefinition": "[FirstName] varchar(10) NULL",
                                    "Change": "-->",
                                    "tgtColDefinition": "[FirstName] varchar(10) NULL",
                                    "tgtTypeName": "varchar",
                                    "tgtMaxStrLength": "10",
                                    "difMaxLength": "0",
                                    "tgtPrecision": "0",
                                    "difPrecision": "0",
                                    "tgtScale": "0",
                                    "difScale": "0",
                                    "SelectClauseNoDdl": "[FirstName]",
                                    "DdlStmt": "",
                                    "SelectClausePostDdl": "[FirstName]",
                                    "Options": "{\"Perform DDL\": 1, \"Debug\": 1}",
                                    "ActionMessage": "/* Source and target column definitions are identical */"
                                },
                                {
                                    "ColumnName": "[LastName]",
                                    "ActionReason": "RPT.SAME",
                                    "srcColDefinition": "[LastName] varchar(15) NULL",
                                    "Change": "-->",
                                    "tgtColDefinition": "[LastName] varchar(15) NULL",
                                    "tgtTypeName": "varchar",
                                    "tgtMaxStrLength": "15",
                                    "difMaxLength": "0",
                                    "tgtPrecision": "0",
                                    "difPrecision": "0",
                                    "tgtScale": "0",
                                    "difScale": "0",
                                    "SelectClauseNoDdl": "[LastName]",
                                    "DdlStmt": "",
                                    "SelectClausePostDdl": "[LastName]",
                                    "Options": "{\"Perform DDL\": 1, \"Debug\": 1}",
                                    "ActionMessage": "/* Source and target column definitions are identical */"
                                },
                                {
                                    "ColumnName": "[MiddleInitial]",
                                    "ActionReason": "RPT.SAME",
                                    "srcColDefinition": "[MiddleInitial] char(1) NULL",
                                    "Change": "-->",
                                    "tgtColDefinition": "[MiddleInitial] char(1) NULL",
                                    "tgtTypeName": "char",
                                    "tgtMaxStrLength": "1",
                                    "difMaxLength": "0",
                                    "tgtPrecision": "0",
                                    "difPrecision": "0",
                                    "tgtScale": "0",
                                    "difScale": "0",
                                    "SelectClauseNoDdl": "[MiddleInitial]",
                                    "DdlStmt": "",
                                    "SelectClausePostDdl": "[MiddleInitial]",
                                    "Options": "{\"Perform DDL\": 1, \"Debug\": 1}",
                                    "ActionMessage": "/* Source and target column definitions are identical */"
                                },
                                {
                                    "ColumnName": "[Id]",
                                    "ActionReason": "SQL.NO_SOURCE",
                                    "srcColDefinition": "NULL",
                                    "Change": "-->",
                                    "tgtColDefinition": "[Id] int NULL",
                                    "tgtTypeName": "int",
                                    "tgtMaxStrLength": "4",
                                    "difMaxLength": "NULL",
                                    "tgtPrecision": "10",
                                    "difPrecision": "NULL",
                                    "tgtScale": "0",
                                    "difScale": "NULL",
                                    "SelectClauseNoDdl": "",
                                    "DdlStmt": "",
                                    "SelectClausePostDdl": "",
                                    "Options": "{\"Perform DDL\": 1, \"Debug\": 1}",
                                    "ActionMessage": "Column does not exist in source, exclude from target insert"
                                }
                            ]
                        },
                        "text/html": [
                            "<table>",
                            "<tr><th>ColumnName</th><th>ActionReason</th><th>srcColDefinition</th><th>Change</th><th>tgtColDefinition</th><th>tgtTypeName</th><th>tgtMaxStrLength</th><th>difMaxLength</th><th>tgtPrecision</th><th>difPrecision</th><th>tgtScale</th><th>difScale</th><th>SelectClauseNoDdl</th><th>DdlStmt</th><th>SelectClausePostDdl</th><th>Options</th><th>ActionMessage</th></tr>",
                            "<tr><td>[FirstName]</td><td>RPT.SAME</td><td>[FirstName] varchar(10) NULL</td><td>--&gt;</td><td>[FirstName] varchar(10) NULL</td><td>varchar</td><td>10</td><td>0</td><td>0</td><td>0</td><td>0</td><td>0</td><td>[FirstName]</td><td></td><td>[FirstName]</td><td>{&quot;Perform DDL&quot;: 1, &quot;Debug&quot;: 1}</td><td>/* Source and target column definitions are identical */</td></tr>",
                            "<tr><td>[LastName]</td><td>RPT.SAME</td><td>[LastName] varchar(15) NULL</td><td>--&gt;</td><td>[LastName] varchar(15) NULL</td><td>varchar</td><td>15</td><td>0</td><td>0</td><td>0</td><td>0</td><td>0</td><td>[LastName]</td><td></td><td>[LastName]</td><td>{&quot;Perform DDL&quot;: 1, &quot;Debug&quot;: 1}</td><td>/* Source and target column definitions are identical */</td></tr>",
                            "<tr><td>[MiddleInitial]</td><td>RPT.SAME</td><td>[MiddleInitial] char(1) NULL</td><td>--&gt;</td><td>[MiddleInitial] char(1) NULL</td><td>char</td><td>1</td><td>0</td><td>0</td><td>0</td><td>0</td><td>0</td><td>[MiddleInitial]</td><td></td><td>[MiddleInitial]</td><td>{&quot;Perform DDL&quot;: 1, &quot;Debug&quot;: 1}</td><td>/* Source and target column definitions are identical */</td></tr>",
                            "<tr><td>[Id]</td><td>SQL.NO_SOURCE</td><td>NULL</td><td>--&gt;</td><td>[Id] int NULL</td><td>int</td><td>4</td><td>NULL</td><td>10</td><td>NULL</td><td>0</td><td>NULL</td><td></td><td></td><td></td><td>{&quot;Perform DDL&quot;: 1, &quot;Debug&quot;: 1}</td><td>Column does not exist in source, exclude from target insert</td></tr>",
                            "</table>"
                        ]
                    }
                },
                {
                    "output_type": "execute_result",
                    "metadata": {},
                    "execution_count": 45,
                    "data": {
                        "application/vnd.dataresource+json": {
                            "schema": {
                                "fields": [
                                    {
                                        "name": "DebugMsg"
                                    },
                                    {
                                        "name": "id"
                                    },
                                    {
                                        "name": "ddl"
                                    },
                                    {
                                        "name": "SchemaName"
                                    },
                                    {
                                        "name": "TableName"
                                    },
                                    {
                                        "name": "ColumnName"
                                    },
                                    {
                                        "name": "PriorDefinition"
                                    },
                                    {
                                        "name": "Definition"
                                    },
                                    {
                                        "name": "ActionReason"
                                    }
                                ]
                            },
                            "data": [
                                {
                                    "DebugMsg": "DDL command to execute",
                                    "id": "1",
                                    "ddl": "alter table [dbo].[PersonFlexible] alter column [FirstName] varchar(20) NULL",
                                    "SchemaName": "dbo",
                                    "TableName": "PersonFlexible",
                                    "ColumnName": "[FirstName]",
                                    "PriorDefinition": "[FirstName] varchar(10) NULL",
                                    "Definition": "[FirstName] varchar(20) NULL",
                                    "ActionReason": "DDL.SMALLER_STRING"
                                },
                                {
                                    "DebugMsg": "DDL command to execute",
                                    "id": "3",
                                    "ddl": "alter table [dbo].[PersonFlexible] alter column [LastName] varchar(25) NULL",
                                    "SchemaName": "dbo",
                                    "TableName": "PersonFlexible",
                                    "ColumnName": "[LastName]",
                                    "PriorDefinition": "[LastName] varchar(15) NULL",
                                    "Definition": "[LastName] varchar(25) NULL",
                                    "ActionReason": "DDL.SMALLER_STRING"
                                }
                            ]
                        },
                        "text/html": [
                            "<table>",
                            "<tr><th>DebugMsg</th><th>id</th><th>ddl</th><th>SchemaName</th><th>TableName</th><th>ColumnName</th><th>PriorDefinition</th><th>Definition</th><th>ActionReason</th></tr>",
                            "<tr><td>DDL command to execute</td><td>1</td><td>alter table [dbo].[PersonFlexible] alter column [FirstName] varchar(20) NULL</td><td>dbo</td><td>PersonFlexible</td><td>[FirstName]</td><td>[FirstName] varchar(10) NULL</td><td>[FirstName] varchar(20) NULL</td><td>DDL.SMALLER_STRING</td></tr>",
                            "<tr><td>DDL command to execute</td><td>3</td><td>alter table [dbo].[PersonFlexible] alter column [LastName] varchar(25) NULL</td><td>dbo</td><td>PersonFlexible</td><td>[LastName]</td><td>[LastName] varchar(15) NULL</td><td>[LastName] varchar(25) NULL</td><td>DDL.SMALLER_STRING</td></tr>",
                            "</table>"
                        ]
                    }
                },
                {
                    "output_type": "execute_result",
                    "metadata": {},
                    "execution_count": 45,
                    "data": {
                        "application/vnd.dataresource+json": {
                            "schema": {
                                "fields": [
                                    {
                                        "name": "SqlCommand"
                                    }
                                ]
                            },
                            "data": [
                                {
                                    "SqlCommand": "insert into [dbo].[PersonFlexible] ([FirstName], [MiddleInitial], [LastName]) select [FirstName], [MiddleInitial], [LastName] from [stage].[PersonB]"
                                }
                            ]
                        },
                        "text/html": [
                            "<table>",
                            "<tr><th>SqlCommand</th></tr>",
                            "<tr><td>insert into [dbo].[PersonFlexible] ([FirstName], [MiddleInitial], [LastName]) select [FirstName], [MiddleInitial], [LastName] from [stage].[PersonB]</td></tr>",
                            "</table>"
                        ]
                    }
                },
                {
                    "output_type": "execute_result",
                    "metadata": {},
                    "execution_count": 45,
                    "data": {
                        "application/vnd.dataresource+json": {
                            "schema": {
                                "fields": [
                                    {
                                        "name": "ColumnName"
                                    },
                                    {
                                        "name": "ActionReason"
                                    },
                                    {
                                        "name": "srcColDefinition"
                                    },
                                    {
                                        "name": "Change"
                                    },
                                    {
                                        "name": "tgtColDefinition"
                                    },
                                    {
                                        "name": "tgtTypeName"
                                    },
                                    {
                                        "name": "tgtMaxStrLength"
                                    },
                                    {
                                        "name": "difMaxLength"
                                    },
                                    {
                                        "name": "tgtPrecision"
                                    },
                                    {
                                        "name": "difPrecision"
                                    },
                                    {
                                        "name": "tgtScale"
                                    },
                                    {
                                        "name": "difScale"
                                    },
                                    {
                                        "name": "SelectClauseNoDdl"
                                    },
                                    {
                                        "name": "DdlStmt"
                                    },
                                    {
                                        "name": "SelectClausePostDdl"
                                    },
                                    {
                                        "name": "Options"
                                    },
                                    {
                                        "name": "ActionMessage"
                                    }
                                ]
                            },
                            "data": [
                                {
                                    "ColumnName": "[FirstName]",
                                    "ActionReason": "DDL.SMALLER_STRING",
                                    "srcColDefinition": "[FirstName] varchar(20) NULL",
                                    "Change": "-->",
                                    "tgtColDefinition": "[FirstName] varchar(10) NULL",
                                    "tgtTypeName": "varchar",
                                    "tgtMaxStrLength": "10",
                                    "difMaxLength": "10",
                                    "tgtPrecision": "0",
                                    "difPrecision": "0",
                                    "tgtScale": "0",
                                    "difScale": "0",
                                    "SelectClauseNoDdl": "convert( varchar(10), [FirstName])",
                                    "DdlStmt": "alter table [dbo].[PersonFlexible] alter column [FirstName] varchar(20) NULL",
                                    "SelectClausePostDdl": "[FirstName]",
                                    "Options": "{\"Perform DDL\": 1, \"Debug\": 1}",
                                    "ActionMessage": "Target string is smaller than source - either alter target column or risk truncation"
                                },
                                {
                                    "ColumnName": "[LastName]",
                                    "ActionReason": "DDL.SMALLER_STRING",
                                    "srcColDefinition": "[LastName] varchar(25) NULL",
                                    "Change": "-->",
                                    "tgtColDefinition": "[LastName] varchar(15) NULL",
                                    "tgtTypeName": "varchar",
                                    "tgtMaxStrLength": "15",
                                    "difMaxLength": "10",
                                    "tgtPrecision": "0",
                                    "difPrecision": "0",
                                    "tgtScale": "0",
                                    "difScale": "0",
                                    "SelectClauseNoDdl": "convert( varchar(15), [LastName])",
                                    "DdlStmt": "alter table [dbo].[PersonFlexible] alter column [LastName] varchar(25) NULL",
                                    "SelectClausePostDdl": "[LastName]",
                                    "Options": "{\"Perform DDL\": 1, \"Debug\": 1}",
                                    "ActionMessage": "Target string is smaller than source - either alter target column or risk truncation"
                                },
                                {
                                    "ColumnName": "[MiddleInitial]",
                                    "ActionReason": "RPT.SAME",
                                    "srcColDefinition": "[MiddleInitial] char(1) NULL",
                                    "Change": "-->",
                                    "tgtColDefinition": "[MiddleInitial] char(1) NULL",
                                    "tgtTypeName": "char",
                                    "tgtMaxStrLength": "1",
                                    "difMaxLength": "0",
                                    "tgtPrecision": "0",
                                    "difPrecision": "0",
                                    "tgtScale": "0",
                                    "difScale": "0",
                                    "SelectClauseNoDdl": "[MiddleInitial]",
                                    "DdlStmt": "",
                                    "SelectClausePostDdl": "[MiddleInitial]",
                                    "Options": "{\"Perform DDL\": 1, \"Debug\": 1}",
                                    "ActionMessage": "/* Source and target column definitions are identical */"
                                },
                                {
                                    "ColumnName": "[Id]",
                                    "ActionReason": "SQL.NO_SOURCE",
                                    "srcColDefinition": "NULL",
                                    "Change": "-->",
                                    "tgtColDefinition": "[Id] int NULL",
                                    "tgtTypeName": "int",
                                    "tgtMaxStrLength": "4",
                                    "difMaxLength": "NULL",
                                    "tgtPrecision": "10",
                                    "difPrecision": "NULL",
                                    "tgtScale": "0",
                                    "difScale": "NULL",
                                    "SelectClauseNoDdl": "",
                                    "DdlStmt": "",
                                    "SelectClausePostDdl": "",
                                    "Options": "{\"Perform DDL\": 1, \"Debug\": 1}",
                                    "ActionMessage": "Column does not exist in source, exclude from target insert"
                                }
                            ]
                        },
                        "text/html": [
                            "<table>",
                            "<tr><th>ColumnName</th><th>ActionReason</th><th>srcColDefinition</th><th>Change</th><th>tgtColDefinition</th><th>tgtTypeName</th><th>tgtMaxStrLength</th><th>difMaxLength</th><th>tgtPrecision</th><th>difPrecision</th><th>tgtScale</th><th>difScale</th><th>SelectClauseNoDdl</th><th>DdlStmt</th><th>SelectClausePostDdl</th><th>Options</th><th>ActionMessage</th></tr>",
                            "<tr><td>[FirstName]</td><td>DDL.SMALLER_STRING</td><td>[FirstName] varchar(20) NULL</td><td>--&gt;</td><td>[FirstName] varchar(10) NULL</td><td>varchar</td><td>10</td><td>10</td><td>0</td><td>0</td><td>0</td><td>0</td><td>convert( varchar(10), [FirstName])</td><td>alter table [dbo].[PersonFlexible] alter column [FirstName] varchar(20) NULL</td><td>[FirstName]</td><td>{&quot;Perform DDL&quot;: 1, &quot;Debug&quot;: 1}</td><td>Target string is smaller than source - either alter target column or risk truncation</td></tr>",
                            "<tr><td>[LastName]</td><td>DDL.SMALLER_STRING</td><td>[LastName] varchar(25) NULL</td><td>--&gt;</td><td>[LastName] varchar(15) NULL</td><td>varchar</td><td>15</td><td>10</td><td>0</td><td>0</td><td>0</td><td>0</td><td>convert( varchar(15), [LastName])</td><td>alter table [dbo].[PersonFlexible] alter column [LastName] varchar(25) NULL</td><td>[LastName]</td><td>{&quot;Perform DDL&quot;: 1, &quot;Debug&quot;: 1}</td><td>Target string is smaller than source - either alter target column or risk truncation</td></tr>",
                            "<tr><td>[MiddleInitial]</td><td>RPT.SAME</td><td>[MiddleInitial] char(1) NULL</td><td>--&gt;</td><td>[MiddleInitial] char(1) NULL</td><td>char</td><td>1</td><td>0</td><td>0</td><td>0</td><td>0</td><td>0</td><td>[MiddleInitial]</td><td></td><td>[MiddleInitial]</td><td>{&quot;Perform DDL&quot;: 1, &quot;Debug&quot;: 1}</td><td>/* Source and target column definitions are identical */</td></tr>",
                            "<tr><td>[Id]</td><td>SQL.NO_SOURCE</td><td>NULL</td><td>--&gt;</td><td>[Id] int NULL</td><td>int</td><td>4</td><td>NULL</td><td>10</td><td>NULL</td><td>0</td><td>NULL</td><td></td><td></td><td></td><td>{&quot;Perform DDL&quot;: 1, &quot;Debug&quot;: 1}</td><td>Column does not exist in source, exclude from target insert</td></tr>",
                            "</table>"
                        ]
                    }
                },
                {
                    "output_type": "execute_result",
                    "metadata": {},
                    "execution_count": 45,
                    "data": {
                        "application/vnd.dataresource+json": {
                            "schema": {
                                "fields": [
                                    {
                                        "name": "DebugMsg"
                                    },
                                    {
                                        "name": "id"
                                    },
                                    {
                                        "name": "ddl"
                                    },
                                    {
                                        "name": "SchemaName"
                                    },
                                    {
                                        "name": "TableName"
                                    },
                                    {
                                        "name": "ColumnName"
                                    },
                                    {
                                        "name": "PriorDefinition"
                                    },
                                    {
                                        "name": "Definition"
                                    },
                                    {
                                        "name": "ActionReason"
                                    }
                                ]
                            },
                            "data": []
                        },
                        "text/html": [
                            "<table>",
                            "<tr><th>DebugMsg</th><th>id</th><th>ddl</th><th>SchemaName</th><th>TableName</th><th>ColumnName</th><th>PriorDefinition</th><th>Definition</th><th>ActionReason</th></tr>",
                            "</table>"
                        ]
                    }
                },
                {
                    "output_type": "execute_result",
                    "metadata": {},
                    "execution_count": 45,
                    "data": {
                        "application/vnd.dataresource+json": {
                            "schema": {
                                "fields": [
                                    {
                                        "name": "SqlCommand"
                                    }
                                ]
                            },
                            "data": [
                                {
                                    "SqlCommand": "insert into [dbo].[PersonFlexible] ([FirstName], [MiddleInitial], [LastName]) select [FirstName], [MiddleInitial], [LastName] from [stage].[PersonC]"
                                }
                            ]
                        },
                        "text/html": [
                            "<table>",
                            "<tr><th>SqlCommand</th></tr>",
                            "<tr><td>insert into [dbo].[PersonFlexible] ([FirstName], [MiddleInitial], [LastName]) select [FirstName], [MiddleInitial], [LastName] from [stage].[PersonC]</td></tr>",
                            "</table>"
                        ]
                    }
                },
                {
                    "output_type": "execute_result",
                    "metadata": {},
                    "execution_count": 45,
                    "data": {
                        "application/vnd.dataresource+json": {
                            "schema": {
                                "fields": [
                                    {
                                        "name": "ColumnName"
                                    },
                                    {
                                        "name": "ActionReason"
                                    },
                                    {
                                        "name": "srcColDefinition"
                                    },
                                    {
                                        "name": "Change"
                                    },
                                    {
                                        "name": "tgtColDefinition"
                                    },
                                    {
                                        "name": "tgtTypeName"
                                    },
                                    {
                                        "name": "tgtMaxStrLength"
                                    },
                                    {
                                        "name": "difMaxLength"
                                    },
                                    {
                                        "name": "tgtPrecision"
                                    },
                                    {
                                        "name": "difPrecision"
                                    },
                                    {
                                        "name": "tgtScale"
                                    },
                                    {
                                        "name": "difScale"
                                    },
                                    {
                                        "name": "SelectClauseNoDdl"
                                    },
                                    {
                                        "name": "DdlStmt"
                                    },
                                    {
                                        "name": "SelectClausePostDdl"
                                    },
                                    {
                                        "name": "Options"
                                    },
                                    {
                                        "name": "ActionMessage"
                                    }
                                ]
                            },
                            "data": [
                                {
                                    "ColumnName": "[FirstName]",
                                    "ActionReason": "RPT.SAME",
                                    "srcColDefinition": "[FirstName] varchar(20) NULL",
                                    "Change": "-->",
                                    "tgtColDefinition": "[FirstName] varchar(20) NULL",
                                    "tgtTypeName": "varchar",
                                    "tgtMaxStrLength": "20",
                                    "difMaxLength": "0",
                                    "tgtPrecision": "0",
                                    "difPrecision": "0",
                                    "tgtScale": "0",
                                    "difScale": "0",
                                    "SelectClauseNoDdl": "[FirstName]",
                                    "DdlStmt": "",
                                    "SelectClausePostDdl": "[FirstName]",
                                    "Options": "{\"Perform DDL\": 1, \"Debug\": 1}",
                                    "ActionMessage": "/* Source and target column definitions are identical */"
                                },
                                {
                                    "ColumnName": "[LastName]",
                                    "ActionReason": "RPT.SAME",
                                    "srcColDefinition": "[LastName] varchar(25) NULL",
                                    "Change": "-->",
                                    "tgtColDefinition": "[LastName] varchar(25) NULL",
                                    "tgtTypeName": "varchar",
                                    "tgtMaxStrLength": "25",
                                    "difMaxLength": "0",
                                    "tgtPrecision": "0",
                                    "difPrecision": "0",
                                    "tgtScale": "0",
                                    "difScale": "0",
                                    "SelectClauseNoDdl": "[LastName]",
                                    "DdlStmt": "",
                                    "SelectClausePostDdl": "[LastName]",
                                    "Options": "{\"Perform DDL\": 1, \"Debug\": 1}",
                                    "ActionMessage": "/* Source and target column definitions are identical */"
                                },
                                {
                                    "ColumnName": "[MiddleInitial]",
                                    "ActionReason": "RPT.SAME",
                                    "srcColDefinition": "[MiddleInitial] char(1) NULL",
                                    "Change": "-->",
                                    "tgtColDefinition": "[MiddleInitial] char(1) NULL",
                                    "tgtTypeName": "char",
                                    "tgtMaxStrLength": "1",
                                    "difMaxLength": "0",
                                    "tgtPrecision": "0",
                                    "difPrecision": "0",
                                    "tgtScale": "0",
                                    "difScale": "0",
                                    "SelectClauseNoDdl": "[MiddleInitial]",
                                    "DdlStmt": "",
                                    "SelectClausePostDdl": "[MiddleInitial]",
                                    "Options": "{\"Perform DDL\": 1, \"Debug\": 1}",
                                    "ActionMessage": "/* Source and target column definitions are identical */"
                                },
                                {
                                    "ColumnName": "[Id]",
                                    "ActionReason": "SQL.NO_SOURCE",
                                    "srcColDefinition": "NULL",
                                    "Change": "-->",
                                    "tgtColDefinition": "[Id] int NULL",
                                    "tgtTypeName": "int",
                                    "tgtMaxStrLength": "4",
                                    "difMaxLength": "NULL",
                                    "tgtPrecision": "10",
                                    "difPrecision": "NULL",
                                    "tgtScale": "0",
                                    "difScale": "NULL",
                                    "SelectClauseNoDdl": "",
                                    "DdlStmt": "",
                                    "SelectClausePostDdl": "",
                                    "Options": "{\"Perform DDL\": 1, \"Debug\": 1}",
                                    "ActionMessage": "Column does not exist in source, exclude from target insert"
                                }
                            ]
                        },
                        "text/html": [
                            "<table>",
                            "<tr><th>ColumnName</th><th>ActionReason</th><th>srcColDefinition</th><th>Change</th><th>tgtColDefinition</th><th>tgtTypeName</th><th>tgtMaxStrLength</th><th>difMaxLength</th><th>tgtPrecision</th><th>difPrecision</th><th>tgtScale</th><th>difScale</th><th>SelectClauseNoDdl</th><th>DdlStmt</th><th>SelectClausePostDdl</th><th>Options</th><th>ActionMessage</th></tr>",
                            "<tr><td>[FirstName]</td><td>RPT.SAME</td><td>[FirstName] varchar(20) NULL</td><td>--&gt;</td><td>[FirstName] varchar(20) NULL</td><td>varchar</td><td>20</td><td>0</td><td>0</td><td>0</td><td>0</td><td>0</td><td>[FirstName]</td><td></td><td>[FirstName]</td><td>{&quot;Perform DDL&quot;: 1, &quot;Debug&quot;: 1}</td><td>/* Source and target column definitions are identical */</td></tr>",
                            "<tr><td>[LastName]</td><td>RPT.SAME</td><td>[LastName] varchar(25) NULL</td><td>--&gt;</td><td>[LastName] varchar(25) NULL</td><td>varchar</td><td>25</td><td>0</td><td>0</td><td>0</td><td>0</td><td>0</td><td>[LastName]</td><td></td><td>[LastName]</td><td>{&quot;Perform DDL&quot;: 1, &quot;Debug&quot;: 1}</td><td>/* Source and target column definitions are identical */</td></tr>",
                            "<tr><td>[MiddleInitial]</td><td>RPT.SAME</td><td>[MiddleInitial] char(1) NULL</td><td>--&gt;</td><td>[MiddleInitial] char(1) NULL</td><td>char</td><td>1</td><td>0</td><td>0</td><td>0</td><td>0</td><td>0</td><td>[MiddleInitial]</td><td></td><td>[MiddleInitial]</td><td>{&quot;Perform DDL&quot;: 1, &quot;Debug&quot;: 1}</td><td>/* Source and target column definitions are identical */</td></tr>",
                            "<tr><td>[Id]</td><td>SQL.NO_SOURCE</td><td>NULL</td><td>--&gt;</td><td>[Id] int NULL</td><td>int</td><td>4</td><td>NULL</td><td>10</td><td>NULL</td><td>0</td><td>NULL</td><td></td><td></td><td></td><td>{&quot;Perform DDL&quot;: 1, &quot;Debug&quot;: 1}</td><td>Column does not exist in source, exclude from target insert</td></tr>",
                            "</table>"
                        ]
                    }
                },
                {
                    "output_type": "execute_result",
                    "metadata": {},
                    "execution_count": 45,
                    "data": {
                        "application/vnd.dataresource+json": {
                            "schema": {
                                "fields": [
                                    {
                                        "name": "DebugMsg"
                                    },
                                    {
                                        "name": "id"
                                    },
                                    {
                                        "name": "ddl"
                                    },
                                    {
                                        "name": "SchemaName"
                                    },
                                    {
                                        "name": "TableName"
                                    },
                                    {
                                        "name": "ColumnName"
                                    },
                                    {
                                        "name": "PriorDefinition"
                                    },
                                    {
                                        "name": "Definition"
                                    },
                                    {
                                        "name": "ActionReason"
                                    }
                                ]
                            },
                            "data": [
                                {
                                    "DebugMsg": "DDL command to execute",
                                    "id": "2",
                                    "ddl": "alter table [dbo].[PersonFlexible] add [MiddleName] varchar(9) NULL",
                                    "SchemaName": "dbo",
                                    "TableName": "PersonFlexible",
                                    "ColumnName": "[MiddleName]",
                                    "PriorDefinition": "NULL",
                                    "Definition": "[MiddleName] varchar(9) NULL",
                                    "ActionReason": "DDL.NO_DEST"
                                },
                                {
                                    "DebugMsg": "DDL command to execute",
                                    "id": "3",
                                    "ddl": "alter table [dbo].[PersonFlexible] alter column [LastName] varchar(71) NULL",
                                    "SchemaName": "dbo",
                                    "TableName": "PersonFlexible",
                                    "ColumnName": "[LastName]",
                                    "PriorDefinition": "[LastName] varchar(25) NULL",
                                    "Definition": "[LastName] varchar(71) NULL",
                                    "ActionReason": "DDL.SMALLER_STRING"
                                }
                            ]
                        },
                        "text/html": [
                            "<table>",
                            "<tr><th>DebugMsg</th><th>id</th><th>ddl</th><th>SchemaName</th><th>TableName</th><th>ColumnName</th><th>PriorDefinition</th><th>Definition</th><th>ActionReason</th></tr>",
                            "<tr><td>DDL command to execute</td><td>2</td><td>alter table [dbo].[PersonFlexible] add [MiddleName] varchar(9) NULL</td><td>dbo</td><td>PersonFlexible</td><td>[MiddleName]</td><td>NULL</td><td>[MiddleName] varchar(9) NULL</td><td>DDL.NO_DEST</td></tr>",
                            "<tr><td>DDL command to execute</td><td>3</td><td>alter table [dbo].[PersonFlexible] alter column [LastName] varchar(71) NULL</td><td>dbo</td><td>PersonFlexible</td><td>[LastName]</td><td>[LastName] varchar(25) NULL</td><td>[LastName] varchar(71) NULL</td><td>DDL.SMALLER_STRING</td></tr>",
                            "</table>"
                        ]
                    }
                },
                {
                    "output_type": "execute_result",
                    "metadata": {},
                    "execution_count": 45,
                    "data": {
                        "application/vnd.dataresource+json": {
                            "schema": {
                                "fields": [
                                    {
                                        "name": "SqlCommand"
                                    }
                                ]
                            },
                            "data": [
                                {
                                    "SqlCommand": "insert into [dbo].[PersonFlexible] ([FirstName], [MiddleName], [LastName]) select [FirstName], [MiddleName], [LastName] from [stage].[PersonD]"
                                }
                            ]
                        },
                        "text/html": [
                            "<table>",
                            "<tr><th>SqlCommand</th></tr>",
                            "<tr><td>insert into [dbo].[PersonFlexible] ([FirstName], [MiddleName], [LastName]) select [FirstName], [MiddleName], [LastName] from [stage].[PersonD]</td></tr>",
                            "</table>"
                        ]
                    }
                },
                {
                    "output_type": "execute_result",
                    "metadata": {},
                    "execution_count": 45,
                    "data": {
                        "application/vnd.dataresource+json": {
                            "schema": {
                                "fields": [
                                    {
                                        "name": "ColumnName"
                                    },
                                    {
                                        "name": "ActionReason"
                                    },
                                    {
                                        "name": "srcColDefinition"
                                    },
                                    {
                                        "name": "Change"
                                    },
                                    {
                                        "name": "tgtColDefinition"
                                    },
                                    {
                                        "name": "tgtTypeName"
                                    },
                                    {
                                        "name": "tgtMaxStrLength"
                                    },
                                    {
                                        "name": "difMaxLength"
                                    },
                                    {
                                        "name": "tgtPrecision"
                                    },
                                    {
                                        "name": "difPrecision"
                                    },
                                    {
                                        "name": "tgtScale"
                                    },
                                    {
                                        "name": "difScale"
                                    },
                                    {
                                        "name": "SelectClauseNoDdl"
                                    },
                                    {
                                        "name": "DdlStmt"
                                    },
                                    {
                                        "name": "SelectClausePostDdl"
                                    },
                                    {
                                        "name": "Options"
                                    },
                                    {
                                        "name": "ActionMessage"
                                    }
                                ]
                            },
                            "data": [
                                {
                                    "ColumnName": "[MiddleName]",
                                    "ActionReason": "DDL.NO_DEST",
                                    "srcColDefinition": "[MiddleName] varchar(9) NULL",
                                    "Change": "-->",
                                    "tgtColDefinition": "NULL",
                                    "tgtTypeName": "NULL",
                                    "tgtMaxStrLength": "NULL",
                                    "difMaxLength": "NULL",
                                    "tgtPrecision": "NULL",
                                    "difPrecision": "NULL",
                                    "tgtScale": "NULL",
                                    "difScale": "NULL",
                                    "SelectClauseNoDdl": "",
                                    "DdlStmt": "alter table [dbo].[PersonFlexible] add [MiddleName] varchar(9) NULL",
                                    "SelectClausePostDdl": "[MiddleName]",
                                    "Options": "{\"Perform DDL\": 1, \"Debug\": 1}",
                                    "ActionMessage": "Target column does not exist - either add it to the table or exclude it from the insert"
                                },
                                {
                                    "ColumnName": "[LastName]",
                                    "ActionReason": "DDL.SMALLER_STRING",
                                    "srcColDefinition": "[LastName] varchar(71) NULL",
                                    "Change": "-->",
                                    "tgtColDefinition": "[LastName] varchar(25) NULL",
                                    "tgtTypeName": "varchar",
                                    "tgtMaxStrLength": "25",
                                    "difMaxLength": "46",
                                    "tgtPrecision": "0",
                                    "difPrecision": "0",
                                    "tgtScale": "0",
                                    "difScale": "0",
                                    "SelectClauseNoDdl": "convert( varchar(25), [LastName])",
                                    "DdlStmt": "alter table [dbo].[PersonFlexible] alter column [LastName] varchar(71) NULL",
                                    "SelectClausePostDdl": "[LastName]",
                                    "Options": "{\"Perform DDL\": 1, \"Debug\": 1}",
                                    "ActionMessage": "Target string is smaller than source - either alter target column or risk truncation"
                                },
                                {
                                    "ColumnName": "[FirstName]",
                                    "ActionReason": "RPT.SMALLER_SOURCE",
                                    "srcColDefinition": "[FirstName] varchar(8) NULL",
                                    "Change": "-->",
                                    "tgtColDefinition": "[FirstName] varchar(20) NULL",
                                    "tgtTypeName": "varchar",
                                    "tgtMaxStrLength": "20",
                                    "difMaxLength": "-12",
                                    "tgtPrecision": "0",
                                    "difPrecision": "0",
                                    "tgtScale": "0",
                                    "difScale": "0",
                                    "SelectClauseNoDdl": "[FirstName]",
                                    "DdlStmt": "",
                                    "SelectClausePostDdl": "[FirstName]",
                                    "Options": "{\"Perform DDL\": 1, \"Debug\": 1}",
                                    "ActionMessage": "/* Target column is of same base type but allows more data (ex. int -> bigint; varchar(50) -> varchar(100)) */"
                                },
                                {
                                    "ColumnName": "[Id]",
                                    "ActionReason": "SQL.NO_SOURCE",
                                    "srcColDefinition": "NULL",
                                    "Change": "-->",
                                    "tgtColDefinition": "[Id] int NULL",
                                    "tgtTypeName": "int",
                                    "tgtMaxStrLength": "4",
                                    "difMaxLength": "NULL",
                                    "tgtPrecision": "10",
                                    "difPrecision": "NULL",
                                    "tgtScale": "0",
                                    "difScale": "NULL",
                                    "SelectClauseNoDdl": "",
                                    "DdlStmt": "",
                                    "SelectClausePostDdl": "",
                                    "Options": "{\"Perform DDL\": 1, \"Debug\": 1}",
                                    "ActionMessage": "Column does not exist in source, exclude from target insert"
                                },
                                {
                                    "ColumnName": "[MiddleInitial]",
                                    "ActionReason": "SQL.NO_SOURCE",
                                    "srcColDefinition": "NULL",
                                    "Change": "-->",
                                    "tgtColDefinition": "[MiddleInitial] char(1) NULL",
                                    "tgtTypeName": "char",
                                    "tgtMaxStrLength": "1",
                                    "difMaxLength": "NULL",
                                    "tgtPrecision": "0",
                                    "difPrecision": "NULL",
                                    "tgtScale": "0",
                                    "difScale": "NULL",
                                    "SelectClauseNoDdl": "",
                                    "DdlStmt": "",
                                    "SelectClausePostDdl": "",
                                    "Options": "{\"Perform DDL\": 1, \"Debug\": 1}",
                                    "ActionMessage": "Column does not exist in source, exclude from target insert"
                                }
                            ]
                        },
                        "text/html": [
                            "<table>",
                            "<tr><th>ColumnName</th><th>ActionReason</th><th>srcColDefinition</th><th>Change</th><th>tgtColDefinition</th><th>tgtTypeName</th><th>tgtMaxStrLength</th><th>difMaxLength</th><th>tgtPrecision</th><th>difPrecision</th><th>tgtScale</th><th>difScale</th><th>SelectClauseNoDdl</th><th>DdlStmt</th><th>SelectClausePostDdl</th><th>Options</th><th>ActionMessage</th></tr>",
                            "<tr><td>[MiddleName]</td><td>DDL.NO_DEST</td><td>[MiddleName] varchar(9) NULL</td><td>--&gt;</td><td>NULL</td><td>NULL</td><td>NULL</td><td>NULL</td><td>NULL</td><td>NULL</td><td>NULL</td><td>NULL</td><td></td><td>alter table [dbo].[PersonFlexible] add [MiddleName] varchar(9) NULL</td><td>[MiddleName]</td><td>{&quot;Perform DDL&quot;: 1, &quot;Debug&quot;: 1}</td><td>Target column does not exist - either add it to the table or exclude it from the insert</td></tr>",
                            "<tr><td>[LastName]</td><td>DDL.SMALLER_STRING</td><td>[LastName] varchar(71) NULL</td><td>--&gt;</td><td>[LastName] varchar(25) NULL</td><td>varchar</td><td>25</td><td>46</td><td>0</td><td>0</td><td>0</td><td>0</td><td>convert( varchar(25), [LastName])</td><td>alter table [dbo].[PersonFlexible] alter column [LastName] varchar(71) NULL</td><td>[LastName]</td><td>{&quot;Perform DDL&quot;: 1, &quot;Debug&quot;: 1}</td><td>Target string is smaller than source - either alter target column or risk truncation</td></tr>",
                            "<tr><td>[FirstName]</td><td>RPT.SMALLER_SOURCE</td><td>[FirstName] varchar(8) NULL</td><td>--&gt;</td><td>[FirstName] varchar(20) NULL</td><td>varchar</td><td>20</td><td>-12</td><td>0</td><td>0</td><td>0</td><td>0</td><td>[FirstName]</td><td></td><td>[FirstName]</td><td>{&quot;Perform DDL&quot;: 1, &quot;Debug&quot;: 1}</td><td>/* Target column is of same base type but allows more data (ex. int -&gt; bigint; varchar(50) -&gt; varchar(100)) */</td></tr>",
                            "<tr><td>[Id]</td><td>SQL.NO_SOURCE</td><td>NULL</td><td>--&gt;</td><td>[Id] int NULL</td><td>int</td><td>4</td><td>NULL</td><td>10</td><td>NULL</td><td>0</td><td>NULL</td><td></td><td></td><td></td><td>{&quot;Perform DDL&quot;: 1, &quot;Debug&quot;: 1}</td><td>Column does not exist in source, exclude from target insert</td></tr>",
                            "<tr><td>[MiddleInitial]</td><td>SQL.NO_SOURCE</td><td>NULL</td><td>--&gt;</td><td>[MiddleInitial] char(1) NULL</td><td>char</td><td>1</td><td>NULL</td><td>0</td><td>NULL</td><td>0</td><td>NULL</td><td></td><td></td><td></td><td>{&quot;Perform DDL&quot;: 1, &quot;Debug&quot;: 1}</td><td>Column does not exist in source, exclude from target insert</td></tr>",
                            "</table>"
                        ]
                    }
                },
                {
                    "output_type": "execute_result",
                    "metadata": {},
                    "execution_count": 45,
                    "data": {
                        "application/vnd.dataresource+json": {
                            "schema": {
                                "fields": [
                                    {
                                        "name": "DebugMsg"
                                    },
                                    {
                                        "name": "id"
                                    },
                                    {
                                        "name": "ddl"
                                    },
                                    {
                                        "name": "SchemaName"
                                    },
                                    {
                                        "name": "TableName"
                                    },
                                    {
                                        "name": "ColumnName"
                                    },
                                    {
                                        "name": "PriorDefinition"
                                    },
                                    {
                                        "name": "Definition"
                                    },
                                    {
                                        "name": "ActionReason"
                                    }
                                ]
                            },
                            "data": [
                                {
                                    "DebugMsg": "DDL command to execute",
                                    "id": "1",
                                    "ddl": "alter table [dbo].[PersonFlexible] alter column [FirstName] nvarchar(20) NULL",
                                    "SchemaName": "dbo",
                                    "TableName": "PersonFlexible",
                                    "ColumnName": "[FirstName]",
                                    "PriorDefinition": "[FirstName] varchar(20) NULL",
                                    "Definition": "[FirstName] nvarchar(20) NULL",
                                    "ActionReason": "DDL.UNICODE_TO_ASCII"
                                },
                                {
                                    "DebugMsg": "DDL command to execute",
                                    "id": "3",
                                    "ddl": "alter table [dbo].[PersonFlexible] alter column [LastName] nvarchar(71) NULL",
                                    "SchemaName": "dbo",
                                    "TableName": "PersonFlexible",
                                    "ColumnName": "[LastName]",
                                    "PriorDefinition": "[LastName] varchar(71) NULL",
                                    "Definition": "[LastName] nvarchar(71) NULL",
                                    "ActionReason": "DDL.UNICODE_TO_ASCII"
                                },
                                {
                                    "DebugMsg": "DDL command to execute",
                                    "id": "2",
                                    "ddl": "alter table [dbo].[PersonFlexible] alter column [MiddleName] nvarchar(9) NULL",
                                    "SchemaName": "dbo",
                                    "TableName": "PersonFlexible",
                                    "ColumnName": "[MiddleName]",
                                    "PriorDefinition": "[MiddleName] varchar(9) NULL",
                                    "Definition": "[MiddleName] nvarchar(9) NULL",
                                    "ActionReason": "DDL.UNICODE_TO_ASCII"
                                }
                            ]
                        },
                        "text/html": [
                            "<table>",
                            "<tr><th>DebugMsg</th><th>id</th><th>ddl</th><th>SchemaName</th><th>TableName</th><th>ColumnName</th><th>PriorDefinition</th><th>Definition</th><th>ActionReason</th></tr>",
                            "<tr><td>DDL command to execute</td><td>1</td><td>alter table [dbo].[PersonFlexible] alter column [FirstName] nvarchar(20) NULL</td><td>dbo</td><td>PersonFlexible</td><td>[FirstName]</td><td>[FirstName] varchar(20) NULL</td><td>[FirstName] nvarchar(20) NULL</td><td>DDL.UNICODE_TO_ASCII</td></tr>",
                            "<tr><td>DDL command to execute</td><td>3</td><td>alter table [dbo].[PersonFlexible] alter column [LastName] nvarchar(71) NULL</td><td>dbo</td><td>PersonFlexible</td><td>[LastName]</td><td>[LastName] varchar(71) NULL</td><td>[LastName] nvarchar(71) NULL</td><td>DDL.UNICODE_TO_ASCII</td></tr>",
                            "<tr><td>DDL command to execute</td><td>2</td><td>alter table [dbo].[PersonFlexible] alter column [MiddleName] nvarchar(9) NULL</td><td>dbo</td><td>PersonFlexible</td><td>[MiddleName]</td><td>[MiddleName] varchar(9) NULL</td><td>[MiddleName] nvarchar(9) NULL</td><td>DDL.UNICODE_TO_ASCII</td></tr>",
                            "</table>"
                        ]
                    }
                },
                {
                    "output_type": "execute_result",
                    "metadata": {},
                    "execution_count": 45,
                    "data": {
                        "application/vnd.dataresource+json": {
                            "schema": {
                                "fields": [
                                    {
                                        "name": "SqlCommand"
                                    }
                                ]
                            },
                            "data": [
                                {
                                    "SqlCommand": "insert into [dbo].[PersonFlexible] ([FirstName], [MiddleName], [LastName]) select [FirstName], [MiddleName], [LastName] from [stage].[PersonE]"
                                }
                            ]
                        },
                        "text/html": [
                            "<table>",
                            "<tr><th>SqlCommand</th></tr>",
                            "<tr><td>insert into [dbo].[PersonFlexible] ([FirstName], [MiddleName], [LastName]) select [FirstName], [MiddleName], [LastName] from [stage].[PersonE]</td></tr>",
                            "</table>"
                        ]
                    }
                },
                {
                    "output_type": "execute_result",
                    "metadata": {},
                    "execution_count": 45,
                    "data": {
                        "application/vnd.dataresource+json": {
                            "schema": {
                                "fields": [
                                    {
                                        "name": "ColumnName"
                                    },
                                    {
                                        "name": "ActionReason"
                                    },
                                    {
                                        "name": "srcColDefinition"
                                    },
                                    {
                                        "name": "Change"
                                    },
                                    {
                                        "name": "tgtColDefinition"
                                    },
                                    {
                                        "name": "tgtTypeName"
                                    },
                                    {
                                        "name": "tgtMaxStrLength"
                                    },
                                    {
                                        "name": "difMaxLength"
                                    },
                                    {
                                        "name": "tgtPrecision"
                                    },
                                    {
                                        "name": "difPrecision"
                                    },
                                    {
                                        "name": "tgtScale"
                                    },
                                    {
                                        "name": "difScale"
                                    },
                                    {
                                        "name": "SelectClauseNoDdl"
                                    },
                                    {
                                        "name": "DdlStmt"
                                    },
                                    {
                                        "name": "SelectClausePostDdl"
                                    },
                                    {
                                        "name": "Options"
                                    },
                                    {
                                        "name": "ActionMessage"
                                    }
                                ]
                            },
                            "data": [
                                {
                                    "ColumnName": "[FirstName]",
                                    "ActionReason": "DDL.UNICODE_TO_ASCII",
                                    "srcColDefinition": "[FirstName] nvarchar(8) NULL",
                                    "Change": "-->",
                                    "tgtColDefinition": "[FirstName] varchar(20) NULL",
                                    "tgtTypeName": "varchar",
                                    "tgtMaxStrLength": "20",
                                    "difMaxLength": "-12",
                                    "tgtPrecision": "0",
                                    "difPrecision": "0",
                                    "tgtScale": "0",
                                    "difScale": "0",
                                    "SelectClauseNoDdl": "convert( varchar(20), [FirstName])",
                                    "DdlStmt": "alter table [dbo].[PersonFlexible] alter column [FirstName] nvarchar(20) NULL",
                                    "SelectClausePostDdl": "[FirstName]",
                                    "Options": "{\"Perform DDL\": 1, \"Debug\": 1}",
                                    "ActionMessage": "Source column is unicode but target is ASCII - either alter target column or perform cast and risk data loss"
                                },
                                {
                                    "ColumnName": "[LastName]",
                                    "ActionReason": "DDL.UNICODE_TO_ASCII",
                                    "srcColDefinition": "[LastName] nvarchar(7) NULL",
                                    "Change": "-->",
                                    "tgtColDefinition": "[LastName] varchar(71) NULL",
                                    "tgtTypeName": "varchar",
                                    "tgtMaxStrLength": "71",
                                    "difMaxLength": "-64",
                                    "tgtPrecision": "0",
                                    "difPrecision": "0",
                                    "tgtScale": "0",
                                    "difScale": "0",
                                    "SelectClauseNoDdl": "convert( varchar(71), [LastName])",
                                    "DdlStmt": "alter table [dbo].[PersonFlexible] alter column [LastName] nvarchar(71) NULL",
                                    "SelectClausePostDdl": "[LastName]",
                                    "Options": "{\"Perform DDL\": 1, \"Debug\": 1}",
                                    "ActionMessage": "Source column is unicode but target is ASCII - either alter target column or perform cast and risk data loss"
                                },
                                {
                                    "ColumnName": "[MiddleName]",
                                    "ActionReason": "DDL.UNICODE_TO_ASCII",
                                    "srcColDefinition": "[MiddleName] nvarchar(7) NULL",
                                    "Change": "-->",
                                    "tgtColDefinition": "[MiddleName] varchar(9) NULL",
                                    "tgtTypeName": "varchar",
                                    "tgtMaxStrLength": "9",
                                    "difMaxLength": "-2",
                                    "tgtPrecision": "0",
                                    "difPrecision": "0",
                                    "tgtScale": "0",
                                    "difScale": "0",
                                    "SelectClauseNoDdl": "convert( varchar(9), [MiddleName])",
                                    "DdlStmt": "alter table [dbo].[PersonFlexible] alter column [MiddleName] nvarchar(9) NULL",
                                    "SelectClausePostDdl": "[MiddleName]",
                                    "Options": "{\"Perform DDL\": 1, \"Debug\": 1}",
                                    "ActionMessage": "Source column is unicode but target is ASCII - either alter target column or perform cast and risk data loss"
                                },
                                {
                                    "ColumnName": "[Id]",
                                    "ActionReason": "SQL.NO_SOURCE",
                                    "srcColDefinition": "NULL",
                                    "Change": "-->",
                                    "tgtColDefinition": "[Id] int NULL",
                                    "tgtTypeName": "int",
                                    "tgtMaxStrLength": "4",
                                    "difMaxLength": "NULL",
                                    "tgtPrecision": "10",
                                    "difPrecision": "NULL",
                                    "tgtScale": "0",
                                    "difScale": "NULL",
                                    "SelectClauseNoDdl": "",
                                    "DdlStmt": "",
                                    "SelectClausePostDdl": "",
                                    "Options": "{\"Perform DDL\": 1, \"Debug\": 1}",
                                    "ActionMessage": "Column does not exist in source, exclude from target insert"
                                },
                                {
                                    "ColumnName": "[MiddleInitial]",
                                    "ActionReason": "SQL.NO_SOURCE",
                                    "srcColDefinition": "NULL",
                                    "Change": "-->",
                                    "tgtColDefinition": "[MiddleInitial] char(1) NULL",
                                    "tgtTypeName": "char",
                                    "tgtMaxStrLength": "1",
                                    "difMaxLength": "NULL",
                                    "tgtPrecision": "0",
                                    "difPrecision": "NULL",
                                    "tgtScale": "0",
                                    "difScale": "NULL",
                                    "SelectClauseNoDdl": "",
                                    "DdlStmt": "",
                                    "SelectClausePostDdl": "",
                                    "Options": "{\"Perform DDL\": 1, \"Debug\": 1}",
                                    "ActionMessage": "Column does not exist in source, exclude from target insert"
                                }
                            ]
                        },
                        "text/html": [
                            "<table>",
                            "<tr><th>ColumnName</th><th>ActionReason</th><th>srcColDefinition</th><th>Change</th><th>tgtColDefinition</th><th>tgtTypeName</th><th>tgtMaxStrLength</th><th>difMaxLength</th><th>tgtPrecision</th><th>difPrecision</th><th>tgtScale</th><th>difScale</th><th>SelectClauseNoDdl</th><th>DdlStmt</th><th>SelectClausePostDdl</th><th>Options</th><th>ActionMessage</th></tr>",
                            "<tr><td>[FirstName]</td><td>DDL.UNICODE_TO_ASCII</td><td>[FirstName] nvarchar(8) NULL</td><td>--&gt;</td><td>[FirstName] varchar(20) NULL</td><td>varchar</td><td>20</td><td>-12</td><td>0</td><td>0</td><td>0</td><td>0</td><td>convert( varchar(20), [FirstName])</td><td>alter table [dbo].[PersonFlexible] alter column [FirstName] nvarchar(20) NULL</td><td>[FirstName]</td><td>{&quot;Perform DDL&quot;: 1, &quot;Debug&quot;: 1}</td><td>Source column is unicode but target is ASCII - either alter target column or perform cast and risk data loss</td></tr>",
                            "<tr><td>[LastName]</td><td>DDL.UNICODE_TO_ASCII</td><td>[LastName] nvarchar(7) NULL</td><td>--&gt;</td><td>[LastName] varchar(71) NULL</td><td>varchar</td><td>71</td><td>-64</td><td>0</td><td>0</td><td>0</td><td>0</td><td>convert( varchar(71), [LastName])</td><td>alter table [dbo].[PersonFlexible] alter column [LastName] nvarchar(71) NULL</td><td>[LastName]</td><td>{&quot;Perform DDL&quot;: 1, &quot;Debug&quot;: 1}</td><td>Source column is unicode but target is ASCII - either alter target column or perform cast and risk data loss</td></tr>",
                            "<tr><td>[MiddleName]</td><td>DDL.UNICODE_TO_ASCII</td><td>[MiddleName] nvarchar(7) NULL</td><td>--&gt;</td><td>[MiddleName] varchar(9) NULL</td><td>varchar</td><td>9</td><td>-2</td><td>0</td><td>0</td><td>0</td><td>0</td><td>convert( varchar(9), [MiddleName])</td><td>alter table [dbo].[PersonFlexible] alter column [MiddleName] nvarchar(9) NULL</td><td>[MiddleName]</td><td>{&quot;Perform DDL&quot;: 1, &quot;Debug&quot;: 1}</td><td>Source column is unicode but target is ASCII - either alter target column or perform cast and risk data loss</td></tr>",
                            "<tr><td>[Id]</td><td>SQL.NO_SOURCE</td><td>NULL</td><td>--&gt;</td><td>[Id] int NULL</td><td>int</td><td>4</td><td>NULL</td><td>10</td><td>NULL</td><td>0</td><td>NULL</td><td></td><td></td><td></td><td>{&quot;Perform DDL&quot;: 1, &quot;Debug&quot;: 1}</td><td>Column does not exist in source, exclude from target insert</td></tr>",
                            "<tr><td>[MiddleInitial]</td><td>SQL.NO_SOURCE</td><td>NULL</td><td>--&gt;</td><td>[MiddleInitial] char(1) NULL</td><td>char</td><td>1</td><td>NULL</td><td>0</td><td>NULL</td><td>0</td><td>NULL</td><td></td><td></td><td></td><td>{&quot;Perform DDL&quot;: 1, &quot;Debug&quot;: 1}</td><td>Column does not exist in source, exclude from target insert</td></tr>",
                            "</table>"
                        ]
                    }
                }
            ],
            "execution_count": 45
        }
    ]
}