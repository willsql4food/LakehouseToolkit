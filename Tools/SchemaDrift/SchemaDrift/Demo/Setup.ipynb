{
    "metadata": {
        "kernelspec": {
            "name": "SQL",
            "display_name": "SQL",
            "language": "sql"
        },
        "language_info": {
            "name": "sql",
            "version": ""
        }
    },
    "nbformat_minor": 2,
    "nbformat": 4,
    "cells": [
        {
            "cell_type": "markdown",
            "source": [
                "# Reset the Demo\r\n",
                "<mark>## TODO - Manual Items</mark>  \r\n",
                "Create the following:\r\n",
                "* [`audit.SchemaDrift`](/SqlScripts/SchemaDrift/audit.SchemaDrift.sql) - Table to track changes\r\n",
                "* [`utfGetTableDefinition`](/SqlScripts/SchemaDrift/utfGetTableDefinition.sql) - User defined function for getting a table's column definitions\r\n",
                "* [`uspConformTable`](/SqlScripts/SchemaDrift/uspConformTable.sql) - The stored procedure that does the comparison and optionally changes the schema of the target table\r\n",
                "* Assure Data Factory account has rights to execute the procedure, query tables, etc. [Sample](/SqlScripts/SchemaDrift/AssignRights.sql)\r\n",
                "\r\n",
                ""
            ],
            "metadata": {
                "azdata_cell_guid": "ba46559d-db99-468d-a51f-205a90665284"
            },
            "attachments": {}
        },
        {
            "cell_type": "markdown",
            "source": [
                "Assure the `stage` schema exists  \n",
                "\n",
                "Drop the `PersonRigid` and `PersonFlexible` target tables and all the staging tables"
            ],
            "metadata": {
                "azdata_cell_guid": "6b77707e-50e4-4eeb-a33b-91545872d686"
            },
            "attachments": {}
        },
        {
            "cell_type": "code",
            "source": [
                "/* ====================================================================================================================\r\n",
                "    [stage] schema\r\n",
                "==================================================================================================================== */\r\n",
                "if not exists (select * from sys.schemas s where s.name = 'stage')\r\n",
                "    execute sp_executesql N'create schema stage';\r\n",
                "\r\n",
                "/* ====================================================================================================================\r\n",
                "    [Person...] tables\r\n",
                "==================================================================================================================== */\r\n",
                "if exists (select s.name sch, t.name tbl from sys.tables t join sys.schemas s on t.schema_id = s.schema_id where s.name = 'dbo' and t.name = 'PersonRigid')\r\n",
                "    drop table dbo.PersonRigid;\r\n",
                "\r\n",
                "if exists (select s.name sch, t.name tbl from sys.tables t join sys.schemas s on t.schema_id = s.schema_id where s.name = 'dbo' and t.name = 'PersonFlexible')\r\n",
                "    drop table dbo.PersonFlexible;\r\n",
                "\r\n",
                "/* ====================================================================================================================\r\n",
                "    Staging tables\r\n",
                "==================================================================================================================== */\r\n",
                "if exists (select s.name sch, t.name tbl from sys.tables t join sys.schemas s on t.schema_id = s.schema_id where s.name = 'stage' and t.name = 'PersonA')\r\n",
                "    drop table stage.PersonA\r\n",
                "\r\n",
                "if exists (select s.name sch, t.name tbl from sys.tables t join sys.schemas s on t.schema_id = s.schema_id where s.name = 'stage' and t.name = 'PersonB')\r\n",
                "    drop table stage.PersonB\r\n",
                "\r\n",
                "if exists (select s.name sch, t.name tbl from sys.tables t join sys.schemas s on t.schema_id = s.schema_id where s.name = 'stage' and t.name = 'PersonC')\r\n",
                "    drop table stage.PersonC\r\n",
                "\r\n",
                "if exists (select s.name sch, t.name tbl from sys.tables t join sys.schemas s on t.schema_id = s.schema_id where s.name = 'stage' and t.name = 'PersonD')\r\n",
                "    drop table stage.PersonD\r\n",
                "\r\n",
                "if exists (select s.name sch, t.name tbl from sys.tables t join sys.schemas s on t.schema_id = s.schema_id where s.name = 'stage' and t.name = 'PersonE')\r\n",
                "    drop table stage.PersonE\r\n",
                ""
            ],
            "metadata": {
                "azdata_cell_guid": "24e59e70-d74f-4eea-b32c-9c25d55de98d",
                "language": "sql"
            },
            "outputs": [
                {
                    "output_type": "display_data",
                    "data": {
                        "text/html": "Commands completed successfully."
                    },
                    "metadata": {}
                },
                {
                    "output_type": "display_data",
                    "data": {
                        "text/html": "Total execution time: 00:00:00.061"
                    },
                    "metadata": {}
                }
            ],
            "execution_count": 234
        },
        {
            "cell_type": "markdown",
            "source": [
                "## Create `PersonRigid` and `PersonFlexible` tables to use as our targets\r\n",
                "Start simple\r\n",
                "* Id\r\n",
                "* First name\r\n",
                "* Middle initial\r\n",
                "* Last names"
            ],
            "metadata": {
                "azdata_cell_guid": "c8cb4a99-47a5-4ab3-a129-b6f9371470cf"
            },
            "attachments": {}
        },
        {
            "cell_type": "code",
            "source": [
                "/* ====================================================================================================================\r\n",
                "    dbo.[Person...] tables\r\n",
                "==================================================================================================================== */\r\n",
                "create table dbo.PersonRigid\r\n",
                "(   Id              int not null identity(1, 1)\r\n",
                ",   FirstName       varchar(10)\r\n",
                ",   MiddleInitial   char(1)\r\n",
                ",   LastName        varchar(15)\r\n",
                ")\r\n",
                "\r\n",
                "create table dbo.PersonFlexible\r\n",
                "(   Id              int not null identity(1, 1)\r\n",
                ",   FirstName       varchar(10)\r\n",
                ",   MiddleInitial   char(1)\r\n",
                ",   LastName        varchar(15)\r\n",
                ")"
            ],
            "metadata": {
                "azdata_cell_guid": "fd8b897c-ae8d-4c36-a4f6-03e908cec71e",
                "language": "sql"
            },
            "outputs": [
                {
                    "output_type": "display_data",
                    "data": {
                        "text/html": "Commands completed successfully."
                    },
                    "metadata": {}
                },
                {
                    "output_type": "display_data",
                    "data": {
                        "text/html": "Total execution time: 00:00:00.028"
                    },
                    "metadata": {}
                }
            ],
            "execution_count": 235
        },
        {
            "cell_type": "markdown",
            "source": [
                "## Create Some Stage Tables\r\n",
                "\r\n",
                "### `PersonA`\r\n",
                "Same schema as target (except Id) and a few rows that fit nicely into it"
            ],
            "metadata": {
                "language": "sql",
                "azdata_cell_guid": "d836fad1-e8bd-4234-91af-8a9a38d1dfca"
            },
            "attachments": {}
        },
        {
            "cell_type": "code",
            "source": [
                "/* ====================================================================================================================\r\n",
                "    Create table\r\n",
                "==================================================================================================================== */\r\n",
                "create table stage.PersonA\r\n",
                "(   FirstName       varchar(10)\r\n",
                ",   MiddleInitial   char(1)\r\n",
                ",   LastName        varchar(15)\r\n",
                ")\r\n",
                "\r\n",
                "insert into stage.PersonA (FirstName, MiddleInitial, LastName)\r\n",
                "select      fn, mi, ln\r\n",
                "from    (   values  ('Al',      'B', 'Cook')\r\n",
                "            ,       ('Ben',     'C', 'Dunn')\r\n",
                "            ,       ('Carl',    'D', 'Ellis')\r\n",
                "            ,       ('Dee',     'E', 'Frank')\r\n",
                "            ,       ('Elise',   'F', 'Greer')\r\n",
                "            ,       ('Fran',    'G', 'Howard')\r\n",
                "        )   v(fn, mi, ln)"
            ],
            "metadata": {
                "language": "sql",
                "azdata_cell_guid": "8003cd58-33b2-402f-8abb-f61b4febae1a"
            },
            "outputs": [
                {
                    "output_type": "display_data",
                    "data": {
                        "text/html": "(6 rows affected)"
                    },
                    "metadata": {}
                },
                {
                    "output_type": "display_data",
                    "data": {
                        "text/html": "Total execution time: 00:00:00.031"
                    },
                    "metadata": {}
                }
            ],
            "execution_count": 236
        },
        {
            "cell_type": "markdown",
            "source": [
                "### `PersonB`\n",
                "\n",
                "FirstName & LastName wider, but data would still fit old  \n",
                "_Safe to use with Perform DML = 0_"
            ],
            "metadata": {
                "language": "sql",
                "azdata_cell_guid": "d836fad1-e8bd-4234-91af-8a9a38d1dfcb"
            },
            "attachments": {}
        },
        {
            "cell_type": "code",
            "source": [
                "/* ====================================================================================================================\r\n",
                "    Create table\r\n",
                "==================================================================================================================== */\r\n",
                "create table stage.PersonB\r\n",
                "(   FirstName       varchar(20)\r\n",
                ",   MiddleInitial   char(1)\r\n",
                ",   LastName        varchar(25)\r\n",
                ")\r\n",
                "\r\n",
                "insert into stage.PersonB (FirstName, MiddleInitial, LastName)\r\n",
                "select      fn, mi, ln\r\n",
                "from    (   values  ('Glen',    'H', 'Ibarra')\r\n",
                "            ,       ('Hank',    'I', 'James')\r\n",
                "            ,       ('Irene',   'J', 'Kent')\r\n",
                "            ,       ('Jackie',  'K', 'Lowe')\r\n",
                "            ,       ('Kelly',   'L', 'Merchant')\r\n",
                "        )   v(fn, mi, ln)"
            ],
            "metadata": {
                "language": "sql",
                "azdata_cell_guid": "8003cd58-33b2-402f-8abb-f61b4febae1b"
            },
            "outputs": [
                {
                    "output_type": "display_data",
                    "data": {
                        "text/html": "(5 rows affected)"
                    },
                    "metadata": {}
                },
                {
                    "output_type": "display_data",
                    "data": {
                        "text/html": "Total execution time: 00:00:00.033"
                    },
                    "metadata": {}
                }
            ],
            "execution_count": 237
        },
        {
            "cell_type": "markdown",
            "source": [
                "### `PersonC`\r\n",
                "Like `PersonB` has wider schema, but this one has longer names  \r\n",
                "___NOT___ _Safe to use with Perform DML = 0_"
            ],
            "metadata": {
                "language": "sql",
                "azdata_cell_guid": "d836fad1-e8bd-4234-91af-8a9a38d1dfcc"
            },
            "attachments": {}
        },
        {
            "cell_type": "code",
            "source": [
                "/* ====================================================================================================================\r\n",
                "    Create table\r\n",
                "==================================================================================================================== */\r\n",
                "create table stage.PersonC\r\n",
                "(   FirstName       varchar(20)\r\n",
                ",   MiddleInitial   char(1)\r\n",
                ",   LastName        varchar(25)\r\n",
                ")\r\n",
                "\r\n",
                "insert into stage.PersonC (FirstName, MiddleInitial, LastName)\r\n",
                "select      fn, mi, ln\r\n",
                "from    (   values  ('Mary-Elizabeth',  'N', 'Nelson')\r\n",
                "            ,       ('Nathan',          'O', 'Pennyworth-Johnson')\r\n",
                "        )   v(fn, mi, ln)"
            ],
            "metadata": {
                "language": "sql",
                "azdata_cell_guid": "8003cd58-33b2-402f-8abb-f61b4febae1c"
            },
            "outputs": [
                {
                    "output_type": "display_data",
                    "data": {
                        "text/html": "(2 rows affected)"
                    },
                    "metadata": {}
                },
                {
                    "output_type": "display_data",
                    "data": {
                        "text/html": "Total execution time: 00:00:00.031"
                    },
                    "metadata": {}
                }
            ],
            "execution_count": 238
        },
        {
            "cell_type": "markdown",
            "source": [
                "### `PersonD`\n",
                "\n",
                "A bunch of raw data without a declared schema, this time with MiddleName field"
            ],
            "metadata": {
                "language": "sql",
                "azdata_cell_guid": "d836fad1-e8bd-4234-91af-8a9a38d1dfcd"
            },
            "attachments": {}
        },
        {
            "cell_type": "code",
            "source": [
                "/* ====================================================================================================================\r\n",
                "    Create table from a set of values\r\n",
                "==================================================================================================================== */\r\n",
                "select      FirstName, MiddleName, LastName\r\n",
                "into        stage.PersonD\r\n",
                "from    (   values  ('Oliver',      'Phillip',        'Quinn')\r\n",
                "            ,       ('Penelope',    'Q',              'Robertson')\r\n",
                "            ,       ('Quinn',       'Richard',        'Stephenson-MacDonald')\r\n",
                "            ,       ('Rebecca',     'Stephanie',      'Thompson-Abercrombie')\r\n",
                "            ,       ('Sylvie',      'Theresa',        'Ummmm - I forgot to ask her last name!  What do I do with no last name?')\r\n",
                "        )   v(FirstName, MiddleName, LastName);\r\n",
                ""
            ],
            "metadata": {
                "language": "sql",
                "azdata_cell_guid": "98f47023-4dd1-4090-b10f-732853fd9410"
            },
            "outputs": [
                {
                    "output_type": "display_data",
                    "data": {
                        "text/html": "(5 rows affected)"
                    },
                    "metadata": {}
                },
                {
                    "output_type": "display_data",
                    "data": {
                        "text/html": "Total execution time: 00:00:00.031"
                    },
                    "metadata": {}
                }
            ],
            "execution_count": 239
        },
        {
            "cell_type": "markdown",
            "source": [
                "### `PersonE`\r\n",
                "\r\n",
                "A bunch of raw UNICODE data without a declared schema, this time with MiddleName field"
            ],
            "metadata": {
                "language": "sql",
                "azdata_cell_guid": "8dfcbd6e-5ddc-4f9b-ada0-82652586fa7e"
            },
            "attachments": {}
        },
        {
            "cell_type": "code",
            "source": [
                "/* ====================================================================================================================\r\n",
                "    Create table from a set of values\r\n",
                "==================================================================================================================== */\r\n",
                "select      FirstName, MiddleName, LastName\r\n",
                "into        stage.PersonE\r\n",
                "from    (   values  (N'Terry',       N'U',              N'Versacé')\r\n",
                "            ,       (N'Umbérto',     N'Vincent',        N'Wilson')\r\n",
                "            ,       (N'Viviënne',    N'Wilma',          N'Xávier')\r\n",
                "        )   v(FirstName, MiddleName, LastName);\r\n",
                ""
            ],
            "metadata": {
                "language": "sql",
                "azdata_cell_guid": "8003cd58-33b2-402f-8abb-f61b4febae1d"
            },
            "outputs": [
                {
                    "output_type": "display_data",
                    "data": {
                        "text/html": "(3 rows affected)"
                    },
                    "metadata": {}
                },
                {
                    "output_type": "display_data",
                    "data": {
                        "text/html": "Total execution time: 00:00:00.029"
                    },
                    "metadata": {}
                }
            ],
            "execution_count": 240
        },
        {
            "cell_type": "code",
            "source": [
                "/* ====================================================================================================================\r\n",
                "    Add some Hangul Jamo (I don't know any Korean, so this is just some random characters)\r\n",
                "==================================================================================================================== */\r\n",
                "with num as (\r\n",
                "    select      -1 + row_number() over (order by object_id) id\r\n",
                "    from        sys.objects\r\n",
                "), w as (\r\n",
                "    select      top 10 row_number() over (order by num.id) id\r\n",
                "            ,   nchar(0x11b0 + num.id) + nchar(0x11c0 + num.id) + nchar(0x11d0 + num.id) + nchar(0x11e0 + num.id) + nchar(0x11f0 + num.id) word\r\n",
                "    from        num\r\n",
                ")\r\n",
                "\r\n",
                "insert into stage.PersonE(FirstName, MiddleName, LastName)\r\n",
                "select      f.word + left(reverse(l.word), 2) FirstName, m.word MiddleName, l.word + substring(m.word, 3, 2) LastName\r\n",
                "from        w f\r\n",
                "join        w m on m.id = f.id + 3\r\n",
                "join        w l on l.id = f.id + 6\r\n",
                ""
            ],
            "metadata": {
                "language": "sql",
                "azdata_cell_guid": "98d9c397-2411-4ce4-9ac7-676f08f69846"
            },
            "outputs": [
                {
                    "output_type": "display_data",
                    "data": {
                        "text/html": "(4 rows affected)"
                    },
                    "metadata": {}
                },
                {
                    "output_type": "display_data",
                    "data": {
                        "text/html": "Total execution time: 00:00:00.038"
                    },
                    "metadata": {}
                }
            ],
            "execution_count": 241
        },
        {
            "cell_type": "markdown",
            "source": [
                "## `stage.PersonD` & `stage.PersonE` - schemas generated based on data "
            ],
            "metadata": {
                "language": "sql",
                "azdata_cell_guid": "329adf0b-d7e9-4ee6-a9d3-b7e136299dc5"
            },
            "attachments": {}
        },
        {
            "cell_type": "code",
            "source": [
                "--\t==========================================================================\r\n",
                "--\tGet list of columns in a table (or table family)\r\n",
                "--\t==========================================================================\r\n",
                "select\t\tcase when s.name = lag(s.name) over (order by s.name, t.name, c.column_id) then '' else s.name end [schema]\r\n",
                "        ,   case when t.name = lag(t.name) over (order by s.name, t.name, c.column_id) then '' else t.name end [table]\r\n",
                "        ,   c.column_id, c.name [column], c.is_nullable\r\n",
                "        ,\tty.name datatype\r\n",
                "        ,   case when ty.name in ('nchar', 'nvarchar', 'ntext') then c.max_length / 2 else c.max_length end max_length\r\n",
                "        ,   c.precision, c.scale\r\n",
                "from\t\tsys.schemas s\r\n",
                "join\t\tsys.tables t on s.schema_id = t.schema_id\r\n",
                "join\t\tsys.columns c on t.object_id = c.object_id\r\n",
                "join\t\tsys.types ty on ty.system_type_id = c.system_type_id and ty.user_type_id = c.user_type_id\r\n",
                "where\t\tt.name like 'Person[D..E]'\r\n",
                "    and\t\tc.name like '%'\r\n",
                "--\tand\t\ts.name like '%'\r\n",
                "order by\ts.name, t.name, c.column_id"
            ],
            "metadata": {
                "language": "sql",
                "azdata_cell_guid": "934d7ad9-16b3-4dd1-ad23-2562d389f9f8"
            },
            "outputs": [
                {
                    "output_type": "display_data",
                    "data": {
                        "text/html": "(6 rows affected)"
                    },
                    "metadata": {}
                },
                {
                    "output_type": "display_data",
                    "data": {
                        "text/html": "Total execution time: 00:00:00.023"
                    },
                    "metadata": {}
                },
                {
                    "output_type": "execute_result",
                    "metadata": {},
                    "execution_count": 242,
                    "data": {
                        "application/vnd.dataresource+json": {
                            "schema": {
                                "fields": [
                                    {
                                        "name": "schema"
                                    },
                                    {
                                        "name": "table"
                                    },
                                    {
                                        "name": "column_id"
                                    },
                                    {
                                        "name": "column"
                                    },
                                    {
                                        "name": "is_nullable"
                                    },
                                    {
                                        "name": "datatype"
                                    },
                                    {
                                        "name": "max_length"
                                    },
                                    {
                                        "name": "precision"
                                    },
                                    {
                                        "name": "scale"
                                    }
                                ]
                            },
                            "data": [
                                {
                                    "schema": "stage",
                                    "table": "PersonD",
                                    "column_id": "1",
                                    "column": "FirstName",
                                    "is_nullable": "0",
                                    "datatype": "varchar",
                                    "max_length": "8",
                                    "precision": "0",
                                    "scale": "0"
                                },
                                {
                                    "schema": "",
                                    "table": "",
                                    "column_id": "2",
                                    "column": "MiddleName",
                                    "is_nullable": "0",
                                    "datatype": "varchar",
                                    "max_length": "9",
                                    "precision": "0",
                                    "scale": "0"
                                },
                                {
                                    "schema": "",
                                    "table": "",
                                    "column_id": "3",
                                    "column": "LastName",
                                    "is_nullable": "0",
                                    "datatype": "varchar",
                                    "max_length": "71",
                                    "precision": "0",
                                    "scale": "0"
                                },
                                {
                                    "schema": "",
                                    "table": "PersonE",
                                    "column_id": "1",
                                    "column": "FirstName",
                                    "is_nullable": "0",
                                    "datatype": "nvarchar",
                                    "max_length": "8",
                                    "precision": "0",
                                    "scale": "0"
                                },
                                {
                                    "schema": "",
                                    "table": "",
                                    "column_id": "2",
                                    "column": "MiddleName",
                                    "is_nullable": "0",
                                    "datatype": "nvarchar",
                                    "max_length": "7",
                                    "precision": "0",
                                    "scale": "0"
                                },
                                {
                                    "schema": "",
                                    "table": "",
                                    "column_id": "3",
                                    "column": "LastName",
                                    "is_nullable": "0",
                                    "datatype": "nvarchar",
                                    "max_length": "7",
                                    "precision": "0",
                                    "scale": "0"
                                }
                            ]
                        },
                        "text/html": [
                            "<table>",
                            "<tr><th>schema</th><th>table</th><th>column_id</th><th>column</th><th>is_nullable</th><th>datatype</th><th>max_length</th><th>precision</th><th>scale</th></tr>",
                            "<tr><td>stage</td><td>PersonD</td><td>1</td><td>FirstName</td><td>0</td><td>varchar</td><td>8</td><td>0</td><td>0</td></tr>",
                            "<tr><td></td><td></td><td>2</td><td>MiddleName</td><td>0</td><td>varchar</td><td>9</td><td>0</td><td>0</td></tr>",
                            "<tr><td></td><td></td><td>3</td><td>LastName</td><td>0</td><td>varchar</td><td>71</td><td>0</td><td>0</td></tr>",
                            "<tr><td></td><td>PersonE</td><td>1</td><td>FirstName</td><td>0</td><td>nvarchar</td><td>8</td><td>0</td><td>0</td></tr>",
                            "<tr><td></td><td></td><td>2</td><td>MiddleName</td><td>0</td><td>nvarchar</td><td>7</td><td>0</td><td>0</td></tr>",
                            "<tr><td></td><td></td><td>3</td><td>LastName</td><td>0</td><td>nvarchar</td><td>7</td><td>0</td><td>0</td></tr>",
                            "</table>"
                        ]
                    }
                }
            ],
            "execution_count": 242
        },
        {
            "cell_type": "markdown",
            "source": [
                "Rebuild __`audit.SchemaDrift`__"
            ],
            "metadata": {
                "language": "sql",
                "azdata_cell_guid": "d6e52552-3204-4f4b-a1b2-45533248c118"
            },
            "attachments": {}
        },
        {
            "cell_type": "code",
            "source": [
                "/* ====================================================================================================================\r\n",
                "    Assure needed schemas exist\r\n",
                "==================================================================================================================== */\r\n",
                "if not exists (select name from sys.schemas where name = 'history')\r\n",
                "    execute sp_executesql N'Create schema history';\r\n",
                "go\r\n",
                "\r\n",
                "if not exists (select name from sys.schemas where name = 'audit')\r\n",
                "    execute sp_executesql N'Create schema audit';\r\n",
                "go\r\n",
                "\r\n",
                "/* ====================================================================================================================\r\n",
                "    Remove audit.SchemaDrift for rebuild\r\n",
                "==================================================================================================================== */\r\n",
                "if exists (select s.name sch, t.name tbl from sys.tables t join sys.schemas s on t.schema_id = s.schema_id where s.name = 'audit' and t.name = 'SchemaDrift' and t.temporal_type_desc = 'SYSTEM_VERSIONED_TEMPORAL_TABLE')\r\n",
                "    if exists (select s.name sch, t.name tbl from sys.tables t join sys.schemas s on t.schema_id = s.schema_id where s.name = 'history' and t.name = 'SchemaDrift' and temporal_type_desc = 'HISTORY_TABLE')\r\n",
                "    begin\r\n",
                "        alter table audit.SchemaDrift set (system_versioning = off);\r\n",
                "        drop table history.SchemaDrift;\r\n",
                "        drop table audit.SchemaDrift;\r\n",
                "    end\r\n",
                "\r\n",
                "if exists (select s.name sch, t.name tbl from sys.tables t join sys.schemas s on t.schema_id = s.schema_id where s.name = 'history' and t.name = 'SchemaDrift')\r\n",
                "    drop table history.SchemaDrift;\r\n",
                "\r\n",
                "if exists (select s.name sch, t.name tbl from sys.tables t join sys.schemas s on t.schema_id = s.schema_id where s.name = 'audit' and t.name = 'SchemaDrift')\r\n",
                "    drop table audit.SchemaDrift;\r\n",
                "\r\n",
                "/* ====================================================================================================================\r\n",
                "    Create the table and its history table\r\n",
                "==================================================================================================================== */\r\n",
                "if not exists (select s.name sch, t.name tbl from sys.tables t join sys.schemas s on t.schema_id = s.schema_id where s.name = 'history' and t.name = 'SchemaDrift')\r\n",
                "    create table history.SchemaDrift\r\n",
                "        (   SchemaName      sysname\r\n",
                "        ,   TableName       sysname\r\n",
                "        ,   ColumnName      sysname\r\n",
                "        ,   [Definition]    nvarchar(2000)\r\n",
                "        ,   PriorDefinition nvarchar(2000)\r\n",
                "        ,   ActionReason    varchar(50)\r\n",
                "        ,   DdlProposed     nvarchar(2000)\r\n",
                "        ,\tSysStartTime    datetime2 not null\r\n",
                "        ,\tSysEndTime      datetime2 not null\r\n",
                "        )\r\n",
                "\r\n",
                "if not exists (select s.name sch, t.name tbl from sys.tables t join sys.schemas s on t.schema_id = s.schema_id where s.name = 'audit' and t.name = 'SchemaDrift')\r\n",
                "    create table audit.SchemaDrift\r\n",
                "        (   SchemaName      sysname\r\n",
                "        ,   TableName       sysname\r\n",
                "        ,   ColumnName      sysname\r\n",
                "        ,   constraint pk_audit_SchemaDrift primary key clustered (SchemaName, TableName, ColumnName)\r\n",
                "        ,   [Definition]    nvarchar(2000)\r\n",
                "        ,   PriorDefinition nvarchar(2000)\r\n",
                "        ,   ActionReason    varchar(50)\r\n",
                "        ,   DdlProposed     nvarchar(2000)\r\n",
                "        ,\tSysStartTime    datetime2 generated always as row start not null\r\n",
                "        ,\tSysEndTime      datetime2 generated always as row end not null\r\n",
                "\t    ,\tperiod for SYSTEM_TIME (SysStartTime, SysEndTime)\r\n",
                "        )\r\n",
                "        with (system_versioning = on (history_table = history.SchemaDrift))\r\n",
                "\r\n",
                "    "
            ],
            "metadata": {
                "language": "sql",
                "azdata_cell_guid": "d51482c5-94cf-4070-8ec9-69eaf594a7b1"
            },
            "outputs": [
                {
                    "output_type": "display_data",
                    "data": {
                        "text/html": "Commands completed successfully."
                    },
                    "metadata": {}
                },
                {
                    "output_type": "display_data",
                    "data": {
                        "text/html": "Commands completed successfully."
                    },
                    "metadata": {}
                },
                {
                    "output_type": "display_data",
                    "data": {
                        "text/html": "Commands completed successfully."
                    },
                    "metadata": {}
                },
                {
                    "output_type": "display_data",
                    "data": {
                        "text/html": "Total execution time: 00:00:00.095"
                    },
                    "metadata": {}
                }
            ],
            "execution_count": 243
        }
    ]
}