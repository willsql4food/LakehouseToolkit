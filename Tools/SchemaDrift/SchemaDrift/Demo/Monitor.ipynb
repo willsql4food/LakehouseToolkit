{
    "metadata": {
        "kernelspec": {
            "name": "SQL",
            "display_name": "SQL",
            "language": "sql"
        },
        "language_info": {
            "name": "sql",
            "version": ""
        }
    },
    "nbformat_minor": 2,
    "nbformat": 4,
    "cells": [
        {
            "cell_type": "markdown",
            "source": [
                "# Current Target Table Contents\r\n",
                "Execute ELT (Azure Data Factory pipeline, etc.)\r\n",
                "Run this after each simulated load\r\n",
                "\r\n",
                "### `PersonRigid`\r\n",
                "Note truncated data, loss of unicode characters, etc."
            ],
            "metadata": {
                "azdata_cell_guid": "47527720-9cfb-4b43-a47d-effbc734f1f6"
            },
            "attachments": {}
        },
        {
            "cell_type": "code",
            "source": [
                "select * from dbo.PersonRigid order by LastName, FirstName"
            ],
            "metadata": {
                "azdata_cell_guid": "8a0890e7-b66a-4c94-be21-df792bb99e88",
                "language": "sql"
            },
            "outputs": [
                {
                    "output_type": "display_data",
                    "data": {
                        "text/html": "(0 rows affected)"
                    },
                    "metadata": {}
                },
                {
                    "output_type": "display_data",
                    "data": {
                        "text/html": "Total execution time: 00:00:00.024"
                    },
                    "metadata": {}
                },
                {
                    "output_type": "execute_result",
                    "metadata": {},
                    "execution_count": 111,
                    "data": {
                        "application/vnd.dataresource+json": {
                            "schema": {
                                "fields": [
                                    {
                                        "name": "Id"
                                    },
                                    {
                                        "name": "FirstName"
                                    },
                                    {
                                        "name": "MiddleInitial"
                                    },
                                    {
                                        "name": "LastName"
                                    }
                                ]
                            },
                            "data": []
                        },
                        "text/html": [
                            "<table>",
                            "<tr><th>Id</th><th>FirstName</th><th>MiddleInitial</th><th>LastName</th></tr>",
                            "</table>"
                        ]
                    }
                }
            ],
            "execution_count": 111
        },
        {
            "cell_type": "markdown",
            "source": [
                "### `PersonFlexible`\r\n",
                "Note fidelity as columns were altered to fit incoming data"
            ],
            "metadata": {
                "language": "sql",
                "azdata_cell_guid": "9468c17f-8262-4d00-9306-e912f28d60cf"
            },
            "attachments": {}
        },
        {
            "cell_type": "code",
            "source": [
                "select * from dbo.PersonFlexible order by LastName, FirstName"
            ],
            "metadata": {
                "language": "sql",
                "azdata_cell_guid": "4dd4713d-1012-48bd-a09c-619faa017ab7"
            },
            "outputs": [
                {
                    "output_type": "display_data",
                    "data": {
                        "text/html": "(0 rows affected)"
                    },
                    "metadata": {}
                },
                {
                    "output_type": "display_data",
                    "data": {
                        "text/html": "Total execution time: 00:00:00.022"
                    },
                    "metadata": {}
                },
                {
                    "output_type": "execute_result",
                    "metadata": {},
                    "execution_count": 112,
                    "data": {
                        "application/vnd.dataresource+json": {
                            "schema": {
                                "fields": [
                                    {
                                        "name": "Id"
                                    },
                                    {
                                        "name": "FirstName"
                                    },
                                    {
                                        "name": "MiddleInitial"
                                    },
                                    {
                                        "name": "LastName"
                                    },
                                    {
                                        "name": "MiddleName"
                                    }
                                ]
                            },
                            "data": []
                        },
                        "text/html": [
                            "<table>",
                            "<tr><th>Id</th><th>FirstName</th><th>MiddleInitial</th><th>LastName</th><th>MiddleName</th></tr>",
                            "</table>"
                        ]
                    }
                }
            ],
            "execution_count": 112
        },
        {
            "cell_type": "markdown",
            "source": [
                "Compare schemas of both tables"
            ],
            "metadata": {
                "language": "sql",
                "azdata_cell_guid": "53bfbd81-3ff7-4012-a723-594a9643fe12"
            },
            "attachments": {}
        },
        {
            "cell_type": "code",
            "source": [
                "with cte as (\r\n",
                "    select TableName, ColumnName, DefinitionSql from dbo.uftGetTableDefinition('dbo', 'PersonRigid', 0)\r\n",
                "    union\r\n",
                "    select TableName, ColumnName, DefinitionSql from dbo.uftGetTableDefinition('dbo', 'PersonFlexible', 0)\r\n",
                ")\r\n",
                "\r\n",
                "select      TableName, DefinitionSql\r\n",
                "        ,   case when lag(ColumnName) over (order by ColumnName, TableName) is null then ''\r\n",
                "                 when lag(ColumnName) over (order by ColumnName, TableName) <> ColumnName then ''\r\n",
                "                 when lag(ColumnName) over (order by ColumnName, TableName) = ColumnName and lag(DefinitionSql) over (order by ColumnName, TableName) = DefinitionSql \r\n",
                "                 then '' else '***' end match\r\n",
                "from        cte\r\n",
                "order by    DefinitionSql, TableName"
            ],
            "metadata": {
                "language": "sql",
                "azdata_cell_guid": "3ee1e162-334d-4401-aece-6321bc325ec3"
            },
            "outputs": [
                {
                    "output_type": "display_data",
                    "data": {
                        "text/html": "(9 rows affected)"
                    },
                    "metadata": {}
                },
                {
                    "output_type": "display_data",
                    "data": {
                        "text/html": "Total execution time: 00:00:00.028"
                    },
                    "metadata": {}
                },
                {
                    "output_type": "execute_result",
                    "metadata": {},
                    "execution_count": 113,
                    "data": {
                        "application/vnd.dataresource+json": {
                            "schema": {
                                "fields": [
                                    {
                                        "name": "TableName"
                                    },
                                    {
                                        "name": "DefinitionSql"
                                    },
                                    {
                                        "name": "match"
                                    }
                                ]
                            },
                            "data": [
                                {
                                    "TableName": "PersonFlexible",
                                    "DefinitionSql": "[FirstName] nvarchar(20) NULL",
                                    "match": ""
                                },
                                {
                                    "TableName": "PersonRigid",
                                    "DefinitionSql": "[FirstName] varchar(10) NULL",
                                    "match": "***"
                                },
                                {
                                    "TableName": "PersonFlexible",
                                    "DefinitionSql": "[Id] int NOT NULL",
                                    "match": ""
                                },
                                {
                                    "TableName": "PersonRigid",
                                    "DefinitionSql": "[Id] int NOT NULL",
                                    "match": ""
                                },
                                {
                                    "TableName": "PersonFlexible",
                                    "DefinitionSql": "[LastName] nvarchar(71) NULL",
                                    "match": ""
                                },
                                {
                                    "TableName": "PersonRigid",
                                    "DefinitionSql": "[LastName] varchar(15) NULL",
                                    "match": "***"
                                },
                                {
                                    "TableName": "PersonFlexible",
                                    "DefinitionSql": "[MiddleInitial] char(1) NULL",
                                    "match": ""
                                },
                                {
                                    "TableName": "PersonRigid",
                                    "DefinitionSql": "[MiddleInitial] char(1) NULL",
                                    "match": ""
                                },
                                {
                                    "TableName": "PersonFlexible",
                                    "DefinitionSql": "[MiddleName] nvarchar(9) NULL",
                                    "match": ""
                                }
                            ]
                        },
                        "text/html": [
                            "<table>",
                            "<tr><th>TableName</th><th>DefinitionSql</th><th>match</th></tr>",
                            "<tr><td>PersonFlexible</td><td>[FirstName] nvarchar(20) NULL</td><td></td></tr>",
                            "<tr><td>PersonRigid</td><td>[FirstName] varchar(10) NULL</td><td>***</td></tr>",
                            "<tr><td>PersonFlexible</td><td>[Id] int NOT NULL</td><td></td></tr>",
                            "<tr><td>PersonRigid</td><td>[Id] int NOT NULL</td><td></td></tr>",
                            "<tr><td>PersonFlexible</td><td>[LastName] nvarchar(71) NULL</td><td></td></tr>",
                            "<tr><td>PersonRigid</td><td>[LastName] varchar(15) NULL</td><td>***</td></tr>",
                            "<tr><td>PersonFlexible</td><td>[MiddleInitial] char(1) NULL</td><td></td></tr>",
                            "<tr><td>PersonRigid</td><td>[MiddleInitial] char(1) NULL</td><td></td></tr>",
                            "<tr><td>PersonFlexible</td><td>[MiddleName] nvarchar(9) NULL</td><td></td></tr>",
                            "</table>"
                        ]
                    }
                }
            ],
            "execution_count": 113
        },
        {
            "cell_type": "markdown",
            "source": [
                "## Check audit history for any changes made"
            ],
            "metadata": {
                "language": "sql",
                "azdata_cell_guid": "e192ac67-9820-4b11-b082-09618d6d3bd2"
            },
            "attachments": {}
        },
        {
            "cell_type": "code",
            "source": [
                "select      *, current_timestamp TimeNow\r\n",
                "from        audit.SchemaDrift for system_time all\r\n",
                "where       SchemaName = 'dbo'\r\n",
                "    and     TableName in ('PersonRigid', 'PersonFlexible')\r\n",
                "order by    SchemaName, TableName, ColumnName, SysStartTime"
            ],
            "metadata": {
                "language": "sql",
                "azdata_cell_guid": "74732f35-9295-4c7e-b0a3-5239198f9707"
            },
            "outputs": [
                {
                    "output_type": "display_data",
                    "data": {
                        "text/html": "(12 rows affected)"
                    },
                    "metadata": {}
                },
                {
                    "output_type": "display_data",
                    "data": {
                        "text/html": "Total execution time: 00:00:00.040"
                    },
                    "metadata": {}
                },
                {
                    "output_type": "execute_result",
                    "metadata": {},
                    "execution_count": 114,
                    "data": {
                        "application/vnd.dataresource+json": {
                            "schema": {
                                "fields": [
                                    {
                                        "name": "SchemaName"
                                    },
                                    {
                                        "name": "TableName"
                                    },
                                    {
                                        "name": "ColumnName"
                                    },
                                    {
                                        "name": "Definition"
                                    },
                                    {
                                        "name": "PriorDefinition"
                                    },
                                    {
                                        "name": "ActionReason"
                                    },
                                    {
                                        "name": "DdlProposed"
                                    },
                                    {
                                        "name": "SysStartTime"
                                    },
                                    {
                                        "name": "SysEndTime"
                                    },
                                    {
                                        "name": "TimeNow"
                                    }
                                ]
                            },
                            "data": [
                                {
                                    "SchemaName": "dbo",
                                    "TableName": "PersonFlexible",
                                    "ColumnName": "[FirstName]",
                                    "Definition": "[FirstName] varchar(20) NULL",
                                    "PriorDefinition": "[FirstName] varchar(10) NULL",
                                    "ActionReason": "DDL.SMALLER_STRING",
                                    "DdlProposed": "NULL",
                                    "SysStartTime": "2023-10-26 20:14:23.0624119",
                                    "SysEndTime": "2023-10-26 20:14:23.0936842",
                                    "TimeNow": "2023-10-26 20:14:35.430"
                                },
                                {
                                    "SchemaName": "dbo",
                                    "TableName": "PersonFlexible",
                                    "ColumnName": "[FirstName]",
                                    "Definition": "[FirstName] nvarchar(20) NULL",
                                    "PriorDefinition": "[FirstName] varchar(20) NULL",
                                    "ActionReason": "DDL.UNICODE_TO_ASCII",
                                    "DdlProposed": "NULL",
                                    "SysStartTime": "2023-10-26 20:14:23.1093068",
                                    "SysEndTime": "9999-12-31 23:59:59.9999999",
                                    "TimeNow": "2023-10-26 20:14:35.430"
                                },
                                {
                                    "SchemaName": "dbo",
                                    "TableName": "PersonFlexible",
                                    "ColumnName": "[LastName]",
                                    "Definition": "[LastName] varchar(25) NULL",
                                    "PriorDefinition": "[LastName] varchar(15) NULL",
                                    "ActionReason": "DDL.SMALLER_STRING",
                                    "DdlProposed": "NULL",
                                    "SysStartTime": "2023-10-26 20:14:23.0624119",
                                    "SysEndTime": "2023-10-26 20:14:23.0936842",
                                    "TimeNow": "2023-10-26 20:14:35.430"
                                },
                                {
                                    "SchemaName": "dbo",
                                    "TableName": "PersonFlexible",
                                    "ColumnName": "[LastName]",
                                    "Definition": "[LastName] varchar(71) NULL",
                                    "PriorDefinition": "[LastName] varchar(25) NULL",
                                    "ActionReason": "DDL.SMALLER_STRING",
                                    "DdlProposed": "NULL",
                                    "SysStartTime": "2023-10-26 20:14:23.0936842",
                                    "SysEndTime": "2023-10-26 20:14:23.1249137",
                                    "TimeNow": "2023-10-26 20:14:35.430"
                                },
                                {
                                    "SchemaName": "dbo",
                                    "TableName": "PersonFlexible",
                                    "ColumnName": "[LastName]",
                                    "Definition": "[LastName] nvarchar(71) NULL",
                                    "PriorDefinition": "[LastName] varchar(71) NULL",
                                    "ActionReason": "DDL.UNICODE_TO_ASCII",
                                    "DdlProposed": "NULL",
                                    "SysStartTime": "2023-10-26 20:14:23.1249137",
                                    "SysEndTime": "9999-12-31 23:59:59.9999999",
                                    "TimeNow": "2023-10-26 20:14:35.430"
                                },
                                {
                                    "SchemaName": "dbo",
                                    "TableName": "PersonFlexible",
                                    "ColumnName": "[MiddleName]",
                                    "Definition": "[MiddleName] varchar(9) NULL",
                                    "PriorDefinition": "NULL",
                                    "ActionReason": "DDL.NO_DEST",
                                    "DdlProposed": "NULL",
                                    "SysStartTime": "2023-10-26 20:14:23.0780570",
                                    "SysEndTime": "2023-10-26 20:14:23.1093068",
                                    "TimeNow": "2023-10-26 20:14:35.430"
                                },
                                {
                                    "SchemaName": "dbo",
                                    "TableName": "PersonFlexible",
                                    "ColumnName": "[MiddleName]",
                                    "Definition": "[MiddleName] nvarchar(9) NULL",
                                    "PriorDefinition": "[MiddleName] varchar(9) NULL",
                                    "ActionReason": "DDL.UNICODE_TO_ASCII",
                                    "DdlProposed": "NULL",
                                    "SysStartTime": "2023-10-26 20:14:23.1249137",
                                    "SysEndTime": "9999-12-31 23:59:59.9999999",
                                    "TimeNow": "2023-10-26 20:14:35.430"
                                },
                                {
                                    "SchemaName": "dbo",
                                    "TableName": "PersonRigid",
                                    "ColumnName": "[FirstName]",
                                    "Definition": "[FirstName] varchar(10) NULL",
                                    "PriorDefinition": "NULL",
                                    "ActionReason": "DDL.SMALLER_STRING",
                                    "DdlProposed": "alter table [dbo].[PersonRigid] alter column [FirstName] varchar(20) NULL",
                                    "SysStartTime": "2023-10-26 20:14:20.8124127",
                                    "SysEndTime": "2023-10-26 20:14:20.8436625",
                                    "TimeNow": "2023-10-26 20:14:35.430"
                                },
                                {
                                    "SchemaName": "dbo",
                                    "TableName": "PersonRigid",
                                    "ColumnName": "[FirstName]",
                                    "Definition": "[FirstName] varchar(10) NULL",
                                    "PriorDefinition": "NULL",
                                    "ActionReason": "DDL.UNICODE_TO_ASCII",
                                    "DdlProposed": "alter table [dbo].[PersonRigid] alter column [FirstName] nvarchar(10) NULL",
                                    "SysStartTime": "2023-10-26 20:14:20.8436625",
                                    "SysEndTime": "9999-12-31 23:59:59.9999999",
                                    "TimeNow": "2023-10-26 20:14:35.430"
                                },
                                {
                                    "SchemaName": "dbo",
                                    "TableName": "PersonRigid",
                                    "ColumnName": "[LastName]",
                                    "Definition": "[LastName] varchar(15) NULL",
                                    "PriorDefinition": "NULL",
                                    "ActionReason": "DDL.SMALLER_STRING",
                                    "DdlProposed": "alter table [dbo].[PersonRigid] alter column [LastName] varchar(25) NULL",
                                    "SysStartTime": "2023-10-26 20:14:20.8124127",
                                    "SysEndTime": "2023-10-26 20:14:20.8436625",
                                    "TimeNow": "2023-10-26 20:14:35.430"
                                },
                                {
                                    "SchemaName": "dbo",
                                    "TableName": "PersonRigid",
                                    "ColumnName": "[LastName]",
                                    "Definition": "[LastName] varchar(15) NULL",
                                    "PriorDefinition": "NULL",
                                    "ActionReason": "DDL.UNICODE_TO_ASCII",
                                    "DdlProposed": "alter table [dbo].[PersonRigid] alter column [LastName] nvarchar(15) NULL",
                                    "SysStartTime": "2023-10-26 20:14:20.8436625",
                                    "SysEndTime": "9999-12-31 23:59:59.9999999",
                                    "TimeNow": "2023-10-26 20:14:35.430"
                                },
                                {
                                    "SchemaName": "dbo",
                                    "TableName": "PersonRigid",
                                    "ColumnName": "[MiddleName]",
                                    "Definition": "NULL",
                                    "PriorDefinition": "NULL",
                                    "ActionReason": "DDL.NO_DEST",
                                    "DdlProposed": "alter table [dbo].[PersonRigid] add [MiddleName] nvarchar(7) NULL",
                                    "SysStartTime": "2023-10-26 20:14:20.8436625",
                                    "SysEndTime": "9999-12-31 23:59:59.9999999",
                                    "TimeNow": "2023-10-26 20:14:35.430"
                                }
                            ]
                        },
                        "text/html": [
                            "<table>",
                            "<tr><th>SchemaName</th><th>TableName</th><th>ColumnName</th><th>Definition</th><th>PriorDefinition</th><th>ActionReason</th><th>DdlProposed</th><th>SysStartTime</th><th>SysEndTime</th><th>TimeNow</th></tr>",
                            "<tr><td>dbo</td><td>PersonFlexible</td><td>[FirstName]</td><td>[FirstName] varchar(20) NULL</td><td>[FirstName] varchar(10) NULL</td><td>DDL.SMALLER_STRING</td><td>NULL</td><td>2023-10-26 20:14:23.0624119</td><td>2023-10-26 20:14:23.0936842</td><td>2023-10-26 20:14:35.430</td></tr>",
                            "<tr><td>dbo</td><td>PersonFlexible</td><td>[FirstName]</td><td>[FirstName] nvarchar(20) NULL</td><td>[FirstName] varchar(20) NULL</td><td>DDL.UNICODE_TO_ASCII</td><td>NULL</td><td>2023-10-26 20:14:23.1093068</td><td>9999-12-31 23:59:59.9999999</td><td>2023-10-26 20:14:35.430</td></tr>",
                            "<tr><td>dbo</td><td>PersonFlexible</td><td>[LastName]</td><td>[LastName] varchar(25) NULL</td><td>[LastName] varchar(15) NULL</td><td>DDL.SMALLER_STRING</td><td>NULL</td><td>2023-10-26 20:14:23.0624119</td><td>2023-10-26 20:14:23.0936842</td><td>2023-10-26 20:14:35.430</td></tr>",
                            "<tr><td>dbo</td><td>PersonFlexible</td><td>[LastName]</td><td>[LastName] varchar(71) NULL</td><td>[LastName] varchar(25) NULL</td><td>DDL.SMALLER_STRING</td><td>NULL</td><td>2023-10-26 20:14:23.0936842</td><td>2023-10-26 20:14:23.1249137</td><td>2023-10-26 20:14:35.430</td></tr>",
                            "<tr><td>dbo</td><td>PersonFlexible</td><td>[LastName]</td><td>[LastName] nvarchar(71) NULL</td><td>[LastName] varchar(71) NULL</td><td>DDL.UNICODE_TO_ASCII</td><td>NULL</td><td>2023-10-26 20:14:23.1249137</td><td>9999-12-31 23:59:59.9999999</td><td>2023-10-26 20:14:35.430</td></tr>",
                            "<tr><td>dbo</td><td>PersonFlexible</td><td>[MiddleName]</td><td>[MiddleName] varchar(9) NULL</td><td>NULL</td><td>DDL.NO_DEST</td><td>NULL</td><td>2023-10-26 20:14:23.0780570</td><td>2023-10-26 20:14:23.1093068</td><td>2023-10-26 20:14:35.430</td></tr>",
                            "<tr><td>dbo</td><td>PersonFlexible</td><td>[MiddleName]</td><td>[MiddleName] nvarchar(9) NULL</td><td>[MiddleName] varchar(9) NULL</td><td>DDL.UNICODE_TO_ASCII</td><td>NULL</td><td>2023-10-26 20:14:23.1249137</td><td>9999-12-31 23:59:59.9999999</td><td>2023-10-26 20:14:35.430</td></tr>",
                            "<tr><td>dbo</td><td>PersonRigid</td><td>[FirstName]</td><td>[FirstName] varchar(10) NULL</td><td>NULL</td><td>DDL.SMALLER_STRING</td><td>alter table [dbo].[PersonRigid] alter column [FirstName] varchar(20) NULL</td><td>2023-10-26 20:14:20.8124127</td><td>2023-10-26 20:14:20.8436625</td><td>2023-10-26 20:14:35.430</td></tr>",
                            "<tr><td>dbo</td><td>PersonRigid</td><td>[FirstName]</td><td>[FirstName] varchar(10) NULL</td><td>NULL</td><td>DDL.UNICODE_TO_ASCII</td><td>alter table [dbo].[PersonRigid] alter column [FirstName] nvarchar(10) NULL</td><td>2023-10-26 20:14:20.8436625</td><td>9999-12-31 23:59:59.9999999</td><td>2023-10-26 20:14:35.430</td></tr>",
                            "<tr><td>dbo</td><td>PersonRigid</td><td>[LastName]</td><td>[LastName] varchar(15) NULL</td><td>NULL</td><td>DDL.SMALLER_STRING</td><td>alter table [dbo].[PersonRigid] alter column [LastName] varchar(25) NULL</td><td>2023-10-26 20:14:20.8124127</td><td>2023-10-26 20:14:20.8436625</td><td>2023-10-26 20:14:35.430</td></tr>",
                            "<tr><td>dbo</td><td>PersonRigid</td><td>[LastName]</td><td>[LastName] varchar(15) NULL</td><td>NULL</td><td>DDL.UNICODE_TO_ASCII</td><td>alter table [dbo].[PersonRigid] alter column [LastName] nvarchar(15) NULL</td><td>2023-10-26 20:14:20.8436625</td><td>9999-12-31 23:59:59.9999999</td><td>2023-10-26 20:14:35.430</td></tr>",
                            "<tr><td>dbo</td><td>PersonRigid</td><td>[MiddleName]</td><td>NULL</td><td>NULL</td><td>DDL.NO_DEST</td><td>alter table [dbo].[PersonRigid] add [MiddleName] nvarchar(7) NULL</td><td>2023-10-26 20:14:20.8436625</td><td>9999-12-31 23:59:59.9999999</td><td>2023-10-26 20:14:35.430</td></tr>",
                            "</table>"
                        ]
                    }
                }
            ],
            "execution_count": 114
        }
    ]
}