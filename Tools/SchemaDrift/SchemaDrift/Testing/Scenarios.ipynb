{
    "metadata": {
        "kernelspec": {
            "name": "SQL",
            "display_name": "SQL",
            "language": "sql"
        },
        "language_info": {
            "name": "sql",
            "version": ""
        }
    },
    "nbformat_minor": 2,
    "nbformat": 4,
    "cells": [
        {
            "cell_type": "markdown",
            "source": [
                "# Test Various Scenarios\r\n",
                "## First, simply show comparision of two tables and what the insert clause would look like with convert(...) for differing columns"
            ],
            "metadata": {
                "azdata_cell_guid": "4bf1471a-9a57-4222-8bc8-38d916ff2631"
            },
            "attachments": {}
        },
        {
            "cell_type": "markdown",
            "source": [
                "### Tables that don't exist or same source and target generate errors"
            ],
            "metadata": {
                "azdata_cell_guid": "3a9752d6-e527-45c8-aad8-54dce7efca24"
            },
            "attachments": {}
        },
        {
            "cell_type": "code",
            "source": [
                "exec uspConformTable 'dbo', 'FakeSource', 'dbo', 'colors', '{}'\r\n",
                "exec uspConformTable 'dbo', 'colors', 'dbo', 'FakeTarget', '{}'\r\n",
                "exec uspConformTable 'dbo', 'colors', 'dbo', 'colors', '{}'\r\n",
                ""
            ],
            "metadata": {
                "azdata_cell_guid": "4e0bc5a1-a7fc-452e-93c2-2608fda88e9c",
                "language": "sql"
            },
            "outputs": [],
            "execution_count": null
        },
        {
            "cell_type": "markdown",
            "source": [
                "### Table with smaller data types going to table with larger ones\r\n",
                "* varchar(50) --> varchar(100)\r\n",
                "* int --> bigint"
            ],
            "metadata": {
                "language": "sql",
                "azdata_cell_guid": "653c69b7-850c-4ccc-9743-e23cae3a85d1"
            },
            "attachments": {}
        },
        {
            "cell_type": "code",
            "source": [
                "exec uspConformTable 'dbo', 'smaller', 'dbo', 'bigger', '{\"Debug\": 1, \"Perform DML\": 0}'"
            ],
            "metadata": {
                "azdata_cell_guid": "edeca8c7-81f5-4326-a6c1-d3a93111c30b",
                "language": "sql"
            },
            "outputs": [],
            "execution_count": null
        },
        {
            "cell_type": "markdown",
            "source": [
                "```\n",
                "insert into [dbo].[bigger] ([id], [i1], [i2], [i3], [dt1], [dt2], [dt3], [dt4], [dt5], [t], [bucks], [r1], [n1], [cs], [ncs], [s], [ns], [var2nvar], [var2nvarsz], [char2ncharar], [bin], [vbin], [ft]) \n",
                "select [id], [i1], [i2], [i3], [dt1], [dt2], [dt3], [dt4], [dt5], [t], [bucks], [r1], [n1], [cs], [ncs], [s], [ns], convert(nvarchar(250), [var2nvar]), convert( nvarchar(200), [var2nvarsz]), convert(nchar(25), [char2ncharar]), [bin], [vbin], [ft] \n",
                "from [dbo].[smaller]\n",
                "```"
            ],
            "metadata": {
                "azdata_cell_guid": "531792b7-3f20-4892-b3f8-6d1918d91a30"
            },
            "attachments": {}
        },
        {
            "cell_type": "code",
            "source": [
                "exec uspConformTable 'dbo', 'bigger', 'dbo', 'smaller', '{\"Debug\": 1, \"Perform DML\": 0}'"
            ],
            "metadata": {
                "azdata_cell_guid": "6fafd9a2-4be6-4e1e-b563-8aff6b423f22",
                "language": "sql"
            },
            "outputs": [
                {
                    "output_type": "display_data",
                    "data": {
                        "text/html": "Commands completed successfully."
                    },
                    "metadata": {}
                },
                {
                    "output_type": "display_data",
                    "data": {
                        "text/html": "Total execution time: 00:00:00.190"
                    },
                    "metadata": {}
                },
                {
                    "output_type": "execute_result",
                    "metadata": {},
                    "execution_count": 8,
                    "data": {
                        "application/vnd.dataresource+json": {
                            "schema": {
                                "fields": [
                                    {
                                        "name": "SqlCommand"
                                    }
                                ]
                            },
                            "data": [
                                {
                                    "SqlCommand": "insert into [dbo].[smaller] ([id], [i1], [i2], [i3], [dt1], [dt2], [dt3], [dt4], [dt5], [t], [bucks], [r1], [n1], [cs], [ncs], [s], [ns], [var2nvar], [var2nvarsz], [char2ncharar], [bin], [vbin], [ft]) select [id], convert( tinyint, [i1]), convert( smallint, [i2]), convert( int, [i3]), convert( date, [dt1]), convert( smalldatetime, [dt2]), convert( datetime, [dt3]), convert( datetime2(5), [dt4]), convert( datetimeoffset(5), [dt5]), convert( time(5), [t]), convert( smallmoney, [bucks]), convert( real, [r1]), convert( decimal(20, 5), [n1]), convert( char(10), [cs]), convert( nchar(10), [ncs]), convert( varchar(200), [s]), convert( nvarchar(200), [ns]), convert( varchar(250), [var2nvar]), convert( varchar(250), [var2nvarsz]), convert( char(25), [char2ncharar]), convert( binary(90), [bin]), convert( varbinary(90), [vbin]), convert( real, [ft]) from [dbo].[bigger]"
                                }
                            ]
                        },
                        "text/html": [
                            "<table>",
                            "<tr><th>SqlCommand</th></tr>",
                            "<tr><td>insert into [dbo].[smaller] ([id], [i1], [i2], [i3], [dt1], [dt2], [dt3], [dt4], [dt5], [t], [bucks], [r1], [n1], [cs], [ncs], [s], [ns], [var2nvar], [var2nvarsz], [char2ncharar], [bin], [vbin], [ft]) select [id], convert( tinyint, [i1]), convert( smallint, [i2]), convert( int, [i3]), convert( date, [dt1]), convert( smalldatetime, [dt2]), convert( datetime, [dt3]), convert( datetime2(5), [dt4]), convert( datetimeoffset(5), [dt5]), convert( time(5), [t]), convert( smallmoney, [bucks]), convert( real, [r1]), convert( decimal(20, 5), [n1]), convert( char(10), [cs]), convert( nchar(10), [ncs]), convert( varchar(200), [s]), convert( nvarchar(200), [ns]), convert( varchar(250), [var2nvar]), convert( varchar(250), [var2nvarsz]), convert( char(25), [char2ncharar]), convert( binary(90), [bin]), convert( varbinary(90), [vbin]), convert( real, [ft]) from [dbo].[bigger]</td></tr>",
                            "</table>"
                        ]
                    }
                },
                {
                    "output_type": "execute_result",
                    "metadata": {},
                    "execution_count": 8,
                    "data": {
                        "application/vnd.dataresource+json": {
                            "schema": {
                                "fields": [
                                    {
                                        "name": "ColumnName"
                                    },
                                    {
                                        "name": "ActionPath"
                                    },
                                    {
                                        "name": "srcColDefinition"
                                    },
                                    {
                                        "name": "--&gt;"
                                    },
                                    {
                                        "name": "tgtColDefinition"
                                    },
                                    {
                                        "name": "tgtTypeName"
                                    },
                                    {
                                        "name": "tgtMaxStrLength"
                                    },
                                    {
                                        "name": "difMaxLength"
                                    },
                                    {
                                        "name": "tgtPrecision"
                                    },
                                    {
                                        "name": "difPrecision"
                                    },
                                    {
                                        "name": "tgtScale"
                                    },
                                    {
                                        "name": "difScale"
                                    },
                                    {
                                        "name": "SelectClauseNoDml"
                                    },
                                    {
                                        "name": "DmlStmt"
                                    },
                                    {
                                        "name": "SelectClausePostDml"
                                    },
                                    {
                                        "name": "Options"
                                    },
                                    {
                                        "name": "ActionMessage"
                                    }
                                ]
                            },
                            "data": [
                                {
                                    "ColumnName": "[ft]",
                                    "ActionPath": "DML.PRECISION",
                                    "srcColDefinition": "[ft] float(53) NULL",
                                    "-->": "-->",
                                    "tgtColDefinition": "[ft] real NULL",
                                    "tgtTypeName": "real",
                                    "tgtMaxStrLength": "4",
                                    "difMaxLength": "4",
                                    "tgtPrecision": "24",
                                    "difPrecision": "29",
                                    "tgtScale": "0",
                                    "difScale": "0",
                                    "SelectClauseNoDml": "convert( real, [ft])",
                                    "DmlStmt": "alter table [dbo].[smaller] alter column [ft] float(53) NULL",
                                    "SelectClausePostDml": "[ft]",
                                    "Options": "{\"Debug\": 1, \"Perform DML\": 0}",
                                    "ActionMessage": "Target column has lower precision than source - risk of truncation"
                                },
                                {
                                    "ColumnName": "[r1]",
                                    "ActionPath": "DML.PRECISION",
                                    "srcColDefinition": "[r1] float(53) NULL",
                                    "-->": "-->",
                                    "tgtColDefinition": "[r1] real NULL",
                                    "tgtTypeName": "real",
                                    "tgtMaxStrLength": "4",
                                    "difMaxLength": "4",
                                    "tgtPrecision": "24",
                                    "difPrecision": "29",
                                    "tgtScale": "0",
                                    "difScale": "0",
                                    "SelectClauseNoDml": "convert( real, [r1])",
                                    "DmlStmt": "alter table [dbo].[smaller] alter column [r1] float(53) NULL",
                                    "SelectClausePostDml": "[r1]",
                                    "Options": "{\"Debug\": 1, \"Perform DML\": 0}",
                                    "ActionMessage": "Target column has lower precision than source - risk of truncation"
                                },
                                {
                                    "ColumnName": "[n1]",
                                    "ActionPath": "DML.PRECISION_SCALE",
                                    "srcColDefinition": "[n1] decimal(35, 10) NULL",
                                    "-->": "-->",
                                    "tgtColDefinition": "[n1] decimal(20, 5) NULL",
                                    "tgtTypeName": "decimal",
                                    "tgtMaxStrLength": "13",
                                    "difMaxLength": "4",
                                    "tgtPrecision": "20",
                                    "difPrecision": "15",
                                    "tgtScale": "5",
                                    "difScale": "5",
                                    "SelectClauseNoDml": "convert( decimal(20, 5), [n1])",
                                    "DmlStmt": "alter table [dbo].[smaller] alter column [n1] decimal(35, 10) NULL",
                                    "SelectClausePostDml": "[n1]",
                                    "Options": "{\"Debug\": 1, \"Perform DML\": 0}",
                                    "ActionMessage": "Target column has lower precision or scale than source - risk of truncation"
                                },
                                {
                                    "ColumnName": "[dt5]",
                                    "ActionPath": "DML.SCALE",
                                    "srcColDefinition": "[dt5] datetimeoffset(7) NULL",
                                    "-->": "-->",
                                    "tgtColDefinition": "[dt5] datetimeoffset(5) NULL",
                                    "tgtTypeName": "datetimeoffset",
                                    "tgtMaxStrLength": "10",
                                    "difMaxLength": "0",
                                    "tgtPrecision": "32",
                                    "difPrecision": "2",
                                    "tgtScale": "5",
                                    "difScale": "2",
                                    "SelectClauseNoDml": "convert( datetimeoffset(5), [dt5])",
                                    "DmlStmt": "alter table [dbo].[smaller] alter column [dt5] datetimeoffset(7) NULL",
                                    "SelectClausePostDml": "[dt5]",
                                    "Options": "{\"Debug\": 1, \"Perform DML\": 0}",
                                    "ActionMessage": "Target column has lower scale than source - risk of truncation"
                                },
                                {
                                    "ColumnName": "[t]",
                                    "ActionPath": "DML.SCALE",
                                    "srcColDefinition": "[t] time(7) NULL",
                                    "-->": "-->",
                                    "tgtColDefinition": "[t] time(5) NULL",
                                    "tgtTypeName": "time",
                                    "tgtMaxStrLength": "5",
                                    "difMaxLength": "0",
                                    "tgtPrecision": "14",
                                    "difPrecision": "2",
                                    "tgtScale": "5",
                                    "difScale": "2",
                                    "SelectClauseNoDml": "convert( time(5), [t])",
                                    "DmlStmt": "alter table [dbo].[smaller] alter column [t] time(7) NULL",
                                    "SelectClausePostDml": "[t]",
                                    "Options": "{\"Debug\": 1, \"Perform DML\": 0}",
                                    "ActionMessage": "Target column has lower scale than source - risk of truncation"
                                },
                                {
                                    "ColumnName": "[bucks]",
                                    "ActionPath": "DML.SMALLER_NUMERIC",
                                    "srcColDefinition": "[bucks] money NULL",
                                    "-->": "-->",
                                    "tgtColDefinition": "[bucks] smallmoney NULL",
                                    "tgtTypeName": "smallmoney",
                                    "tgtMaxStrLength": "4",
                                    "difMaxLength": "4",
                                    "tgtPrecision": "10",
                                    "difPrecision": "9",
                                    "tgtScale": "4",
                                    "difScale": "0",
                                    "SelectClauseNoDml": "convert( smallmoney, [bucks])",
                                    "DmlStmt": "alter table [dbo].[smaller] alter column [bucks] money NULL",
                                    "SelectClausePostDml": "[bucks]",
                                    "Options": "{\"Debug\": 1, \"Perform DML\": 0}",
                                    "ActionMessage": "Target number / datetime is smaller than source - either alter target column or risk truncation"
                                },
                                {
                                    "ColumnName": "[dt1]",
                                    "ActionPath": "DML.SMALLER_NUMERIC",
                                    "srcColDefinition": "[dt1] smalldatetime NULL",
                                    "-->": "-->",
                                    "tgtColDefinition": "[dt1] date NULL",
                                    "tgtTypeName": "date",
                                    "tgtMaxStrLength": "3",
                                    "difMaxLength": "1",
                                    "tgtPrecision": "10",
                                    "difPrecision": "6",
                                    "tgtScale": "0",
                                    "difScale": "0",
                                    "SelectClauseNoDml": "convert( date, [dt1])",
                                    "DmlStmt": "alter table [dbo].[smaller] alter column [dt1] smalldatetime NULL",
                                    "SelectClausePostDml": "[dt1]",
                                    "Options": "{\"Debug\": 1, \"Perform DML\": 0}",
                                    "ActionMessage": "Target number / datetime is smaller than source - either alter target column or risk truncation"
                                },
                                {
                                    "ColumnName": "[dt2]",
                                    "ActionPath": "DML.SMALLER_NUMERIC",
                                    "srcColDefinition": "[dt2] datetime NULL",
                                    "-->": "-->",
                                    "tgtColDefinition": "[dt2] smalldatetime NULL",
                                    "tgtTypeName": "smalldatetime",
                                    "tgtMaxStrLength": "4",
                                    "difMaxLength": "4",
                                    "tgtPrecision": "16",
                                    "difPrecision": "7",
                                    "tgtScale": "0",
                                    "difScale": "3",
                                    "SelectClauseNoDml": "convert( smalldatetime, [dt2])",
                                    "DmlStmt": "alter table [dbo].[smaller] alter column [dt2] datetime NULL",
                                    "SelectClausePostDml": "[dt2]",
                                    "Options": "{\"Debug\": 1, \"Perform DML\": 0}",
                                    "ActionMessage": "Target number / datetime is smaller than source - either alter target column or risk truncation"
                                },
                                {
                                    "ColumnName": "[dt3]",
                                    "ActionPath": "DML.SMALLER_NUMERIC",
                                    "srcColDefinition": "[dt3] datetime2(7) NULL",
                                    "-->": "-->",
                                    "tgtColDefinition": "[dt3] datetime NULL",
                                    "tgtTypeName": "datetime",
                                    "tgtMaxStrLength": "8",
                                    "difMaxLength": "0",
                                    "tgtPrecision": "23",
                                    "difPrecision": "4",
                                    "tgtScale": "3",
                                    "difScale": "4",
                                    "SelectClauseNoDml": "convert( datetime, [dt3])",
                                    "DmlStmt": "alter table [dbo].[smaller] alter column [dt3] datetime2(7) NULL",
                                    "SelectClausePostDml": "[dt3]",
                                    "Options": "{\"Debug\": 1, \"Perform DML\": 0}",
                                    "ActionMessage": "Target number / datetime is smaller than source - either alter target column or risk truncation"
                                },
                                {
                                    "ColumnName": "[dt4]",
                                    "ActionPath": "DML.SMALLER_NUMERIC",
                                    "srcColDefinition": "[dt4] datetimeoffset(5) NULL",
                                    "-->": "-->",
                                    "tgtColDefinition": "[dt4] datetime2(5) NULL",
                                    "tgtTypeName": "datetime2",
                                    "tgtMaxStrLength": "8",
                                    "difMaxLength": "2",
                                    "tgtPrecision": "25",
                                    "difPrecision": "7",
                                    "tgtScale": "5",
                                    "difScale": "0",
                                    "SelectClauseNoDml": "convert( datetime2(5), [dt4])",
                                    "DmlStmt": "alter table [dbo].[smaller] alter column [dt4] datetimeoffset(5) NULL",
                                    "SelectClausePostDml": "[dt4]",
                                    "Options": "{\"Debug\": 1, \"Perform DML\": 0}",
                                    "ActionMessage": "Target number / datetime is smaller than source - either alter target column or risk truncation"
                                },
                                {
                                    "ColumnName": "[i1]",
                                    "ActionPath": "DML.SMALLER_NUMERIC",
                                    "srcColDefinition": "[i1] smallint NULL",
                                    "-->": "-->",
                                    "tgtColDefinition": "[i1] tinyint NULL",
                                    "tgtTypeName": "tinyint",
                                    "tgtMaxStrLength": "1",
                                    "difMaxLength": "1",
                                    "tgtPrecision": "3",
                                    "difPrecision": "2",
                                    "tgtScale": "0",
                                    "difScale": "0",
                                    "SelectClauseNoDml": "convert( tinyint, [i1])",
                                    "DmlStmt": "alter table [dbo].[smaller] alter column [i1] smallint NULL",
                                    "SelectClausePostDml": "[i1]",
                                    "Options": "{\"Debug\": 1, \"Perform DML\": 0}",
                                    "ActionMessage": "Target number / datetime is smaller than source - either alter target column or risk truncation"
                                },
                                {
                                    "ColumnName": "[i2]",
                                    "ActionPath": "DML.SMALLER_NUMERIC",
                                    "srcColDefinition": "[i2] int NULL",
                                    "-->": "-->",
                                    "tgtColDefinition": "[i2] smallint NULL",
                                    "tgtTypeName": "smallint",
                                    "tgtMaxStrLength": "2",
                                    "difMaxLength": "2",
                                    "tgtPrecision": "5",
                                    "difPrecision": "5",
                                    "tgtScale": "0",
                                    "difScale": "0",
                                    "SelectClauseNoDml": "convert( smallint, [i2])",
                                    "DmlStmt": "alter table [dbo].[smaller] alter column [i2] int NULL",
                                    "SelectClausePostDml": "[i2]",
                                    "Options": "{\"Debug\": 1, \"Perform DML\": 0}",
                                    "ActionMessage": "Target number / datetime is smaller than source - either alter target column or risk truncation"
                                },
                                {
                                    "ColumnName": "[i3]",
                                    "ActionPath": "DML.SMALLER_NUMERIC",
                                    "srcColDefinition": "[i3] bigint NULL",
                                    "-->": "-->",
                                    "tgtColDefinition": "[i3] int NULL",
                                    "tgtTypeName": "int",
                                    "tgtMaxStrLength": "4",
                                    "difMaxLength": "4",
                                    "tgtPrecision": "10",
                                    "difPrecision": "9",
                                    "tgtScale": "0",
                                    "difScale": "0",
                                    "SelectClauseNoDml": "convert( int, [i3])",
                                    "DmlStmt": "alter table [dbo].[smaller] alter column [i3] bigint NULL",
                                    "SelectClausePostDml": "[i3]",
                                    "Options": "{\"Debug\": 1, \"Perform DML\": 0}",
                                    "ActionMessage": "Target number / datetime is smaller than source - either alter target column or risk truncation"
                                },
                                {
                                    "ColumnName": "[bin]",
                                    "ActionPath": "DML.SMALLER_STRING",
                                    "srcColDefinition": "[bin] binary(120) NULL",
                                    "-->": "-->",
                                    "tgtColDefinition": "[bin] binary(90) NULL",
                                    "tgtTypeName": "binary",
                                    "tgtMaxStrLength": "90",
                                    "difMaxLength": "30",
                                    "tgtPrecision": "0",
                                    "difPrecision": "0",
                                    "tgtScale": "0",
                                    "difScale": "0",
                                    "SelectClauseNoDml": "convert( binary(90), [bin])",
                                    "DmlStmt": "alter table [dbo].[smaller] alter column [bin] binary(120) NULL",
                                    "SelectClausePostDml": "[bin]",
                                    "Options": "{\"Debug\": 1, \"Perform DML\": 0}",
                                    "ActionMessage": "Target string is smaller than source - either alter target column or risk truncation"
                                },
                                {
                                    "ColumnName": "[cs]",
                                    "ActionPath": "DML.SMALLER_STRING",
                                    "srcColDefinition": "[cs] char(15) NULL",
                                    "-->": "-->",
                                    "tgtColDefinition": "[cs] char(10) NULL",
                                    "tgtTypeName": "char",
                                    "tgtMaxStrLength": "10",
                                    "difMaxLength": "5",
                                    "tgtPrecision": "0",
                                    "difPrecision": "0",
                                    "tgtScale": "0",
                                    "difScale": "0",
                                    "SelectClauseNoDml": "convert( char(10), [cs])",
                                    "DmlStmt": "alter table [dbo].[smaller] alter column [cs] char(15) NULL",
                                    "SelectClausePostDml": "[cs]",
                                    "Options": "{\"Debug\": 1, \"Perform DML\": 0}",
                                    "ActionMessage": "Target string is smaller than source - either alter target column or risk truncation"
                                },
                                {
                                    "ColumnName": "[ncs]",
                                    "ActionPath": "DML.SMALLER_STRING",
                                    "srcColDefinition": "[ncs] nchar(15) NULL",
                                    "-->": "-->",
                                    "tgtColDefinition": "[ncs] nchar(10) NULL",
                                    "tgtTypeName": "nchar",
                                    "tgtMaxStrLength": "10",
                                    "difMaxLength": "5",
                                    "tgtPrecision": "0",
                                    "difPrecision": "0",
                                    "tgtScale": "0",
                                    "difScale": "0",
                                    "SelectClauseNoDml": "convert( nchar(10), [ncs])",
                                    "DmlStmt": "alter table [dbo].[smaller] alter column [ncs] nchar(15) NULL",
                                    "SelectClausePostDml": "[ncs]",
                                    "Options": "{\"Debug\": 1, \"Perform DML\": 0}",
                                    "ActionMessage": "Target string is smaller than source - either alter target column or risk truncation"
                                },
                                {
                                    "ColumnName": "[ns]",
                                    "ActionPath": "DML.SMALLER_STRING",
                                    "srcColDefinition": "[ns] nvarchar(250) NULL",
                                    "-->": "-->",
                                    "tgtColDefinition": "[ns] nvarchar(200) NULL",
                                    "tgtTypeName": "nvarchar",
                                    "tgtMaxStrLength": "200",
                                    "difMaxLength": "50",
                                    "tgtPrecision": "0",
                                    "difPrecision": "0",
                                    "tgtScale": "0",
                                    "difScale": "0",
                                    "SelectClauseNoDml": "convert( nvarchar(200), [ns])",
                                    "DmlStmt": "alter table [dbo].[smaller] alter column [ns] nvarchar(250) NULL",
                                    "SelectClausePostDml": "[ns]",
                                    "Options": "{\"Debug\": 1, \"Perform DML\": 0}",
                                    "ActionMessage": "Target string is smaller than source - either alter target column or risk truncation"
                                },
                                {
                                    "ColumnName": "[s]",
                                    "ActionPath": "DML.SMALLER_STRING",
                                    "srcColDefinition": "[s] varchar(250) NULL",
                                    "-->": "-->",
                                    "tgtColDefinition": "[s] varchar(200) NULL",
                                    "tgtTypeName": "varchar",
                                    "tgtMaxStrLength": "200",
                                    "difMaxLength": "50",
                                    "tgtPrecision": "0",
                                    "difPrecision": "0",
                                    "tgtScale": "0",
                                    "difScale": "0",
                                    "SelectClauseNoDml": "convert( varchar(200), [s])",
                                    "DmlStmt": "alter table [dbo].[smaller] alter column [s] varchar(250) NULL",
                                    "SelectClausePostDml": "[s]",
                                    "Options": "{\"Debug\": 1, \"Perform DML\": 0}",
                                    "ActionMessage": "Target string is smaller than source - either alter target column or risk truncation"
                                },
                                {
                                    "ColumnName": "[vbin]",
                                    "ActionPath": "DML.SMALLER_STRING",
                                    "srcColDefinition": "[vbin] varbinary(120) NULL",
                                    "-->": "-->",
                                    "tgtColDefinition": "[vbin] varbinary(90) NULL",
                                    "tgtTypeName": "varbinary",
                                    "tgtMaxStrLength": "90",
                                    "difMaxLength": "30",
                                    "tgtPrecision": "0",
                                    "difPrecision": "0",
                                    "tgtScale": "0",
                                    "difScale": "0",
                                    "SelectClauseNoDml": "convert( varbinary(90), [vbin])",
                                    "DmlStmt": "alter table [dbo].[smaller] alter column [vbin] varbinary(120) NULL",
                                    "SelectClausePostDml": "[vbin]",
                                    "Options": "{\"Debug\": 1, \"Perform DML\": 0}",
                                    "ActionMessage": "Target string is smaller than source - either alter target column or risk truncation"
                                },
                                {
                                    "ColumnName": "[char2ncharar]",
                                    "ActionPath": "DML.UNICODE_TO_ASCII",
                                    "srcColDefinition": "[char2ncharar] nchar(25) NULL",
                                    "-->": "-->",
                                    "tgtColDefinition": "[char2ncharar] char(25) NULL",
                                    "tgtTypeName": "char",
                                    "tgtMaxStrLength": "25",
                                    "difMaxLength": "0",
                                    "tgtPrecision": "0",
                                    "difPrecision": "0",
                                    "tgtScale": "0",
                                    "difScale": "0",
                                    "SelectClauseNoDml": "convert( char(25), [char2ncharar])",
                                    "DmlStmt": "alter table [dbo].[smaller] alter column [char2ncharar] nchar(25) NULL",
                                    "SelectClausePostDml": "[char2ncharar]",
                                    "Options": "{\"Debug\": 1, \"Perform DML\": 0}",
                                    "ActionMessage": "Source column is unicode but target is ASCII - either alter target column or perform cast and risk data loss"
                                },
                                {
                                    "ColumnName": "[var2nvar]",
                                    "ActionPath": "DML.UNICODE_TO_ASCII",
                                    "srcColDefinition": "[var2nvar] nvarchar(250) NULL",
                                    "-->": "-->",
                                    "tgtColDefinition": "[var2nvar] varchar(250) NULL",
                                    "tgtTypeName": "varchar",
                                    "tgtMaxStrLength": "250",
                                    "difMaxLength": "0",
                                    "tgtPrecision": "0",
                                    "difPrecision": "0",
                                    "tgtScale": "0",
                                    "difScale": "0",
                                    "SelectClauseNoDml": "convert( varchar(250), [var2nvar])",
                                    "DmlStmt": "alter table [dbo].[smaller] alter column [var2nvar] nvarchar(250) NULL",
                                    "SelectClausePostDml": "[var2nvar]",
                                    "Options": "{\"Debug\": 1, \"Perform DML\": 0}",
                                    "ActionMessage": "Source column is unicode but target is ASCII - either alter target column or perform cast and risk data loss"
                                },
                                {
                                    "ColumnName": "[var2nvarsz]",
                                    "ActionPath": "DML.UNICODE_TO_ASCII",
                                    "srcColDefinition": "[var2nvarsz] nvarchar(200) NULL",
                                    "-->": "-->",
                                    "tgtColDefinition": "[var2nvarsz] varchar(250) NULL",
                                    "tgtTypeName": "varchar",
                                    "tgtMaxStrLength": "250",
                                    "difMaxLength": "-50",
                                    "tgtPrecision": "0",
                                    "difPrecision": "0",
                                    "tgtScale": "0",
                                    "difScale": "0",
                                    "SelectClauseNoDml": "convert( varchar(250), [var2nvarsz])",
                                    "DmlStmt": "alter table [dbo].[smaller] alter column [var2nvarsz] nvarchar(250) NULL",
                                    "SelectClausePostDml": "[var2nvarsz]",
                                    "Options": "{\"Debug\": 1, \"Perform DML\": 0}",
                                    "ActionMessage": "Source column is unicode but target is ASCII - either alter target column or perform cast and risk data loss"
                                },
                                {
                                    "ColumnName": "[id]",
                                    "ActionPath": "RPT.SAME",
                                    "srcColDefinition": "[id] int NULL",
                                    "-->": "-->",
                                    "tgtColDefinition": "[id] int NULL",
                                    "tgtTypeName": "int",
                                    "tgtMaxStrLength": "4",
                                    "difMaxLength": "0",
                                    "tgtPrecision": "10",
                                    "difPrecision": "0",
                                    "tgtScale": "0",
                                    "difScale": "0",
                                    "SelectClauseNoDml": "[id]",
                                    "DmlStmt": "",
                                    "SelectClausePostDml": "[id]",
                                    "Options": "{\"Debug\": 1, \"Perform DML\": 0}",
                                    "ActionMessage": "/* Source and target column definitions are identical */"
                                }
                            ]
                        },
                        "text/html": [
                            "<table>",
                            "<tr><th>ColumnName</th><th>ActionPath</th><th>srcColDefinition</th><th>--&gt;</th><th>tgtColDefinition</th><th>tgtTypeName</th><th>tgtMaxStrLength</th><th>difMaxLength</th><th>tgtPrecision</th><th>difPrecision</th><th>tgtScale</th><th>difScale</th><th>SelectClauseNoDml</th><th>DmlStmt</th><th>SelectClausePostDml</th><th>Options</th><th>ActionMessage</th></tr>",
                            "<tr><td>[ft]</td><td>DML.PRECISION</td><td>[ft] float(53) NULL</td><td>--&gt;</td><td>[ft] real NULL</td><td>real</td><td>4</td><td>4</td><td>24</td><td>29</td><td>0</td><td>0</td><td>convert( real, [ft])</td><td>alter table [dbo].[smaller] alter column [ft] float(53) NULL</td><td>[ft]</td><td>{&quot;Debug&quot;: 1, &quot;Perform DML&quot;: 0}</td><td>Target column has lower precision than source - risk of truncation</td></tr>",
                            "<tr><td>[r1]</td><td>DML.PRECISION</td><td>[r1] float(53) NULL</td><td>--&gt;</td><td>[r1] real NULL</td><td>real</td><td>4</td><td>4</td><td>24</td><td>29</td><td>0</td><td>0</td><td>convert( real, [r1])</td><td>alter table [dbo].[smaller] alter column [r1] float(53) NULL</td><td>[r1]</td><td>{&quot;Debug&quot;: 1, &quot;Perform DML&quot;: 0}</td><td>Target column has lower precision than source - risk of truncation</td></tr>",
                            "<tr><td>[n1]</td><td>DML.PRECISION_SCALE</td><td>[n1] decimal(35, 10) NULL</td><td>--&gt;</td><td>[n1] decimal(20, 5) NULL</td><td>decimal</td><td>13</td><td>4</td><td>20</td><td>15</td><td>5</td><td>5</td><td>convert( decimal(20, 5), [n1])</td><td>alter table [dbo].[smaller] alter column [n1] decimal(35, 10) NULL</td><td>[n1]</td><td>{&quot;Debug&quot;: 1, &quot;Perform DML&quot;: 0}</td><td>Target column has lower precision or scale than source - risk of truncation</td></tr>",
                            "<tr><td>[dt5]</td><td>DML.SCALE</td><td>[dt5] datetimeoffset(7) NULL</td><td>--&gt;</td><td>[dt5] datetimeoffset(5) NULL</td><td>datetimeoffset</td><td>10</td><td>0</td><td>32</td><td>2</td><td>5</td><td>2</td><td>convert( datetimeoffset(5), [dt5])</td><td>alter table [dbo].[smaller] alter column [dt5] datetimeoffset(7) NULL</td><td>[dt5]</td><td>{&quot;Debug&quot;: 1, &quot;Perform DML&quot;: 0}</td><td>Target column has lower scale than source - risk of truncation</td></tr>",
                            "<tr><td>[t]</td><td>DML.SCALE</td><td>[t] time(7) NULL</td><td>--&gt;</td><td>[t] time(5) NULL</td><td>time</td><td>5</td><td>0</td><td>14</td><td>2</td><td>5</td><td>2</td><td>convert( time(5), [t])</td><td>alter table [dbo].[smaller] alter column [t] time(7) NULL</td><td>[t]</td><td>{&quot;Debug&quot;: 1, &quot;Perform DML&quot;: 0}</td><td>Target column has lower scale than source - risk of truncation</td></tr>",
                            "<tr><td>[bucks]</td><td>DML.SMALLER_NUMERIC</td><td>[bucks] money NULL</td><td>--&gt;</td><td>[bucks] smallmoney NULL</td><td>smallmoney</td><td>4</td><td>4</td><td>10</td><td>9</td><td>4</td><td>0</td><td>convert( smallmoney, [bucks])</td><td>alter table [dbo].[smaller] alter column [bucks] money NULL</td><td>[bucks]</td><td>{&quot;Debug&quot;: 1, &quot;Perform DML&quot;: 0}</td><td>Target number / datetime is smaller than source - either alter target column or risk truncation</td></tr>",
                            "<tr><td>[dt1]</td><td>DML.SMALLER_NUMERIC</td><td>[dt1] smalldatetime NULL</td><td>--&gt;</td><td>[dt1] date NULL</td><td>date</td><td>3</td><td>1</td><td>10</td><td>6</td><td>0</td><td>0</td><td>convert( date, [dt1])</td><td>alter table [dbo].[smaller] alter column [dt1] smalldatetime NULL</td><td>[dt1]</td><td>{&quot;Debug&quot;: 1, &quot;Perform DML&quot;: 0}</td><td>Target number / datetime is smaller than source - either alter target column or risk truncation</td></tr>",
                            "<tr><td>[dt2]</td><td>DML.SMALLER_NUMERIC</td><td>[dt2] datetime NULL</td><td>--&gt;</td><td>[dt2] smalldatetime NULL</td><td>smalldatetime</td><td>4</td><td>4</td><td>16</td><td>7</td><td>0</td><td>3</td><td>convert( smalldatetime, [dt2])</td><td>alter table [dbo].[smaller] alter column [dt2] datetime NULL</td><td>[dt2]</td><td>{&quot;Debug&quot;: 1, &quot;Perform DML&quot;: 0}</td><td>Target number / datetime is smaller than source - either alter target column or risk truncation</td></tr>",
                            "<tr><td>[dt3]</td><td>DML.SMALLER_NUMERIC</td><td>[dt3] datetime2(7) NULL</td><td>--&gt;</td><td>[dt3] datetime NULL</td><td>datetime</td><td>8</td><td>0</td><td>23</td><td>4</td><td>3</td><td>4</td><td>convert( datetime, [dt3])</td><td>alter table [dbo].[smaller] alter column [dt3] datetime2(7) NULL</td><td>[dt3]</td><td>{&quot;Debug&quot;: 1, &quot;Perform DML&quot;: 0}</td><td>Target number / datetime is smaller than source - either alter target column or risk truncation</td></tr>",
                            "<tr><td>[dt4]</td><td>DML.SMALLER_NUMERIC</td><td>[dt4] datetimeoffset(5) NULL</td><td>--&gt;</td><td>[dt4] datetime2(5) NULL</td><td>datetime2</td><td>8</td><td>2</td><td>25</td><td>7</td><td>5</td><td>0</td><td>convert( datetime2(5), [dt4])</td><td>alter table [dbo].[smaller] alter column [dt4] datetimeoffset(5) NULL</td><td>[dt4]</td><td>{&quot;Debug&quot;: 1, &quot;Perform DML&quot;: 0}</td><td>Target number / datetime is smaller than source - either alter target column or risk truncation</td></tr>",
                            "<tr><td>[i1]</td><td>DML.SMALLER_NUMERIC</td><td>[i1] smallint NULL</td><td>--&gt;</td><td>[i1] tinyint NULL</td><td>tinyint</td><td>1</td><td>1</td><td>3</td><td>2</td><td>0</td><td>0</td><td>convert( tinyint, [i1])</td><td>alter table [dbo].[smaller] alter column [i1] smallint NULL</td><td>[i1]</td><td>{&quot;Debug&quot;: 1, &quot;Perform DML&quot;: 0}</td><td>Target number / datetime is smaller than source - either alter target column or risk truncation</td></tr>",
                            "<tr><td>[i2]</td><td>DML.SMALLER_NUMERIC</td><td>[i2] int NULL</td><td>--&gt;</td><td>[i2] smallint NULL</td><td>smallint</td><td>2</td><td>2</td><td>5</td><td>5</td><td>0</td><td>0</td><td>convert( smallint, [i2])</td><td>alter table [dbo].[smaller] alter column [i2] int NULL</td><td>[i2]</td><td>{&quot;Debug&quot;: 1, &quot;Perform DML&quot;: 0}</td><td>Target number / datetime is smaller than source - either alter target column or risk truncation</td></tr>",
                            "<tr><td>[i3]</td><td>DML.SMALLER_NUMERIC</td><td>[i3] bigint NULL</td><td>--&gt;</td><td>[i3] int NULL</td><td>int</td><td>4</td><td>4</td><td>10</td><td>9</td><td>0</td><td>0</td><td>convert( int, [i3])</td><td>alter table [dbo].[smaller] alter column [i3] bigint NULL</td><td>[i3]</td><td>{&quot;Debug&quot;: 1, &quot;Perform DML&quot;: 0}</td><td>Target number / datetime is smaller than source - either alter target column or risk truncation</td></tr>",
                            "<tr><td>[bin]</td><td>DML.SMALLER_STRING</td><td>[bin] binary(120) NULL</td><td>--&gt;</td><td>[bin] binary(90) NULL</td><td>binary</td><td>90</td><td>30</td><td>0</td><td>0</td><td>0</td><td>0</td><td>convert( binary(90), [bin])</td><td>alter table [dbo].[smaller] alter column [bin] binary(120) NULL</td><td>[bin]</td><td>{&quot;Debug&quot;: 1, &quot;Perform DML&quot;: 0}</td><td>Target string is smaller than source - either alter target column or risk truncation</td></tr>",
                            "<tr><td>[cs]</td><td>DML.SMALLER_STRING</td><td>[cs] char(15) NULL</td><td>--&gt;</td><td>[cs] char(10) NULL</td><td>char</td><td>10</td><td>5</td><td>0</td><td>0</td><td>0</td><td>0</td><td>convert( char(10), [cs])</td><td>alter table [dbo].[smaller] alter column [cs] char(15) NULL</td><td>[cs]</td><td>{&quot;Debug&quot;: 1, &quot;Perform DML&quot;: 0}</td><td>Target string is smaller than source - either alter target column or risk truncation</td></tr>",
                            "<tr><td>[ncs]</td><td>DML.SMALLER_STRING</td><td>[ncs] nchar(15) NULL</td><td>--&gt;</td><td>[ncs] nchar(10) NULL</td><td>nchar</td><td>10</td><td>5</td><td>0</td><td>0</td><td>0</td><td>0</td><td>convert( nchar(10), [ncs])</td><td>alter table [dbo].[smaller] alter column [ncs] nchar(15) NULL</td><td>[ncs]</td><td>{&quot;Debug&quot;: 1, &quot;Perform DML&quot;: 0}</td><td>Target string is smaller than source - either alter target column or risk truncation</td></tr>",
                            "<tr><td>[ns]</td><td>DML.SMALLER_STRING</td><td>[ns] nvarchar(250) NULL</td><td>--&gt;</td><td>[ns] nvarchar(200) NULL</td><td>nvarchar</td><td>200</td><td>50</td><td>0</td><td>0</td><td>0</td><td>0</td><td>convert( nvarchar(200), [ns])</td><td>alter table [dbo].[smaller] alter column [ns] nvarchar(250) NULL</td><td>[ns]</td><td>{&quot;Debug&quot;: 1, &quot;Perform DML&quot;: 0}</td><td>Target string is smaller than source - either alter target column or risk truncation</td></tr>",
                            "<tr><td>[s]</td><td>DML.SMALLER_STRING</td><td>[s] varchar(250) NULL</td><td>--&gt;</td><td>[s] varchar(200) NULL</td><td>varchar</td><td>200</td><td>50</td><td>0</td><td>0</td><td>0</td><td>0</td><td>convert( varchar(200), [s])</td><td>alter table [dbo].[smaller] alter column [s] varchar(250) NULL</td><td>[s]</td><td>{&quot;Debug&quot;: 1, &quot;Perform DML&quot;: 0}</td><td>Target string is smaller than source - either alter target column or risk truncation</td></tr>",
                            "<tr><td>[vbin]</td><td>DML.SMALLER_STRING</td><td>[vbin] varbinary(120) NULL</td><td>--&gt;</td><td>[vbin] varbinary(90) NULL</td><td>varbinary</td><td>90</td><td>30</td><td>0</td><td>0</td><td>0</td><td>0</td><td>convert( varbinary(90), [vbin])</td><td>alter table [dbo].[smaller] alter column [vbin] varbinary(120) NULL</td><td>[vbin]</td><td>{&quot;Debug&quot;: 1, &quot;Perform DML&quot;: 0}</td><td>Target string is smaller than source - either alter target column or risk truncation</td></tr>",
                            "<tr><td>[char2ncharar]</td><td>DML.UNICODE_TO_ASCII</td><td>[char2ncharar] nchar(25) NULL</td><td>--&gt;</td><td>[char2ncharar] char(25) NULL</td><td>char</td><td>25</td><td>0</td><td>0</td><td>0</td><td>0</td><td>0</td><td>convert( char(25), [char2ncharar])</td><td>alter table [dbo].[smaller] alter column [char2ncharar] nchar(25) NULL</td><td>[char2ncharar]</td><td>{&quot;Debug&quot;: 1, &quot;Perform DML&quot;: 0}</td><td>Source column is unicode but target is ASCII - either alter target column or perform cast and risk data loss</td></tr>",
                            "<tr><td>[var2nvar]</td><td>DML.UNICODE_TO_ASCII</td><td>[var2nvar] nvarchar(250) NULL</td><td>--&gt;</td><td>[var2nvar] varchar(250) NULL</td><td>varchar</td><td>250</td><td>0</td><td>0</td><td>0</td><td>0</td><td>0</td><td>convert( varchar(250), [var2nvar])</td><td>alter table [dbo].[smaller] alter column [var2nvar] nvarchar(250) NULL</td><td>[var2nvar]</td><td>{&quot;Debug&quot;: 1, &quot;Perform DML&quot;: 0}</td><td>Source column is unicode but target is ASCII - either alter target column or perform cast and risk data loss</td></tr>",
                            "<tr><td>[var2nvarsz]</td><td>DML.UNICODE_TO_ASCII</td><td>[var2nvarsz] nvarchar(200) NULL</td><td>--&gt;</td><td>[var2nvarsz] varchar(250) NULL</td><td>varchar</td><td>250</td><td>-50</td><td>0</td><td>0</td><td>0</td><td>0</td><td>convert( varchar(250), [var2nvarsz])</td><td>alter table [dbo].[smaller] alter column [var2nvarsz] nvarchar(250) NULL</td><td>[var2nvarsz]</td><td>{&quot;Debug&quot;: 1, &quot;Perform DML&quot;: 0}</td><td>Source column is unicode but target is ASCII - either alter target column or perform cast and risk data loss</td></tr>",
                            "<tr><td>[id]</td><td>RPT.SAME</td><td>[id] int NULL</td><td>--&gt;</td><td>[id] int NULL</td><td>int</td><td>4</td><td>0</td><td>10</td><td>0</td><td>0</td><td>0</td><td>[id]</td><td></td><td>[id]</td><td>{&quot;Debug&quot;: 1, &quot;Perform DML&quot;: 0}</td><td>/* Source and target column definitions are identical */</td></tr>",
                            "</table>"
                        ]
                    }
                }
            ],
            "execution_count": 8
        },
        {
            "cell_type": "markdown",
            "source": [
                "```\r\n",
                "insert into [dbo].[smaller] ([id], [i1], [i2], [i3], [dt1], [dt2], [dt3], [dt4], [dt5], [t], [bucks], [r1], [n1], [cs], [ncs], [s], [ns], [var2nvar], [var2nvarsz], [char2ncharar], [bin], [vbin], [ft]) \r\n",
                "select      [id], convert( tinyint, [i1]), convert( smallint, [i2]), convert( int, [i3]), convert( date, [dt1]), convert( smalldatetime, [dt2]), convert( datetime, [dt3]), convert( datetime2(5), [dt4]), convert( datetimeoffset(5), [dt5])\r\n",
                "        ,   convert( time(5), [t]), convert( smallmoney, [bucks]), convert( real, [r1]), convert( decimal(20, 5), [n1]), convert( char(10), [cs]), convert( nchar(10), [ncs]), convert( varchar(200), [s]), convert( nvarchar(200), [ns])\r\n",
                "        ,   convert( varchar(250), [var2nvar]), convert( varchar(250), [var2nvarsz]), convert( char(25), [char2ncharar]), convert( binary(90), [bin]), convert( varbinary(90), [vbin]), convert( real, [ft]) \r\n",
                "from        [dbo].[bigger]\r\n",
                "```"
            ],
            "metadata": {
                "language": "sql",
                "azdata_cell_guid": "647850eb-e747-4354-a381-ddbc74cbe97e"
            },
            "attachments": {}
        },
        {
            "cell_type": "code",
            "source": [
                "exec uspConformTable 'dbo', 'junky', 'dbo', 'funky', '{\"Debug\": 1, \"Perform DML\": 0}'"
            ],
            "metadata": {
                "language": "sql",
                "azdata_cell_guid": "8dd2bd65-d0c1-47bc-83d1-57e60a0b57ec"
            },
            "outputs": [
                {
                    "output_type": "display_data",
                    "data": {
                        "text/html": "Commands completed successfully."
                    },
                    "metadata": {}
                },
                {
                    "output_type": "display_data",
                    "data": {
                        "text/html": "Total execution time: 00:00:00.126"
                    },
                    "metadata": {}
                },
                {
                    "output_type": "execute_result",
                    "metadata": {},
                    "execution_count": 9,
                    "data": {
                        "application/vnd.dataresource+json": {
                            "schema": {
                                "fields": [
                                    {
                                        "name": "SqlCommand"
                                    }
                                ]
                            },
                            "data": [
                                {
                                    "SqlCommand": "insert into [dbo].[funky] ([id], [uniblob], [asciiblob], [varby], [biny], [verysql], [sissy], [img], [vfixed], [vstring], [nfixed], [nstring], [maxify], [naxify], [really], [deci], [numerally], [lilfloaty], [floaty], [whattime], [whatdate], [whatdatetime], [whatsmalldatetime], [whatdatetime2], [whatdatetimeoffset], [bucks], [lilbucks], [junkycol], [alpha], [beta], [gamma], [delta], [epsilon], [theta], [dt2_a], [dt2_b], [dt2_c], [dt2_d], [dt02_a], [dt02_b], [dt02_c], [dt02_d]) select convert(int[id]), [uniblob], [asciiblob], [varby], convert( binary(200), [biny]), [verysql], [sissy], [img], [vfixed], convert( varchar(255), [vstring]), [nfixed], [nstring], [maxify], [naxify], [really], convert( decimal(25, 19), [deci]), convert( numeric(13, 4), [numerally]), [lilfloaty], [floaty], convert( time(5), [whattime]), [whatdate], [whatdatetime], [whatsmalldatetime], convert( datetime2(5), [whatdatetime2]), convert( datetimeoffset(4), [whatdatetimeoffset]), [bucks], [lilbucks], , convert(varchar(200), [alpha]), convert(nvarchar(120), [beta]), convert(char(90), [gamma]), convert( nchar(20), [delta]), convert(text, [epsilon]), convert(ntext, [theta]), convert( datetime2(0), [dt2_a]), convert( datetime2(2), [dt2_b]), [dt2_c], [dt2_d], convert( datetimeoffset(0), [dt02_a]), convert( datetimeoffset(2), [dt02_b]), [dt02_c], [dt02_d] from [dbo].[junky]"
                                }
                            ]
                        },
                        "text/html": [
                            "<table>",
                            "<tr><th>SqlCommand</th></tr>",
                            "<tr><td>insert into [dbo].[funky] ([id], [uniblob], [asciiblob], [varby], [biny], [verysql], [sissy], [img], [vfixed], [vstring], [nfixed], [nstring], [maxify], [naxify], [really], [deci], [numerally], [lilfloaty], [floaty], [whattime], [whatdate], [whatdatetime], [whatsmalldatetime], [whatdatetime2], [whatdatetimeoffset], [bucks], [lilbucks], [junkycol], [alpha], [beta], [gamma], [delta], [epsilon], [theta], [dt2_a], [dt2_b], [dt2_c], [dt2_d], [dt02_a], [dt02_b], [dt02_c], [dt02_d]) select convert(int[id]), [uniblob], [asciiblob], [varby], convert( binary(200), [biny]), [verysql], [sissy], [img], [vfixed], convert( varchar(255), [vstring]), [nfixed], [nstring], [maxify], [naxify], [really], convert( decimal(25, 19), [deci]), convert( numeric(13, 4), [numerally]), [lilfloaty], [floaty], convert( time(5), [whattime]), [whatdate], [whatdatetime], [whatsmalldatetime], convert( datetime2(5), [whatdatetime2]), convert( datetimeoffset(4), [whatdatetimeoffset]), [bucks], [lilbucks], , convert(varchar(200), [alpha]), convert(nvarchar(120), [beta]), convert(char(90), [gamma]), convert( nchar(20), [delta]), convert(text, [epsilon]), convert(ntext, [theta]), convert( datetime2(0), [dt2_a]), convert( datetime2(2), [dt2_b]), [dt2_c], [dt2_d], convert( datetimeoffset(0), [dt02_a]), convert( datetimeoffset(2), [dt02_b]), [dt02_c], [dt02_d] from [dbo].[junky]</td></tr>",
                            "</table>"
                        ]
                    }
                },
                {
                    "output_type": "execute_result",
                    "metadata": {},
                    "execution_count": 9,
                    "data": {
                        "application/vnd.dataresource+json": {
                            "schema": {
                                "fields": [
                                    {
                                        "name": "ColumnName"
                                    },
                                    {
                                        "name": "ActionPath"
                                    },
                                    {
                                        "name": "srcColDefinition"
                                    },
                                    {
                                        "name": "--&gt;"
                                    },
                                    {
                                        "name": "tgtColDefinition"
                                    },
                                    {
                                        "name": "tgtTypeName"
                                    },
                                    {
                                        "name": "tgtMaxStrLength"
                                    },
                                    {
                                        "name": "difMaxLength"
                                    },
                                    {
                                        "name": "tgtPrecision"
                                    },
                                    {
                                        "name": "difPrecision"
                                    },
                                    {
                                        "name": "tgtScale"
                                    },
                                    {
                                        "name": "difScale"
                                    },
                                    {
                                        "name": "SelectClauseNoDml"
                                    },
                                    {
                                        "name": "DmlStmt"
                                    },
                                    {
                                        "name": "SelectClausePostDml"
                                    },
                                    {
                                        "name": "Options"
                                    },
                                    {
                                        "name": "ActionMessage"
                                    }
                                ]
                            },
                            "data": [
                                {
                                    "ColumnName": "[junkycol]",
                                    "ActionPath": "DML.NO_DEST",
                                    "srcColDefinition": "[junkycol] bit NULL",
                                    "-->": "-->",
                                    "tgtColDefinition": "NULL",
                                    "tgtTypeName": "NULL",
                                    "tgtMaxStrLength": "NULL",
                                    "difMaxLength": "NULL",
                                    "tgtPrecision": "NULL",
                                    "difPrecision": "NULL",
                                    "tgtScale": "NULL",
                                    "difScale": "NULL",
                                    "SelectClauseNoDml": "",
                                    "DmlStmt": "alter table [dbo].[funky] add [junkycol] bit NULL",
                                    "SelectClausePostDml": "[junkycol]",
                                    "Options": "{\"Debug\": 1, \"Perform DML\": 0}",
                                    "ActionMessage": "Target column does not exist - either add it to the table or exclude it from the insert"
                                },
                                {
                                    "ColumnName": "[delta]",
                                    "ActionPath": "DML.NUM_TO_SMALL_STRING",
                                    "srcColDefinition": "[delta] decimal(29, 0) NULL",
                                    "-->": "-->",
                                    "tgtColDefinition": "[delta] nchar(20) NULL",
                                    "tgtTypeName": "nchar",
                                    "tgtMaxStrLength": "20",
                                    "difMaxLength": "-3",
                                    "tgtPrecision": "0",
                                    "difPrecision": "29",
                                    "tgtScale": "0",
                                    "difScale": "0",
                                    "SelectClauseNoDml": "convert( nchar(20), [delta])",
                                    "DmlStmt": "alter table [dbo].[funky] alter column [delta] nchar(29) NULL",
                                    "SelectClausePostDml": "[delta]",
                                    "Options": "{\"Debug\": 1, \"Perform DML\": 0}",
                                    "ActionMessage": "Target column is a string type too small to accept source data - expand target AND conversion provided"
                                },
                                {
                                    "ColumnName": "[deci]",
                                    "ActionPath": "DML.PRECISION_SCALE",
                                    "srcColDefinition": "[deci] decimal(36, 17) NULL",
                                    "-->": "-->",
                                    "tgtColDefinition": "[deci] decimal(25, 19) NULL",
                                    "tgtTypeName": "decimal",
                                    "tgtMaxStrLength": "13",
                                    "difMaxLength": "4",
                                    "tgtPrecision": "25",
                                    "difPrecision": "11",
                                    "tgtScale": "19",
                                    "difScale": "-2",
                                    "SelectClauseNoDml": "convert( decimal(25, 19), [deci])",
                                    "DmlStmt": "alter table [dbo].[funky] alter column [deci] decimal(36, 19) NULL",
                                    "SelectClausePostDml": "[deci]",
                                    "Options": "{\"Debug\": 1, \"Perform DML\": 0}",
                                    "ActionMessage": "Target column has lower precision or scale than source - risk of truncation"
                                },
                                {
                                    "ColumnName": "[numerally]",
                                    "ActionPath": "DML.PRECISION_SCALE",
                                    "srcColDefinition": "[numerally] numeric(11, 7) NULL",
                                    "-->": "-->",
                                    "tgtColDefinition": "[numerally] numeric(13, 4) NULL",
                                    "tgtTypeName": "numeric",
                                    "tgtMaxStrLength": "9",
                                    "difMaxLength": "0",
                                    "tgtPrecision": "13",
                                    "difPrecision": "-2",
                                    "tgtScale": "4",
                                    "difScale": "3",
                                    "SelectClauseNoDml": "convert( numeric(13, 4), [numerally])",
                                    "DmlStmt": "alter table [dbo].[funky] alter column [numerally] numeric(13, 7) NULL",
                                    "SelectClausePostDml": "[numerally]",
                                    "Options": "{\"Debug\": 1, \"Perform DML\": 0}",
                                    "ActionMessage": "Target column has lower precision or scale than source - risk of truncation"
                                },
                                {
                                    "ColumnName": "[dt02_a]",
                                    "ActionPath": "DML.SCALE",
                                    "srcColDefinition": "[dt02_a] datetimeoffset(7) NULL",
                                    "-->": "-->",
                                    "tgtColDefinition": "[dt02_a] datetimeoffset(0) NULL",
                                    "tgtTypeName": "datetimeoffset",
                                    "tgtMaxStrLength": "8",
                                    "difMaxLength": "2",
                                    "tgtPrecision": "26",
                                    "difPrecision": "8",
                                    "tgtScale": "0",
                                    "difScale": "7",
                                    "SelectClauseNoDml": "convert( datetimeoffset(0), [dt02_a])",
                                    "DmlStmt": "alter table [dbo].[funky] alter column [dt02_a] datetimeoffset(7) NULL",
                                    "SelectClausePostDml": "[dt02_a]",
                                    "Options": "{\"Debug\": 1, \"Perform DML\": 0}",
                                    "ActionMessage": "Target column has lower scale than source - risk of truncation"
                                },
                                {
                                    "ColumnName": "[dt02_b]",
                                    "ActionPath": "DML.SCALE",
                                    "srcColDefinition": "[dt02_b] datetimeoffset(5) NULL",
                                    "-->": "-->",
                                    "tgtColDefinition": "[dt02_b] datetimeoffset(2) NULL",
                                    "tgtTypeName": "datetimeoffset",
                                    "tgtMaxStrLength": "8",
                                    "difMaxLength": "2",
                                    "tgtPrecision": "29",
                                    "difPrecision": "3",
                                    "tgtScale": "2",
                                    "difScale": "3",
                                    "SelectClauseNoDml": "convert( datetimeoffset(2), [dt02_b])",
                                    "DmlStmt": "alter table [dbo].[funky] alter column [dt02_b] datetimeoffset(5) NULL",
                                    "SelectClausePostDml": "[dt02_b]",
                                    "Options": "{\"Debug\": 1, \"Perform DML\": 0}",
                                    "ActionMessage": "Target column has lower scale than source - risk of truncation"
                                },
                                {
                                    "ColumnName": "[dt2_a]",
                                    "ActionPath": "DML.SCALE",
                                    "srcColDefinition": "[dt2_a] datetime2(7) NULL",
                                    "-->": "-->",
                                    "tgtColDefinition": "[dt2_a] datetime2(0) NULL",
                                    "tgtTypeName": "datetime2",
                                    "tgtMaxStrLength": "6",
                                    "difMaxLength": "2",
                                    "tgtPrecision": "19",
                                    "difPrecision": "8",
                                    "tgtScale": "0",
                                    "difScale": "7",
                                    "SelectClauseNoDml": "convert( datetime2(0), [dt2_a])",
                                    "DmlStmt": "alter table [dbo].[funky] alter column [dt2_a] datetime2(7) NULL",
                                    "SelectClausePostDml": "[dt2_a]",
                                    "Options": "{\"Debug\": 1, \"Perform DML\": 0}",
                                    "ActionMessage": "Target column has lower scale than source - risk of truncation"
                                },
                                {
                                    "ColumnName": "[dt2_b]",
                                    "ActionPath": "DML.SCALE",
                                    "srcColDefinition": "[dt2_b] datetime2(5) NULL",
                                    "-->": "-->",
                                    "tgtColDefinition": "[dt2_b] datetime2(2) NULL",
                                    "tgtTypeName": "datetime2",
                                    "tgtMaxStrLength": "6",
                                    "difMaxLength": "2",
                                    "tgtPrecision": "22",
                                    "difPrecision": "3",
                                    "tgtScale": "2",
                                    "difScale": "3",
                                    "SelectClauseNoDml": "convert( datetime2(2), [dt2_b])",
                                    "DmlStmt": "alter table [dbo].[funky] alter column [dt2_b] datetime2(5) NULL",
                                    "SelectClausePostDml": "[dt2_b]",
                                    "Options": "{\"Debug\": 1, \"Perform DML\": 0}",
                                    "ActionMessage": "Target column has lower scale than source - risk of truncation"
                                },
                                {
                                    "ColumnName": "[whatdatetime2]",
                                    "ActionPath": "DML.SCALE",
                                    "srcColDefinition": "[whatdatetime2] datetime2(7) NULL",
                                    "-->": "-->",
                                    "tgtColDefinition": "[whatdatetime2] datetime2(5) NULL",
                                    "tgtTypeName": "datetime2",
                                    "tgtMaxStrLength": "8",
                                    "difMaxLength": "0",
                                    "tgtPrecision": "25",
                                    "difPrecision": "2",
                                    "tgtScale": "5",
                                    "difScale": "2",
                                    "SelectClauseNoDml": "convert( datetime2(5), [whatdatetime2])",
                                    "DmlStmt": "alter table [dbo].[funky] alter column [whatdatetime2] datetime2(7) NULL",
                                    "SelectClausePostDml": "[whatdatetime2]",
                                    "Options": "{\"Debug\": 1, \"Perform DML\": 0}",
                                    "ActionMessage": "Target column has lower scale than source - risk of truncation"
                                },
                                {
                                    "ColumnName": "[whatdatetimeoffset]",
                                    "ActionPath": "DML.SCALE",
                                    "srcColDefinition": "[whatdatetimeoffset] datetimeoffset(5) NULL",
                                    "-->": "-->",
                                    "tgtColDefinition": "[whatdatetimeoffset] datetimeoffset(4) NULL",
                                    "tgtTypeName": "datetimeoffset",
                                    "tgtMaxStrLength": "9",
                                    "difMaxLength": "1",
                                    "tgtPrecision": "31",
                                    "difPrecision": "1",
                                    "tgtScale": "4",
                                    "difScale": "1",
                                    "SelectClauseNoDml": "convert( datetimeoffset(4), [whatdatetimeoffset])",
                                    "DmlStmt": "alter table [dbo].[funky] alter column [whatdatetimeoffset] datetimeoffset(5) NULL",
                                    "SelectClausePostDml": "[whatdatetimeoffset]",
                                    "Options": "{\"Debug\": 1, \"Perform DML\": 0}",
                                    "ActionMessage": "Target column has lower scale than source - risk of truncation"
                                },
                                {
                                    "ColumnName": "[whattime]",
                                    "ActionPath": "DML.SCALE",
                                    "srcColDefinition": "[whattime] time(6) NULL",
                                    "-->": "-->",
                                    "tgtColDefinition": "[whattime] time(5) NULL",
                                    "tgtTypeName": "time",
                                    "tgtMaxStrLength": "5",
                                    "difMaxLength": "0",
                                    "tgtPrecision": "14",
                                    "difPrecision": "1",
                                    "tgtScale": "5",
                                    "difScale": "1",
                                    "SelectClauseNoDml": "convert( time(5), [whattime])",
                                    "DmlStmt": "alter table [dbo].[funky] alter column [whattime] time(6) NULL",
                                    "SelectClausePostDml": "[whattime]",
                                    "Options": "{\"Debug\": 1, \"Perform DML\": 0}",
                                    "ActionMessage": "Target column has lower scale than source - risk of truncation"
                                },
                                {
                                    "ColumnName": "[biny]",
                                    "ActionPath": "DML.SMALLER_STRING",
                                    "srcColDefinition": "[biny] binary(400) NULL",
                                    "-->": "-->",
                                    "tgtColDefinition": "[biny] binary(200) NULL",
                                    "tgtTypeName": "binary",
                                    "tgtMaxStrLength": "200",
                                    "difMaxLength": "200",
                                    "tgtPrecision": "0",
                                    "difPrecision": "0",
                                    "tgtScale": "0",
                                    "difScale": "0",
                                    "SelectClauseNoDml": "convert( binary(200), [biny])",
                                    "DmlStmt": "alter table [dbo].[funky] alter column [biny] binary(400) NULL",
                                    "SelectClausePostDml": "[biny]",
                                    "Options": "{\"Debug\": 1, \"Perform DML\": 0}",
                                    "ActionMessage": "Target string is smaller than source - either alter target column or risk truncation"
                                },
                                {
                                    "ColumnName": "[vstring]",
                                    "ActionPath": "DML.SMALLER_STRING",
                                    "srcColDefinition": "[vstring] varchar(300) NULL",
                                    "-->": "-->",
                                    "tgtColDefinition": "[vstring] varchar(255) NULL",
                                    "tgtTypeName": "varchar",
                                    "tgtMaxStrLength": "255",
                                    "difMaxLength": "45",
                                    "tgtPrecision": "0",
                                    "difPrecision": "0",
                                    "tgtScale": "0",
                                    "difScale": "0",
                                    "SelectClauseNoDml": "convert( varchar(255), [vstring])",
                                    "DmlStmt": "alter table [dbo].[funky] alter column [vstring] varchar(300) NULL",
                                    "SelectClausePostDml": "[vstring]",
                                    "Options": "{\"Debug\": 1, \"Perform DML\": 0}",
                                    "ActionMessage": "Target string is smaller than source - either alter target column or risk truncation"
                                },
                                {
                                    "ColumnName": "[asciiblob]",
                                    "ActionPath": "RPT.SAME",
                                    "srcColDefinition": "[asciiblob] text NULL",
                                    "-->": "-->",
                                    "tgtColDefinition": "[asciiblob] text NULL",
                                    "tgtTypeName": "text",
                                    "tgtMaxStrLength": "8193",
                                    "difMaxLength": "0",
                                    "tgtPrecision": "0",
                                    "difPrecision": "0",
                                    "tgtScale": "0",
                                    "difScale": "0",
                                    "SelectClauseNoDml": "[asciiblob]",
                                    "DmlStmt": "",
                                    "SelectClausePostDml": "[asciiblob]",
                                    "Options": "{\"Debug\": 1, \"Perform DML\": 0}",
                                    "ActionMessage": "/* Source and target column definitions are identical */"
                                },
                                {
                                    "ColumnName": "[bucks]",
                                    "ActionPath": "RPT.SAME",
                                    "srcColDefinition": "[bucks] money NULL",
                                    "-->": "-->",
                                    "tgtColDefinition": "[bucks] money NULL",
                                    "tgtTypeName": "money",
                                    "tgtMaxStrLength": "8",
                                    "difMaxLength": "0",
                                    "tgtPrecision": "19",
                                    "difPrecision": "0",
                                    "tgtScale": "4",
                                    "difScale": "0",
                                    "SelectClauseNoDml": "[bucks]",
                                    "DmlStmt": "",
                                    "SelectClausePostDml": "[bucks]",
                                    "Options": "{\"Debug\": 1, \"Perform DML\": 0}",
                                    "ActionMessage": "/* Source and target column definitions are identical */"
                                },
                                {
                                    "ColumnName": "[floaty]",
                                    "ActionPath": "RPT.SAME",
                                    "srcColDefinition": "[floaty] float(53) NULL",
                                    "-->": "-->",
                                    "tgtColDefinition": "[floaty] float(53) NULL",
                                    "tgtTypeName": "float",
                                    "tgtMaxStrLength": "8",
                                    "difMaxLength": "0",
                                    "tgtPrecision": "53",
                                    "difPrecision": "0",
                                    "tgtScale": "0",
                                    "difScale": "0",
                                    "SelectClauseNoDml": "[floaty]",
                                    "DmlStmt": "",
                                    "SelectClausePostDml": "[floaty]",
                                    "Options": "{\"Debug\": 1, \"Perform DML\": 0}",
                                    "ActionMessage": "/* Source and target column definitions are identical */"
                                },
                                {
                                    "ColumnName": "[img]",
                                    "ActionPath": "RPT.SAME",
                                    "srcColDefinition": "[img] image NULL",
                                    "-->": "-->",
                                    "tgtColDefinition": "[img] image NULL",
                                    "tgtTypeName": "image",
                                    "tgtMaxStrLength": "16",
                                    "difMaxLength": "0",
                                    "tgtPrecision": "0",
                                    "difPrecision": "0",
                                    "tgtScale": "0",
                                    "difScale": "0",
                                    "SelectClauseNoDml": "[img]",
                                    "DmlStmt": "",
                                    "SelectClausePostDml": "[img]",
                                    "Options": "{\"Debug\": 1, \"Perform DML\": 0}",
                                    "ActionMessage": "/* Source and target column definitions are identical */"
                                },
                                {
                                    "ColumnName": "[lilbucks]",
                                    "ActionPath": "RPT.SAME",
                                    "srcColDefinition": "[lilbucks] smallmoney NULL",
                                    "-->": "-->",
                                    "tgtColDefinition": "[lilbucks] smallmoney NULL",
                                    "tgtTypeName": "smallmoney",
                                    "tgtMaxStrLength": "4",
                                    "difMaxLength": "0",
                                    "tgtPrecision": "10",
                                    "difPrecision": "0",
                                    "tgtScale": "4",
                                    "difScale": "0",
                                    "SelectClauseNoDml": "[lilbucks]",
                                    "DmlStmt": "",
                                    "SelectClausePostDml": "[lilbucks]",
                                    "Options": "{\"Debug\": 1, \"Perform DML\": 0}",
                                    "ActionMessage": "/* Source and target column definitions are identical */"
                                },
                                {
                                    "ColumnName": "[lilfloaty]",
                                    "ActionPath": "RPT.SAME",
                                    "srcColDefinition": "[lilfloaty] real NULL",
                                    "-->": "-->",
                                    "tgtColDefinition": "[lilfloaty] real NULL",
                                    "tgtTypeName": "real",
                                    "tgtMaxStrLength": "4",
                                    "difMaxLength": "0",
                                    "tgtPrecision": "24",
                                    "difPrecision": "0",
                                    "tgtScale": "0",
                                    "difScale": "0",
                                    "SelectClauseNoDml": "[lilfloaty]",
                                    "DmlStmt": "",
                                    "SelectClausePostDml": "[lilfloaty]",
                                    "Options": "{\"Debug\": 1, \"Perform DML\": 0}",
                                    "ActionMessage": "/* Source and target column definitions are identical */"
                                },
                                {
                                    "ColumnName": "[really]",
                                    "ActionPath": "RPT.SAME",
                                    "srcColDefinition": "[really] real NULL",
                                    "-->": "-->",
                                    "tgtColDefinition": "[really] real NULL",
                                    "tgtTypeName": "real",
                                    "tgtMaxStrLength": "4",
                                    "difMaxLength": "0",
                                    "tgtPrecision": "24",
                                    "difPrecision": "0",
                                    "tgtScale": "0",
                                    "difScale": "0",
                                    "SelectClauseNoDml": "[really]",
                                    "DmlStmt": "",
                                    "SelectClausePostDml": "[really]",
                                    "Options": "{\"Debug\": 1, \"Perform DML\": 0}",
                                    "ActionMessage": "/* Source and target column definitions are identical */"
                                },
                                {
                                    "ColumnName": "[sissy]",
                                    "ActionPath": "RPT.SAME",
                                    "srcColDefinition": "[sissy] sysname NULL",
                                    "-->": "-->",
                                    "tgtColDefinition": "[sissy] sysname NULL",
                                    "tgtTypeName": "sysname",
                                    "tgtMaxStrLength": "256",
                                    "difMaxLength": "0",
                                    "tgtPrecision": "0",
                                    "difPrecision": "0",
                                    "tgtScale": "0",
                                    "difScale": "0",
                                    "SelectClauseNoDml": "[sissy]",
                                    "DmlStmt": "",
                                    "SelectClausePostDml": "[sissy]",
                                    "Options": "{\"Debug\": 1, \"Perform DML\": 0}",
                                    "ActionMessage": "/* Source and target column definitions are identical */"
                                },
                                {
                                    "ColumnName": "[uniblob]",
                                    "ActionPath": "RPT.SAME",
                                    "srcColDefinition": "[uniblob] ntext NULL",
                                    "-->": "-->",
                                    "tgtColDefinition": "[uniblob] ntext NULL",
                                    "tgtTypeName": "ntext",
                                    "tgtMaxStrLength": "8193",
                                    "difMaxLength": "0",
                                    "tgtPrecision": "0",
                                    "difPrecision": "0",
                                    "tgtScale": "0",
                                    "difScale": "0",
                                    "SelectClauseNoDml": "[uniblob]",
                                    "DmlStmt": "",
                                    "SelectClausePostDml": "[uniblob]",
                                    "Options": "{\"Debug\": 1, \"Perform DML\": 0}",
                                    "ActionMessage": "/* Source and target column definitions are identical */"
                                },
                                {
                                    "ColumnName": "[verysql]",
                                    "ActionPath": "RPT.SAME",
                                    "srcColDefinition": "[verysql] sql_variant NULL",
                                    "-->": "-->",
                                    "tgtColDefinition": "[verysql] sql_variant NULL",
                                    "tgtTypeName": "sql_variant",
                                    "tgtMaxStrLength": "8016",
                                    "difMaxLength": "0",
                                    "tgtPrecision": "0",
                                    "difPrecision": "0",
                                    "tgtScale": "0",
                                    "difScale": "0",
                                    "SelectClauseNoDml": "[verysql]",
                                    "DmlStmt": "",
                                    "SelectClausePostDml": "[verysql]",
                                    "Options": "{\"Debug\": 1, \"Perform DML\": 0}",
                                    "ActionMessage": "/* Source and target column definitions are identical */"
                                },
                                {
                                    "ColumnName": "[whatdate]",
                                    "ActionPath": "RPT.SAME",
                                    "srcColDefinition": "[whatdate] date NULL",
                                    "-->": "-->",
                                    "tgtColDefinition": "[whatdate] date NULL",
                                    "tgtTypeName": "date",
                                    "tgtMaxStrLength": "3",
                                    "difMaxLength": "0",
                                    "tgtPrecision": "10",
                                    "difPrecision": "0",
                                    "tgtScale": "0",
                                    "difScale": "0",
                                    "SelectClauseNoDml": "[whatdate]",
                                    "DmlStmt": "",
                                    "SelectClausePostDml": "[whatdate]",
                                    "Options": "{\"Debug\": 1, \"Perform DML\": 0}",
                                    "ActionMessage": "/* Source and target column definitions are identical */"
                                },
                                {
                                    "ColumnName": "[whatdatetime]",
                                    "ActionPath": "RPT.SAME",
                                    "srcColDefinition": "[whatdatetime] datetime NULL",
                                    "-->": "-->",
                                    "tgtColDefinition": "[whatdatetime] datetime NULL",
                                    "tgtTypeName": "datetime",
                                    "tgtMaxStrLength": "8",
                                    "difMaxLength": "0",
                                    "tgtPrecision": "23",
                                    "difPrecision": "0",
                                    "tgtScale": "3",
                                    "difScale": "0",
                                    "SelectClauseNoDml": "[whatdatetime]",
                                    "DmlStmt": "",
                                    "SelectClausePostDml": "[whatdatetime]",
                                    "Options": "{\"Debug\": 1, \"Perform DML\": 0}",
                                    "ActionMessage": "/* Source and target column definitions are identical */"
                                },
                                {
                                    "ColumnName": "[whatsmalldatetime]",
                                    "ActionPath": "RPT.SAME",
                                    "srcColDefinition": "[whatsmalldatetime] smalldatetime NULL",
                                    "-->": "-->",
                                    "tgtColDefinition": "[whatsmalldatetime] smalldatetime NULL",
                                    "tgtTypeName": "smalldatetime",
                                    "tgtMaxStrLength": "4",
                                    "difMaxLength": "0",
                                    "tgtPrecision": "16",
                                    "difPrecision": "0",
                                    "tgtScale": "0",
                                    "difScale": "0",
                                    "SelectClauseNoDml": "[whatsmalldatetime]",
                                    "DmlStmt": "",
                                    "SelectClausePostDml": "[whatsmalldatetime]",
                                    "Options": "{\"Debug\": 1, \"Perform DML\": 0}",
                                    "ActionMessage": "/* Source and target column definitions are identical */"
                                },
                                {
                                    "ColumnName": "[dt02_c]",
                                    "ActionPath": "RPT.SMALLER_SOURCE",
                                    "srcColDefinition": "[dt02_c] datetimeoffset(3) NULL",
                                    "-->": "-->",
                                    "tgtColDefinition": "[dt02_c] datetimeoffset(4) NULL",
                                    "tgtTypeName": "datetimeoffset",
                                    "tgtMaxStrLength": "9",
                                    "difMaxLength": "0",
                                    "tgtPrecision": "31",
                                    "difPrecision": "-1",
                                    "tgtScale": "4",
                                    "difScale": "-1",
                                    "SelectClauseNoDml": "[dt02_c]",
                                    "DmlStmt": "",
                                    "SelectClausePostDml": "[dt02_c]",
                                    "Options": "{\"Debug\": 1, \"Perform DML\": 0}",
                                    "ActionMessage": "/* Target column is of same base type but allows more data (ex. int -> bigint; varchar(50) -> varchar(100)) */"
                                },
                                {
                                    "ColumnName": "[dt02_d]",
                                    "ActionPath": "RPT.SMALLER_SOURCE",
                                    "srcColDefinition": "[dt02_d] datetimeoffset(1) NULL",
                                    "-->": "-->",
                                    "tgtColDefinition": "[dt02_d] datetimeoffset(6) NULL",
                                    "tgtTypeName": "datetimeoffset",
                                    "tgtMaxStrLength": "10",
                                    "difMaxLength": "-2",
                                    "tgtPrecision": "33",
                                    "difPrecision": "-5",
                                    "tgtScale": "6",
                                    "difScale": "-5",
                                    "SelectClauseNoDml": "[dt02_d]",
                                    "DmlStmt": "",
                                    "SelectClausePostDml": "[dt02_d]",
                                    "Options": "{\"Debug\": 1, \"Perform DML\": 0}",
                                    "ActionMessage": "/* Target column is of same base type but allows more data (ex. int -> bigint; varchar(50) -> varchar(100)) */"
                                },
                                {
                                    "ColumnName": "[dt2_c]",
                                    "ActionPath": "RPT.SMALLER_SOURCE",
                                    "srcColDefinition": "[dt2_c] datetime2(3) NULL",
                                    "-->": "-->",
                                    "tgtColDefinition": "[dt2_c] datetime2(4) NULL",
                                    "tgtTypeName": "datetime2",
                                    "tgtMaxStrLength": "7",
                                    "difMaxLength": "0",
                                    "tgtPrecision": "24",
                                    "difPrecision": "-1",
                                    "tgtScale": "4",
                                    "difScale": "-1",
                                    "SelectClauseNoDml": "[dt2_c]",
                                    "DmlStmt": "",
                                    "SelectClausePostDml": "[dt2_c]",
                                    "Options": "{\"Debug\": 1, \"Perform DML\": 0}",
                                    "ActionMessage": "/* Target column is of same base type but allows more data (ex. int -> bigint; varchar(50) -> varchar(100)) */"
                                },
                                {
                                    "ColumnName": "[dt2_d]",
                                    "ActionPath": "RPT.SMALLER_SOURCE",
                                    "srcColDefinition": "[dt2_d] datetime2(1) NULL",
                                    "-->": "-->",
                                    "tgtColDefinition": "[dt2_d] datetime2(6) NULL",
                                    "tgtTypeName": "datetime2",
                                    "tgtMaxStrLength": "8",
                                    "difMaxLength": "-2",
                                    "tgtPrecision": "26",
                                    "difPrecision": "-5",
                                    "tgtScale": "6",
                                    "difScale": "-5",
                                    "SelectClauseNoDml": "[dt2_d]",
                                    "DmlStmt": "",
                                    "SelectClausePostDml": "[dt2_d]",
                                    "Options": "{\"Debug\": 1, \"Perform DML\": 0}",
                                    "ActionMessage": "/* Target column is of same base type but allows more data (ex. int -> bigint; varchar(50) -> varchar(100)) */"
                                },
                                {
                                    "ColumnName": "[maxify]",
                                    "ActionPath": "RPT.SMALLER_SOURCE",
                                    "srcColDefinition": "[maxify] varchar(2000) NULL",
                                    "-->": "-->",
                                    "tgtColDefinition": "[maxify] varchar(MAX) NULL",
                                    "tgtTypeName": "varchar",
                                    "tgtMaxStrLength": "8193",
                                    "difMaxLength": "-6193",
                                    "tgtPrecision": "0",
                                    "difPrecision": "0",
                                    "tgtScale": "0",
                                    "difScale": "0",
                                    "SelectClauseNoDml": "[maxify]",
                                    "DmlStmt": "",
                                    "SelectClausePostDml": "[maxify]",
                                    "Options": "{\"Debug\": 1, \"Perform DML\": 0}",
                                    "ActionMessage": "/* Target column is of same base type but allows more data (ex. int -> bigint; varchar(50) -> varchar(100)) */"
                                },
                                {
                                    "ColumnName": "[naxify]",
                                    "ActionPath": "RPT.SMALLER_SOURCE",
                                    "srcColDefinition": "[naxify] nvarchar(4000) NULL",
                                    "-->": "-->",
                                    "tgtColDefinition": "[naxify] nvarchar(MAX) NULL",
                                    "tgtTypeName": "nvarchar",
                                    "tgtMaxStrLength": "8193",
                                    "difMaxLength": "-4193",
                                    "tgtPrecision": "0",
                                    "difPrecision": "0",
                                    "tgtScale": "0",
                                    "difScale": "0",
                                    "SelectClauseNoDml": "[naxify]",
                                    "DmlStmt": "",
                                    "SelectClausePostDml": "[naxify]",
                                    "Options": "{\"Debug\": 1, \"Perform DML\": 0}",
                                    "ActionMessage": "/* Target column is of same base type but allows more data (ex. int -> bigint; varchar(50) -> varchar(100)) */"
                                },
                                {
                                    "ColumnName": "[nfixed]",
                                    "ActionPath": "RPT.SMALLER_SOURCE",
                                    "srcColDefinition": "[nfixed] nchar(15) NULL",
                                    "-->": "-->",
                                    "tgtColDefinition": "[nfixed] nchar(25) NULL",
                                    "tgtTypeName": "nchar",
                                    "tgtMaxStrLength": "25",
                                    "difMaxLength": "-10",
                                    "tgtPrecision": "0",
                                    "difPrecision": "0",
                                    "tgtScale": "0",
                                    "difScale": "0",
                                    "SelectClauseNoDml": "[nfixed]",
                                    "DmlStmt": "",
                                    "SelectClausePostDml": "[nfixed]",
                                    "Options": "{\"Debug\": 1, \"Perform DML\": 0}",
                                    "ActionMessage": "/* Target column is of same base type but allows more data (ex. int -> bigint; varchar(50) -> varchar(100)) */"
                                },
                                {
                                    "ColumnName": "[nstring]",
                                    "ActionPath": "RPT.SMALLER_SOURCE",
                                    "srcColDefinition": "[nstring] nvarchar(90) NULL",
                                    "-->": "-->",
                                    "tgtColDefinition": "[nstring] nvarchar(255) NULL",
                                    "tgtTypeName": "nvarchar",
                                    "tgtMaxStrLength": "255",
                                    "difMaxLength": "-165",
                                    "tgtPrecision": "0",
                                    "difPrecision": "0",
                                    "tgtScale": "0",
                                    "difScale": "0",
                                    "SelectClauseNoDml": "[nstring]",
                                    "DmlStmt": "",
                                    "SelectClausePostDml": "[nstring]",
                                    "Options": "{\"Debug\": 1, \"Perform DML\": 0}",
                                    "ActionMessage": "/* Target column is of same base type but allows more data (ex. int -> bigint; varchar(50) -> varchar(100)) */"
                                },
                                {
                                    "ColumnName": "[varby]",
                                    "ActionPath": "RPT.SMALLER_SOURCE",
                                    "srcColDefinition": "[varby] varbinary(1800) NULL",
                                    "-->": "-->",
                                    "tgtColDefinition": "[varby] varbinary(2000) NULL",
                                    "tgtTypeName": "varbinary",
                                    "tgtMaxStrLength": "2000",
                                    "difMaxLength": "-200",
                                    "tgtPrecision": "0",
                                    "difPrecision": "0",
                                    "tgtScale": "0",
                                    "difScale": "0",
                                    "SelectClauseNoDml": "[varby]",
                                    "DmlStmt": "",
                                    "SelectClausePostDml": "[varby]",
                                    "Options": "{\"Debug\": 1, \"Perform DML\": 0}",
                                    "ActionMessage": "/* Target column is of same base type but allows more data (ex. int -> bigint; varchar(50) -> varchar(100)) */"
                                },
                                {
                                    "ColumnName": "[vfixed]",
                                    "ActionPath": "RPT.SMALLER_SOURCE",
                                    "srcColDefinition": "[vfixed] char(10) NULL",
                                    "-->": "-->",
                                    "tgtColDefinition": "[vfixed] char(25) NULL",
                                    "tgtTypeName": "char",
                                    "tgtMaxStrLength": "25",
                                    "difMaxLength": "-15",
                                    "tgtPrecision": "0",
                                    "difPrecision": "0",
                                    "tgtScale": "0",
                                    "difScale": "0",
                                    "SelectClauseNoDml": "[vfixed]",
                                    "DmlStmt": "",
                                    "SelectClausePostDml": "[vfixed]",
                                    "Options": "{\"Debug\": 1, \"Perform DML\": 0}",
                                    "ActionMessage": "/* Target column is of same base type but allows more data (ex. int -> bigint; varchar(50) -> varchar(100)) */"
                                },
                                {
                                    "ColumnName": "[funkycol]",
                                    "ActionPath": "SQL.NO_SOURCE",
                                    "srcColDefinition": "NULL",
                                    "-->": "-->",
                                    "tgtColDefinition": "[funkycol] bit NULL",
                                    "tgtTypeName": "bit",
                                    "tgtMaxStrLength": "1",
                                    "difMaxLength": "NULL",
                                    "tgtPrecision": "1",
                                    "difPrecision": "NULL",
                                    "tgtScale": "0",
                                    "difScale": "NULL",
                                    "SelectClauseNoDml": "",
                                    "DmlStmt": "",
                                    "SelectClausePostDml": "",
                                    "Options": "{\"Debug\": 1, \"Perform DML\": 0}",
                                    "ActionMessage": "Column does not exist in source, exclude from target insert"
                                },
                                {
                                    "ColumnName": "[alpha]",
                                    "ActionPath": "SQL.NUM_TO_STRING",
                                    "srcColDefinition": "[alpha] datetime NULL",
                                    "-->": "-->",
                                    "tgtColDefinition": "[alpha] varchar(200) NULL",
                                    "tgtTypeName": "varchar",
                                    "tgtMaxStrLength": "200",
                                    "difMaxLength": "-192",
                                    "tgtPrecision": "0",
                                    "difPrecision": "23",
                                    "tgtScale": "0",
                                    "difScale": "3",
                                    "SelectClauseNoDml": "convert(varchar(200), [alpha])",
                                    "DmlStmt": "",
                                    "SelectClausePostDml": "convert(varchar(200), [alpha])",
                                    "Options": "{\"Debug\": 1, \"Perform DML\": 0}",
                                    "ActionMessage": "Target column is a string type but source is not - conversion provided"
                                },
                                {
                                    "ColumnName": "[beta]",
                                    "ActionPath": "SQL.NUM_TO_STRING",
                                    "srcColDefinition": "[beta] bigint NULL",
                                    "-->": "-->",
                                    "tgtColDefinition": "[beta] nvarchar(120) NULL",
                                    "tgtTypeName": "nvarchar",
                                    "tgtMaxStrLength": "120",
                                    "difMaxLength": "-112",
                                    "tgtPrecision": "0",
                                    "difPrecision": "19",
                                    "tgtScale": "0",
                                    "difScale": "0",
                                    "SelectClauseNoDml": "convert(nvarchar(120), [beta])",
                                    "DmlStmt": "",
                                    "SelectClausePostDml": "convert(nvarchar(120), [beta])",
                                    "Options": "{\"Debug\": 1, \"Perform DML\": 0}",
                                    "ActionMessage": "Target column is a string type but source is not - conversion provided"
                                },
                                {
                                    "ColumnName": "[epsilon]",
                                    "ActionPath": "SQL.NUM_TO_STRING",
                                    "srcColDefinition": "[epsilon] time(4) NULL",
                                    "-->": "-->",
                                    "tgtColDefinition": "[epsilon] text NULL",
                                    "tgtTypeName": "text",
                                    "tgtMaxStrLength": "8193",
                                    "difMaxLength": "-8189",
                                    "tgtPrecision": "0",
                                    "difPrecision": "13",
                                    "tgtScale": "0",
                                    "difScale": "4",
                                    "SelectClauseNoDml": "convert(text, [epsilon])",
                                    "DmlStmt": "",
                                    "SelectClausePostDml": "convert(text, [epsilon])",
                                    "Options": "{\"Debug\": 1, \"Perform DML\": 0}",
                                    "ActionMessage": "Target column is a string type but source is not - conversion provided"
                                },
                                {
                                    "ColumnName": "[gamma]",
                                    "ActionPath": "SQL.NUM_TO_STRING",
                                    "srcColDefinition": "[gamma] numeric(9, 4) NULL",
                                    "-->": "-->",
                                    "tgtColDefinition": "[gamma] char(90) NULL",
                                    "tgtTypeName": "char",
                                    "tgtMaxStrLength": "90",
                                    "difMaxLength": "-85",
                                    "tgtPrecision": "0",
                                    "difPrecision": "9",
                                    "tgtScale": "0",
                                    "difScale": "4",
                                    "SelectClauseNoDml": "convert(char(90), [gamma])",
                                    "DmlStmt": "",
                                    "SelectClausePostDml": "convert(char(90), [gamma])",
                                    "Options": "{\"Debug\": 1, \"Perform DML\": 0}",
                                    "ActionMessage": "Target column is a string type but source is not - conversion provided"
                                },
                                {
                                    "ColumnName": "[theta]",
                                    "ActionPath": "SQL.NUM_TO_STRING",
                                    "srcColDefinition": "[theta] datetimeoffset(4) NULL",
                                    "-->": "-->",
                                    "tgtColDefinition": "[theta] ntext NULL",
                                    "tgtTypeName": "ntext",
                                    "tgtMaxStrLength": "8193",
                                    "difMaxLength": "-8184",
                                    "tgtPrecision": "0",
                                    "difPrecision": "31",
                                    "tgtScale": "0",
                                    "difScale": "4",
                                    "SelectClauseNoDml": "convert(ntext, [theta])",
                                    "DmlStmt": "",
                                    "SelectClausePostDml": "convert(ntext, [theta])",
                                    "Options": "{\"Debug\": 1, \"Perform DML\": 0}",
                                    "ActionMessage": "Target column is a string type but source is not - conversion provided"
                                },
                                {
                                    "ColumnName": "[id]",
                                    "ActionPath": "SQL.PRIMARY_KEY",
                                    "srcColDefinition": "[id] bigint NULL",
                                    "-->": "-->",
                                    "tgtColDefinition": "[id] int NULL",
                                    "tgtTypeName": "int",
                                    "tgtMaxStrLength": "4",
                                    "difMaxLength": "4",
                                    "tgtPrecision": "10",
                                    "difPrecision": "9",
                                    "tgtScale": "0",
                                    "difScale": "0",
                                    "SelectClauseNoDml": "convert(int[id])",
                                    "DmlStmt": "",
                                    "SelectClausePostDml": "convert(int[id]) /* PRIMARY KEY field - no DML performed */",
                                    "Options": "{\"Debug\": 1, \"Perform DML\": 0}",
                                    "ActionMessage": "Target column is a primary key column.  No automatic modification supported - conversion provided"
                                }
                            ]
                        },
                        "text/html": [
                            "<table>",
                            "<tr><th>ColumnName</th><th>ActionPath</th><th>srcColDefinition</th><th>--&gt;</th><th>tgtColDefinition</th><th>tgtTypeName</th><th>tgtMaxStrLength</th><th>difMaxLength</th><th>tgtPrecision</th><th>difPrecision</th><th>tgtScale</th><th>difScale</th><th>SelectClauseNoDml</th><th>DmlStmt</th><th>SelectClausePostDml</th><th>Options</th><th>ActionMessage</th></tr>",
                            "<tr><td>[junkycol]</td><td>DML.NO_DEST</td><td>[junkycol] bit NULL</td><td>--&gt;</td><td>NULL</td><td>NULL</td><td>NULL</td><td>NULL</td><td>NULL</td><td>NULL</td><td>NULL</td><td>NULL</td><td></td><td>alter table [dbo].[funky] add [junkycol] bit NULL</td><td>[junkycol]</td><td>{&quot;Debug&quot;: 1, &quot;Perform DML&quot;: 0}</td><td>Target column does not exist - either add it to the table or exclude it from the insert</td></tr>",
                            "<tr><td>[delta]</td><td>DML.NUM_TO_SMALL_STRING</td><td>[delta] decimal(29, 0) NULL</td><td>--&gt;</td><td>[delta] nchar(20) NULL</td><td>nchar</td><td>20</td><td>-3</td><td>0</td><td>29</td><td>0</td><td>0</td><td>convert( nchar(20), [delta])</td><td>alter table [dbo].[funky] alter column [delta] nchar(29) NULL</td><td>[delta]</td><td>{&quot;Debug&quot;: 1, &quot;Perform DML&quot;: 0}</td><td>Target column is a string type too small to accept source data - expand target AND conversion provided</td></tr>",
                            "<tr><td>[deci]</td><td>DML.PRECISION_SCALE</td><td>[deci] decimal(36, 17) NULL</td><td>--&gt;</td><td>[deci] decimal(25, 19) NULL</td><td>decimal</td><td>13</td><td>4</td><td>25</td><td>11</td><td>19</td><td>-2</td><td>convert( decimal(25, 19), [deci])</td><td>alter table [dbo].[funky] alter column [deci] decimal(36, 19) NULL</td><td>[deci]</td><td>{&quot;Debug&quot;: 1, &quot;Perform DML&quot;: 0}</td><td>Target column has lower precision or scale than source - risk of truncation</td></tr>",
                            "<tr><td>[numerally]</td><td>DML.PRECISION_SCALE</td><td>[numerally] numeric(11, 7) NULL</td><td>--&gt;</td><td>[numerally] numeric(13, 4) NULL</td><td>numeric</td><td>9</td><td>0</td><td>13</td><td>-2</td><td>4</td><td>3</td><td>convert( numeric(13, 4), [numerally])</td><td>alter table [dbo].[funky] alter column [numerally] numeric(13, 7) NULL</td><td>[numerally]</td><td>{&quot;Debug&quot;: 1, &quot;Perform DML&quot;: 0}</td><td>Target column has lower precision or scale than source - risk of truncation</td></tr>",
                            "<tr><td>[dt02_a]</td><td>DML.SCALE</td><td>[dt02_a] datetimeoffset(7) NULL</td><td>--&gt;</td><td>[dt02_a] datetimeoffset(0) NULL</td><td>datetimeoffset</td><td>8</td><td>2</td><td>26</td><td>8</td><td>0</td><td>7</td><td>convert( datetimeoffset(0), [dt02_a])</td><td>alter table [dbo].[funky] alter column [dt02_a] datetimeoffset(7) NULL</td><td>[dt02_a]</td><td>{&quot;Debug&quot;: 1, &quot;Perform DML&quot;: 0}</td><td>Target column has lower scale than source - risk of truncation</td></tr>",
                            "<tr><td>[dt02_b]</td><td>DML.SCALE</td><td>[dt02_b] datetimeoffset(5) NULL</td><td>--&gt;</td><td>[dt02_b] datetimeoffset(2) NULL</td><td>datetimeoffset</td><td>8</td><td>2</td><td>29</td><td>3</td><td>2</td><td>3</td><td>convert( datetimeoffset(2), [dt02_b])</td><td>alter table [dbo].[funky] alter column [dt02_b] datetimeoffset(5) NULL</td><td>[dt02_b]</td><td>{&quot;Debug&quot;: 1, &quot;Perform DML&quot;: 0}</td><td>Target column has lower scale than source - risk of truncation</td></tr>",
                            "<tr><td>[dt2_a]</td><td>DML.SCALE</td><td>[dt2_a] datetime2(7) NULL</td><td>--&gt;</td><td>[dt2_a] datetime2(0) NULL</td><td>datetime2</td><td>6</td><td>2</td><td>19</td><td>8</td><td>0</td><td>7</td><td>convert( datetime2(0), [dt2_a])</td><td>alter table [dbo].[funky] alter column [dt2_a] datetime2(7) NULL</td><td>[dt2_a]</td><td>{&quot;Debug&quot;: 1, &quot;Perform DML&quot;: 0}</td><td>Target column has lower scale than source - risk of truncation</td></tr>",
                            "<tr><td>[dt2_b]</td><td>DML.SCALE</td><td>[dt2_b] datetime2(5) NULL</td><td>--&gt;</td><td>[dt2_b] datetime2(2) NULL</td><td>datetime2</td><td>6</td><td>2</td><td>22</td><td>3</td><td>2</td><td>3</td><td>convert( datetime2(2), [dt2_b])</td><td>alter table [dbo].[funky] alter column [dt2_b] datetime2(5) NULL</td><td>[dt2_b]</td><td>{&quot;Debug&quot;: 1, &quot;Perform DML&quot;: 0}</td><td>Target column has lower scale than source - risk of truncation</td></tr>",
                            "<tr><td>[whatdatetime2]</td><td>DML.SCALE</td><td>[whatdatetime2] datetime2(7) NULL</td><td>--&gt;</td><td>[whatdatetime2] datetime2(5) NULL</td><td>datetime2</td><td>8</td><td>0</td><td>25</td><td>2</td><td>5</td><td>2</td><td>convert( datetime2(5), [whatdatetime2])</td><td>alter table [dbo].[funky] alter column [whatdatetime2] datetime2(7) NULL</td><td>[whatdatetime2]</td><td>{&quot;Debug&quot;: 1, &quot;Perform DML&quot;: 0}</td><td>Target column has lower scale than source - risk of truncation</td></tr>",
                            "<tr><td>[whatdatetimeoffset]</td><td>DML.SCALE</td><td>[whatdatetimeoffset] datetimeoffset(5) NULL</td><td>--&gt;</td><td>[whatdatetimeoffset] datetimeoffset(4) NULL</td><td>datetimeoffset</td><td>9</td><td>1</td><td>31</td><td>1</td><td>4</td><td>1</td><td>convert( datetimeoffset(4), [whatdatetimeoffset])</td><td>alter table [dbo].[funky] alter column [whatdatetimeoffset] datetimeoffset(5) NULL</td><td>[whatdatetimeoffset]</td><td>{&quot;Debug&quot;: 1, &quot;Perform DML&quot;: 0}</td><td>Target column has lower scale than source - risk of truncation</td></tr>",
                            "<tr><td>[whattime]</td><td>DML.SCALE</td><td>[whattime] time(6) NULL</td><td>--&gt;</td><td>[whattime] time(5) NULL</td><td>time</td><td>5</td><td>0</td><td>14</td><td>1</td><td>5</td><td>1</td><td>convert( time(5), [whattime])</td><td>alter table [dbo].[funky] alter column [whattime] time(6) NULL</td><td>[whattime]</td><td>{&quot;Debug&quot;: 1, &quot;Perform DML&quot;: 0}</td><td>Target column has lower scale than source - risk of truncation</td></tr>",
                            "<tr><td>[biny]</td><td>DML.SMALLER_STRING</td><td>[biny] binary(400) NULL</td><td>--&gt;</td><td>[biny] binary(200) NULL</td><td>binary</td><td>200</td><td>200</td><td>0</td><td>0</td><td>0</td><td>0</td><td>convert( binary(200), [biny])</td><td>alter table [dbo].[funky] alter column [biny] binary(400) NULL</td><td>[biny]</td><td>{&quot;Debug&quot;: 1, &quot;Perform DML&quot;: 0}</td><td>Target string is smaller than source - either alter target column or risk truncation</td></tr>",
                            "<tr><td>[vstring]</td><td>DML.SMALLER_STRING</td><td>[vstring] varchar(300) NULL</td><td>--&gt;</td><td>[vstring] varchar(255) NULL</td><td>varchar</td><td>255</td><td>45</td><td>0</td><td>0</td><td>0</td><td>0</td><td>convert( varchar(255), [vstring])</td><td>alter table [dbo].[funky] alter column [vstring] varchar(300) NULL</td><td>[vstring]</td><td>{&quot;Debug&quot;: 1, &quot;Perform DML&quot;: 0}</td><td>Target string is smaller than source - either alter target column or risk truncation</td></tr>",
                            "<tr><td>[asciiblob]</td><td>RPT.SAME</td><td>[asciiblob] text NULL</td><td>--&gt;</td><td>[asciiblob] text NULL</td><td>text</td><td>8193</td><td>0</td><td>0</td><td>0</td><td>0</td><td>0</td><td>[asciiblob]</td><td></td><td>[asciiblob]</td><td>{&quot;Debug&quot;: 1, &quot;Perform DML&quot;: 0}</td><td>/* Source and target column definitions are identical */</td></tr>",
                            "<tr><td>[bucks]</td><td>RPT.SAME</td><td>[bucks] money NULL</td><td>--&gt;</td><td>[bucks] money NULL</td><td>money</td><td>8</td><td>0</td><td>19</td><td>0</td><td>4</td><td>0</td><td>[bucks]</td><td></td><td>[bucks]</td><td>{&quot;Debug&quot;: 1, &quot;Perform DML&quot;: 0}</td><td>/* Source and target column definitions are identical */</td></tr>",
                            "<tr><td>[floaty]</td><td>RPT.SAME</td><td>[floaty] float(53) NULL</td><td>--&gt;</td><td>[floaty] float(53) NULL</td><td>float</td><td>8</td><td>0</td><td>53</td><td>0</td><td>0</td><td>0</td><td>[floaty]</td><td></td><td>[floaty]</td><td>{&quot;Debug&quot;: 1, &quot;Perform DML&quot;: 0}</td><td>/* Source and target column definitions are identical */</td></tr>",
                            "<tr><td>[img]</td><td>RPT.SAME</td><td>[img] image NULL</td><td>--&gt;</td><td>[img] image NULL</td><td>image</td><td>16</td><td>0</td><td>0</td><td>0</td><td>0</td><td>0</td><td>[img]</td><td></td><td>[img]</td><td>{&quot;Debug&quot;: 1, &quot;Perform DML&quot;: 0}</td><td>/* Source and target column definitions are identical */</td></tr>",
                            "<tr><td>[lilbucks]</td><td>RPT.SAME</td><td>[lilbucks] smallmoney NULL</td><td>--&gt;</td><td>[lilbucks] smallmoney NULL</td><td>smallmoney</td><td>4</td><td>0</td><td>10</td><td>0</td><td>4</td><td>0</td><td>[lilbucks]</td><td></td><td>[lilbucks]</td><td>{&quot;Debug&quot;: 1, &quot;Perform DML&quot;: 0}</td><td>/* Source and target column definitions are identical */</td></tr>",
                            "<tr><td>[lilfloaty]</td><td>RPT.SAME</td><td>[lilfloaty] real NULL</td><td>--&gt;</td><td>[lilfloaty] real NULL</td><td>real</td><td>4</td><td>0</td><td>24</td><td>0</td><td>0</td><td>0</td><td>[lilfloaty]</td><td></td><td>[lilfloaty]</td><td>{&quot;Debug&quot;: 1, &quot;Perform DML&quot;: 0}</td><td>/* Source and target column definitions are identical */</td></tr>",
                            "<tr><td>[really]</td><td>RPT.SAME</td><td>[really] real NULL</td><td>--&gt;</td><td>[really] real NULL</td><td>real</td><td>4</td><td>0</td><td>24</td><td>0</td><td>0</td><td>0</td><td>[really]</td><td></td><td>[really]</td><td>{&quot;Debug&quot;: 1, &quot;Perform DML&quot;: 0}</td><td>/* Source and target column definitions are identical */</td></tr>",
                            "<tr><td>[sissy]</td><td>RPT.SAME</td><td>[sissy] sysname NULL</td><td>--&gt;</td><td>[sissy] sysname NULL</td><td>sysname</td><td>256</td><td>0</td><td>0</td><td>0</td><td>0</td><td>0</td><td>[sissy]</td><td></td><td>[sissy]</td><td>{&quot;Debug&quot;: 1, &quot;Perform DML&quot;: 0}</td><td>/* Source and target column definitions are identical */</td></tr>",
                            "<tr><td>[uniblob]</td><td>RPT.SAME</td><td>[uniblob] ntext NULL</td><td>--&gt;</td><td>[uniblob] ntext NULL</td><td>ntext</td><td>8193</td><td>0</td><td>0</td><td>0</td><td>0</td><td>0</td><td>[uniblob]</td><td></td><td>[uniblob]</td><td>{&quot;Debug&quot;: 1, &quot;Perform DML&quot;: 0}</td><td>/* Source and target column definitions are identical */</td></tr>",
                            "<tr><td>[verysql]</td><td>RPT.SAME</td><td>[verysql] sql_variant NULL</td><td>--&gt;</td><td>[verysql] sql_variant NULL</td><td>sql_variant</td><td>8016</td><td>0</td><td>0</td><td>0</td><td>0</td><td>0</td><td>[verysql]</td><td></td><td>[verysql]</td><td>{&quot;Debug&quot;: 1, &quot;Perform DML&quot;: 0}</td><td>/* Source and target column definitions are identical */</td></tr>",
                            "<tr><td>[whatdate]</td><td>RPT.SAME</td><td>[whatdate] date NULL</td><td>--&gt;</td><td>[whatdate] date NULL</td><td>date</td><td>3</td><td>0</td><td>10</td><td>0</td><td>0</td><td>0</td><td>[whatdate]</td><td></td><td>[whatdate]</td><td>{&quot;Debug&quot;: 1, &quot;Perform DML&quot;: 0}</td><td>/* Source and target column definitions are identical */</td></tr>",
                            "<tr><td>[whatdatetime]</td><td>RPT.SAME</td><td>[whatdatetime] datetime NULL</td><td>--&gt;</td><td>[whatdatetime] datetime NULL</td><td>datetime</td><td>8</td><td>0</td><td>23</td><td>0</td><td>3</td><td>0</td><td>[whatdatetime]</td><td></td><td>[whatdatetime]</td><td>{&quot;Debug&quot;: 1, &quot;Perform DML&quot;: 0}</td><td>/* Source and target column definitions are identical */</td></tr>",
                            "<tr><td>[whatsmalldatetime]</td><td>RPT.SAME</td><td>[whatsmalldatetime] smalldatetime NULL</td><td>--&gt;</td><td>[whatsmalldatetime] smalldatetime NULL</td><td>smalldatetime</td><td>4</td><td>0</td><td>16</td><td>0</td><td>0</td><td>0</td><td>[whatsmalldatetime]</td><td></td><td>[whatsmalldatetime]</td><td>{&quot;Debug&quot;: 1, &quot;Perform DML&quot;: 0}</td><td>/* Source and target column definitions are identical */</td></tr>",
                            "<tr><td>[dt02_c]</td><td>RPT.SMALLER_SOURCE</td><td>[dt02_c] datetimeoffset(3) NULL</td><td>--&gt;</td><td>[dt02_c] datetimeoffset(4) NULL</td><td>datetimeoffset</td><td>9</td><td>0</td><td>31</td><td>-1</td><td>4</td><td>-1</td><td>[dt02_c]</td><td></td><td>[dt02_c]</td><td>{&quot;Debug&quot;: 1, &quot;Perform DML&quot;: 0}</td><td>/* Target column is of same base type but allows more data (ex. int -&gt; bigint; varchar(50) -&gt; varchar(100)) */</td></tr>",
                            "<tr><td>[dt02_d]</td><td>RPT.SMALLER_SOURCE</td><td>[dt02_d] datetimeoffset(1) NULL</td><td>--&gt;</td><td>[dt02_d] datetimeoffset(6) NULL</td><td>datetimeoffset</td><td>10</td><td>-2</td><td>33</td><td>-5</td><td>6</td><td>-5</td><td>[dt02_d]</td><td></td><td>[dt02_d]</td><td>{&quot;Debug&quot;: 1, &quot;Perform DML&quot;: 0}</td><td>/* Target column is of same base type but allows more data (ex. int -&gt; bigint; varchar(50) -&gt; varchar(100)) */</td></tr>",
                            "<tr><td>[dt2_c]</td><td>RPT.SMALLER_SOURCE</td><td>[dt2_c] datetime2(3) NULL</td><td>--&gt;</td><td>[dt2_c] datetime2(4) NULL</td><td>datetime2</td><td>7</td><td>0</td><td>24</td><td>-1</td><td>4</td><td>-1</td><td>[dt2_c]</td><td></td><td>[dt2_c]</td><td>{&quot;Debug&quot;: 1, &quot;Perform DML&quot;: 0}</td><td>/* Target column is of same base type but allows more data (ex. int -&gt; bigint; varchar(50) -&gt; varchar(100)) */</td></tr>",
                            "<tr><td>[dt2_d]</td><td>RPT.SMALLER_SOURCE</td><td>[dt2_d] datetime2(1) NULL</td><td>--&gt;</td><td>[dt2_d] datetime2(6) NULL</td><td>datetime2</td><td>8</td><td>-2</td><td>26</td><td>-5</td><td>6</td><td>-5</td><td>[dt2_d]</td><td></td><td>[dt2_d]</td><td>{&quot;Debug&quot;: 1, &quot;Perform DML&quot;: 0}</td><td>/* Target column is of same base type but allows more data (ex. int -&gt; bigint; varchar(50) -&gt; varchar(100)) */</td></tr>",
                            "<tr><td>[maxify]</td><td>RPT.SMALLER_SOURCE</td><td>[maxify] varchar(2000) NULL</td><td>--&gt;</td><td>[maxify] varchar(MAX) NULL</td><td>varchar</td><td>8193</td><td>-6193</td><td>0</td><td>0</td><td>0</td><td>0</td><td>[maxify]</td><td></td><td>[maxify]</td><td>{&quot;Debug&quot;: 1, &quot;Perform DML&quot;: 0}</td><td>/* Target column is of same base type but allows more data (ex. int -&gt; bigint; varchar(50) -&gt; varchar(100)) */</td></tr>",
                            "<tr><td>[naxify]</td><td>RPT.SMALLER_SOURCE</td><td>[naxify] nvarchar(4000) NULL</td><td>--&gt;</td><td>[naxify] nvarchar(MAX) NULL</td><td>nvarchar</td><td>8193</td><td>-4193</td><td>0</td><td>0</td><td>0</td><td>0</td><td>[naxify]</td><td></td><td>[naxify]</td><td>{&quot;Debug&quot;: 1, &quot;Perform DML&quot;: 0}</td><td>/* Target column is of same base type but allows more data (ex. int -&gt; bigint; varchar(50) -&gt; varchar(100)) */</td></tr>",
                            "<tr><td>[nfixed]</td><td>RPT.SMALLER_SOURCE</td><td>[nfixed] nchar(15) NULL</td><td>--&gt;</td><td>[nfixed] nchar(25) NULL</td><td>nchar</td><td>25</td><td>-10</td><td>0</td><td>0</td><td>0</td><td>0</td><td>[nfixed]</td><td></td><td>[nfixed]</td><td>{&quot;Debug&quot;: 1, &quot;Perform DML&quot;: 0}</td><td>/* Target column is of same base type but allows more data (ex. int -&gt; bigint; varchar(50) -&gt; varchar(100)) */</td></tr>",
                            "<tr><td>[nstring]</td><td>RPT.SMALLER_SOURCE</td><td>[nstring] nvarchar(90) NULL</td><td>--&gt;</td><td>[nstring] nvarchar(255) NULL</td><td>nvarchar</td><td>255</td><td>-165</td><td>0</td><td>0</td><td>0</td><td>0</td><td>[nstring]</td><td></td><td>[nstring]</td><td>{&quot;Debug&quot;: 1, &quot;Perform DML&quot;: 0}</td><td>/* Target column is of same base type but allows more data (ex. int -&gt; bigint; varchar(50) -&gt; varchar(100)) */</td></tr>",
                            "<tr><td>[varby]</td><td>RPT.SMALLER_SOURCE</td><td>[varby] varbinary(1800) NULL</td><td>--&gt;</td><td>[varby] varbinary(2000) NULL</td><td>varbinary</td><td>2000</td><td>-200</td><td>0</td><td>0</td><td>0</td><td>0</td><td>[varby]</td><td></td><td>[varby]</td><td>{&quot;Debug&quot;: 1, &quot;Perform DML&quot;: 0}</td><td>/* Target column is of same base type but allows more data (ex. int -&gt; bigint; varchar(50) -&gt; varchar(100)) */</td></tr>",
                            "<tr><td>[vfixed]</td><td>RPT.SMALLER_SOURCE</td><td>[vfixed] char(10) NULL</td><td>--&gt;</td><td>[vfixed] char(25) NULL</td><td>char</td><td>25</td><td>-15</td><td>0</td><td>0</td><td>0</td><td>0</td><td>[vfixed]</td><td></td><td>[vfixed]</td><td>{&quot;Debug&quot;: 1, &quot;Perform DML&quot;: 0}</td><td>/* Target column is of same base type but allows more data (ex. int -&gt; bigint; varchar(50) -&gt; varchar(100)) */</td></tr>",
                            "<tr><td>[funkycol]</td><td>SQL.NO_SOURCE</td><td>NULL</td><td>--&gt;</td><td>[funkycol] bit NULL</td><td>bit</td><td>1</td><td>NULL</td><td>1</td><td>NULL</td><td>0</td><td>NULL</td><td></td><td></td><td></td><td>{&quot;Debug&quot;: 1, &quot;Perform DML&quot;: 0}</td><td>Column does not exist in source, exclude from target insert</td></tr>",
                            "<tr><td>[alpha]</td><td>SQL.NUM_TO_STRING</td><td>[alpha] datetime NULL</td><td>--&gt;</td><td>[alpha] varchar(200) NULL</td><td>varchar</td><td>200</td><td>-192</td><td>0</td><td>23</td><td>0</td><td>3</td><td>convert(varchar(200), [alpha])</td><td></td><td>convert(varchar(200), [alpha])</td><td>{&quot;Debug&quot;: 1, &quot;Perform DML&quot;: 0}</td><td>Target column is a string type but source is not - conversion provided</td></tr>",
                            "<tr><td>[beta]</td><td>SQL.NUM_TO_STRING</td><td>[beta] bigint NULL</td><td>--&gt;</td><td>[beta] nvarchar(120) NULL</td><td>nvarchar</td><td>120</td><td>-112</td><td>0</td><td>19</td><td>0</td><td>0</td><td>convert(nvarchar(120), [beta])</td><td></td><td>convert(nvarchar(120), [beta])</td><td>{&quot;Debug&quot;: 1, &quot;Perform DML&quot;: 0}</td><td>Target column is a string type but source is not - conversion provided</td></tr>",
                            "<tr><td>[epsilon]</td><td>SQL.NUM_TO_STRING</td><td>[epsilon] time(4) NULL</td><td>--&gt;</td><td>[epsilon] text NULL</td><td>text</td><td>8193</td><td>-8189</td><td>0</td><td>13</td><td>0</td><td>4</td><td>convert(text, [epsilon])</td><td></td><td>convert(text, [epsilon])</td><td>{&quot;Debug&quot;: 1, &quot;Perform DML&quot;: 0}</td><td>Target column is a string type but source is not - conversion provided</td></tr>",
                            "<tr><td>[gamma]</td><td>SQL.NUM_TO_STRING</td><td>[gamma] numeric(9, 4) NULL</td><td>--&gt;</td><td>[gamma] char(90) NULL</td><td>char</td><td>90</td><td>-85</td><td>0</td><td>9</td><td>0</td><td>4</td><td>convert(char(90), [gamma])</td><td></td><td>convert(char(90), [gamma])</td><td>{&quot;Debug&quot;: 1, &quot;Perform DML&quot;: 0}</td><td>Target column is a string type but source is not - conversion provided</td></tr>",
                            "<tr><td>[theta]</td><td>SQL.NUM_TO_STRING</td><td>[theta] datetimeoffset(4) NULL</td><td>--&gt;</td><td>[theta] ntext NULL</td><td>ntext</td><td>8193</td><td>-8184</td><td>0</td><td>31</td><td>0</td><td>4</td><td>convert(ntext, [theta])</td><td></td><td>convert(ntext, [theta])</td><td>{&quot;Debug&quot;: 1, &quot;Perform DML&quot;: 0}</td><td>Target column is a string type but source is not - conversion provided</td></tr>",
                            "<tr><td>[id]</td><td>SQL.PRIMARY_KEY</td><td>[id] bigint NULL</td><td>--&gt;</td><td>[id] int NULL</td><td>int</td><td>4</td><td>4</td><td>10</td><td>9</td><td>0</td><td>0</td><td>convert(int[id])</td><td></td><td>convert(int[id]) /* PRIMARY KEY field - no DML performed */</td><td>{&quot;Debug&quot;: 1, &quot;Perform DML&quot;: 0}</td><td>Target column is a primary key column.  No automatic modification supported - conversion provided</td></tr>",
                            "</table>"
                        ]
                    }
                }
            ],
            "execution_count": 9
        },
        {
            "cell_type": "markdown",
            "source": [
                "## Now to make changes - run with Perform DML = 1"
            ],
            "metadata": {
                "language": "sql",
                "azdata_cell_guid": "8c05337b-206c-49d3-b514-12393da69340"
            },
            "attachments": {}
        },
        {
            "cell_type": "markdown",
            "source": [
                "### ```dbo.bigger``` --> ```dbo.smaller```\r\n",
                "Will alter many columns in ```dbo.smaller```"
            ],
            "metadata": {
                "language": "sql",
                "azdata_cell_guid": "e915f004-1c2b-478d-955d-449be0f7edd4"
            },
            "attachments": {}
        },
        {
            "cell_type": "code",
            "source": [
                "exec uspConformTable 'dbo', 'bigger', 'dbo', 'smaller', '{\"Debug\": 1, \"Perform DML\": 1}'"
            ],
            "metadata": {
                "language": "sql",
                "azdata_cell_guid": "56f02994-be11-4644-8cb8-6ae700411c13"
            },
            "outputs": [
                {
                    "output_type": "display_data",
                    "data": {
                        "text/html": "Commands completed successfully."
                    },
                    "metadata": {}
                },
                {
                    "output_type": "display_data",
                    "data": {
                        "text/html": "Total execution time: 00:00:00.121"
                    },
                    "metadata": {}
                },
                {
                    "output_type": "execute_result",
                    "metadata": {},
                    "execution_count": 19,
                    "data": {
                        "application/vnd.dataresource+json": {
                            "schema": {
                                "fields": [
                                    {
                                        "name": "SqlCommand"
                                    }
                                ]
                            },
                            "data": [
                                {
                                    "SqlCommand": "insert into [dbo].[smaller] ([id], [i1], [i2], [i3], [dt1], [dt2], [dt3], [dt4], [dt5], [t], [bucks], [r1], [n1], [cs], [ncs], [s], [ns], [var2nvar], [var2nvarsz], [char2ncharar], [bin], [vbin], [ft]) select [id], [i1], [i2], [i3], [dt1], [dt2], [dt3], [dt4], [dt5], [t], [bucks], [r1], [n1], [cs], [ncs], [s], [ns], [var2nvar], [var2nvarsz], [char2ncharar], [bin], [vbin], [ft] from [dbo].[bigger]"
                                }
                            ]
                        },
                        "text/html": [
                            "<table>",
                            "<tr><th>SqlCommand</th></tr>",
                            "<tr><td>insert into [dbo].[smaller] ([id], [i1], [i2], [i3], [dt1], [dt2], [dt3], [dt4], [dt5], [t], [bucks], [r1], [n1], [cs], [ncs], [s], [ns], [var2nvar], [var2nvarsz], [char2ncharar], [bin], [vbin], [ft]) select [id], [i1], [i2], [i3], [dt1], [dt2], [dt3], [dt4], [dt5], [t], [bucks], [r1], [n1], [cs], [ncs], [s], [ns], [var2nvar], [var2nvarsz], [char2ncharar], [bin], [vbin], [ft] from [dbo].[bigger]</td></tr>",
                            "</table>"
                        ]
                    }
                },
                {
                    "output_type": "execute_result",
                    "metadata": {},
                    "execution_count": 19,
                    "data": {
                        "application/vnd.dataresource+json": {
                            "schema": {
                                "fields": [
                                    {
                                        "name": "ColumnName"
                                    },
                                    {
                                        "name": "ActionReason"
                                    },
                                    {
                                        "name": "srcColDefinition"
                                    },
                                    {
                                        "name": "--&amp;gt;"
                                    },
                                    {
                                        "name": "tgtColDefinition"
                                    },
                                    {
                                        "name": "tgtTypeName"
                                    },
                                    {
                                        "name": "tgtMaxStrLength"
                                    },
                                    {
                                        "name": "difMaxLength"
                                    },
                                    {
                                        "name": "tgtPrecision"
                                    },
                                    {
                                        "name": "difPrecision"
                                    },
                                    {
                                        "name": "tgtScale"
                                    },
                                    {
                                        "name": "difScale"
                                    },
                                    {
                                        "name": "SelectClauseNoDml"
                                    },
                                    {
                                        "name": "DmlStmt"
                                    },
                                    {
                                        "name": "SelectClausePostDml"
                                    },
                                    {
                                        "name": "Options"
                                    },
                                    {
                                        "name": "ActionMessage"
                                    }
                                ]
                            },
                            "data": [
                                {
                                    "ColumnName": "[bin]",
                                    "ActionReason": "RPT.SAME",
                                    "srcColDefinition": "[bin] binary(120) NULL",
                                    "--&gt;": "-->",
                                    "tgtColDefinition": "[bin] binary(120) NULL",
                                    "tgtTypeName": "binary",
                                    "tgtMaxStrLength": "120",
                                    "difMaxLength": "0",
                                    "tgtPrecision": "0",
                                    "difPrecision": "0",
                                    "tgtScale": "0",
                                    "difScale": "0",
                                    "SelectClauseNoDml": "[bin]",
                                    "DmlStmt": "",
                                    "SelectClausePostDml": "[bin]",
                                    "Options": "{\"Debug\": 1, \"Perform DML\": 1}",
                                    "ActionMessage": "/* Source and target column definitions are identical */"
                                },
                                {
                                    "ColumnName": "[bucks]",
                                    "ActionReason": "RPT.SAME",
                                    "srcColDefinition": "[bucks] money NULL",
                                    "--&gt;": "-->",
                                    "tgtColDefinition": "[bucks] money NULL",
                                    "tgtTypeName": "money",
                                    "tgtMaxStrLength": "8",
                                    "difMaxLength": "0",
                                    "tgtPrecision": "19",
                                    "difPrecision": "0",
                                    "tgtScale": "4",
                                    "difScale": "0",
                                    "SelectClauseNoDml": "[bucks]",
                                    "DmlStmt": "",
                                    "SelectClausePostDml": "[bucks]",
                                    "Options": "{\"Debug\": 1, \"Perform DML\": 1}",
                                    "ActionMessage": "/* Source and target column definitions are identical */"
                                },
                                {
                                    "ColumnName": "[char2ncharar]",
                                    "ActionReason": "RPT.SAME",
                                    "srcColDefinition": "[char2ncharar] nchar(25) NULL",
                                    "--&gt;": "-->",
                                    "tgtColDefinition": "[char2ncharar] nchar(25) NULL",
                                    "tgtTypeName": "nchar",
                                    "tgtMaxStrLength": "25",
                                    "difMaxLength": "0",
                                    "tgtPrecision": "0",
                                    "difPrecision": "0",
                                    "tgtScale": "0",
                                    "difScale": "0",
                                    "SelectClauseNoDml": "[char2ncharar]",
                                    "DmlStmt": "",
                                    "SelectClausePostDml": "[char2ncharar]",
                                    "Options": "{\"Debug\": 1, \"Perform DML\": 1}",
                                    "ActionMessage": "/* Source and target column definitions are identical */"
                                },
                                {
                                    "ColumnName": "[cs]",
                                    "ActionReason": "RPT.SAME",
                                    "srcColDefinition": "[cs] char(15) NULL",
                                    "--&gt;": "-->",
                                    "tgtColDefinition": "[cs] char(15) NULL",
                                    "tgtTypeName": "char",
                                    "tgtMaxStrLength": "15",
                                    "difMaxLength": "0",
                                    "tgtPrecision": "0",
                                    "difPrecision": "0",
                                    "tgtScale": "0",
                                    "difScale": "0",
                                    "SelectClauseNoDml": "[cs]",
                                    "DmlStmt": "",
                                    "SelectClausePostDml": "[cs]",
                                    "Options": "{\"Debug\": 1, \"Perform DML\": 1}",
                                    "ActionMessage": "/* Source and target column definitions are identical */"
                                },
                                {
                                    "ColumnName": "[dt1]",
                                    "ActionReason": "RPT.SAME",
                                    "srcColDefinition": "[dt1] smalldatetime NULL",
                                    "--&gt;": "-->",
                                    "tgtColDefinition": "[dt1] smalldatetime NULL",
                                    "tgtTypeName": "smalldatetime",
                                    "tgtMaxStrLength": "4",
                                    "difMaxLength": "0",
                                    "tgtPrecision": "16",
                                    "difPrecision": "0",
                                    "tgtScale": "0",
                                    "difScale": "0",
                                    "SelectClauseNoDml": "[dt1]",
                                    "DmlStmt": "",
                                    "SelectClausePostDml": "[dt1]",
                                    "Options": "{\"Debug\": 1, \"Perform DML\": 1}",
                                    "ActionMessage": "/* Source and target column definitions are identical */"
                                },
                                {
                                    "ColumnName": "[dt2]",
                                    "ActionReason": "RPT.SAME",
                                    "srcColDefinition": "[dt2] datetime NULL",
                                    "--&gt;": "-->",
                                    "tgtColDefinition": "[dt2] datetime NULL",
                                    "tgtTypeName": "datetime",
                                    "tgtMaxStrLength": "8",
                                    "difMaxLength": "0",
                                    "tgtPrecision": "23",
                                    "difPrecision": "0",
                                    "tgtScale": "3",
                                    "difScale": "0",
                                    "SelectClauseNoDml": "[dt2]",
                                    "DmlStmt": "",
                                    "SelectClausePostDml": "[dt2]",
                                    "Options": "{\"Debug\": 1, \"Perform DML\": 1}",
                                    "ActionMessage": "/* Source and target column definitions are identical */"
                                },
                                {
                                    "ColumnName": "[dt3]",
                                    "ActionReason": "RPT.SAME",
                                    "srcColDefinition": "[dt3] datetime2(7) NULL",
                                    "--&gt;": "-->",
                                    "tgtColDefinition": "[dt3] datetime2(7) NULL",
                                    "tgtTypeName": "datetime2",
                                    "tgtMaxStrLength": "8",
                                    "difMaxLength": "0",
                                    "tgtPrecision": "27",
                                    "difPrecision": "0",
                                    "tgtScale": "7",
                                    "difScale": "0",
                                    "SelectClauseNoDml": "[dt3]",
                                    "DmlStmt": "",
                                    "SelectClausePostDml": "[dt3]",
                                    "Options": "{\"Debug\": 1, \"Perform DML\": 1}",
                                    "ActionMessage": "/* Source and target column definitions are identical */"
                                },
                                {
                                    "ColumnName": "[dt4]",
                                    "ActionReason": "RPT.SAME",
                                    "srcColDefinition": "[dt4] datetimeoffset(5) NULL",
                                    "--&gt;": "-->",
                                    "tgtColDefinition": "[dt4] datetimeoffset(5) NULL",
                                    "tgtTypeName": "datetimeoffset",
                                    "tgtMaxStrLength": "10",
                                    "difMaxLength": "0",
                                    "tgtPrecision": "32",
                                    "difPrecision": "0",
                                    "tgtScale": "5",
                                    "difScale": "0",
                                    "SelectClauseNoDml": "[dt4]",
                                    "DmlStmt": "",
                                    "SelectClausePostDml": "[dt4]",
                                    "Options": "{\"Debug\": 1, \"Perform DML\": 1}",
                                    "ActionMessage": "/* Source and target column definitions are identical */"
                                },
                                {
                                    "ColumnName": "[dt5]",
                                    "ActionReason": "RPT.SAME",
                                    "srcColDefinition": "[dt5] datetimeoffset(7) NULL",
                                    "--&gt;": "-->",
                                    "tgtColDefinition": "[dt5] datetimeoffset(7) NULL",
                                    "tgtTypeName": "datetimeoffset",
                                    "tgtMaxStrLength": "10",
                                    "difMaxLength": "0",
                                    "tgtPrecision": "34",
                                    "difPrecision": "0",
                                    "tgtScale": "7",
                                    "difScale": "0",
                                    "SelectClauseNoDml": "[dt5]",
                                    "DmlStmt": "",
                                    "SelectClausePostDml": "[dt5]",
                                    "Options": "{\"Debug\": 1, \"Perform DML\": 1}",
                                    "ActionMessage": "/* Source and target column definitions are identical */"
                                },
                                {
                                    "ColumnName": "[ft]",
                                    "ActionReason": "RPT.SAME",
                                    "srcColDefinition": "[ft] float(53) NULL",
                                    "--&gt;": "-->",
                                    "tgtColDefinition": "[ft] float(53) NULL",
                                    "tgtTypeName": "float",
                                    "tgtMaxStrLength": "8",
                                    "difMaxLength": "0",
                                    "tgtPrecision": "53",
                                    "difPrecision": "0",
                                    "tgtScale": "0",
                                    "difScale": "0",
                                    "SelectClauseNoDml": "[ft]",
                                    "DmlStmt": "",
                                    "SelectClausePostDml": "[ft]",
                                    "Options": "{\"Debug\": 1, \"Perform DML\": 1}",
                                    "ActionMessage": "/* Source and target column definitions are identical */"
                                },
                                {
                                    "ColumnName": "[i1]",
                                    "ActionReason": "RPT.SAME",
                                    "srcColDefinition": "[i1] smallint NULL",
                                    "--&gt;": "-->",
                                    "tgtColDefinition": "[i1] smallint NULL",
                                    "tgtTypeName": "smallint",
                                    "tgtMaxStrLength": "2",
                                    "difMaxLength": "0",
                                    "tgtPrecision": "5",
                                    "difPrecision": "0",
                                    "tgtScale": "0",
                                    "difScale": "0",
                                    "SelectClauseNoDml": "[i1]",
                                    "DmlStmt": "",
                                    "SelectClausePostDml": "[i1]",
                                    "Options": "{\"Debug\": 1, \"Perform DML\": 1}",
                                    "ActionMessage": "/* Source and target column definitions are identical */"
                                },
                                {
                                    "ColumnName": "[i2]",
                                    "ActionReason": "RPT.SAME",
                                    "srcColDefinition": "[i2] int NULL",
                                    "--&gt;": "-->",
                                    "tgtColDefinition": "[i2] int NULL",
                                    "tgtTypeName": "int",
                                    "tgtMaxStrLength": "4",
                                    "difMaxLength": "0",
                                    "tgtPrecision": "10",
                                    "difPrecision": "0",
                                    "tgtScale": "0",
                                    "difScale": "0",
                                    "SelectClauseNoDml": "[i2]",
                                    "DmlStmt": "",
                                    "SelectClausePostDml": "[i2]",
                                    "Options": "{\"Debug\": 1, \"Perform DML\": 1}",
                                    "ActionMessage": "/* Source and target column definitions are identical */"
                                },
                                {
                                    "ColumnName": "[i3]",
                                    "ActionReason": "RPT.SAME",
                                    "srcColDefinition": "[i3] bigint NULL",
                                    "--&gt;": "-->",
                                    "tgtColDefinition": "[i3] bigint NULL",
                                    "tgtTypeName": "bigint",
                                    "tgtMaxStrLength": "8",
                                    "difMaxLength": "0",
                                    "tgtPrecision": "19",
                                    "difPrecision": "0",
                                    "tgtScale": "0",
                                    "difScale": "0",
                                    "SelectClauseNoDml": "[i3]",
                                    "DmlStmt": "",
                                    "SelectClausePostDml": "[i3]",
                                    "Options": "{\"Debug\": 1, \"Perform DML\": 1}",
                                    "ActionMessage": "/* Source and target column definitions are identical */"
                                },
                                {
                                    "ColumnName": "[id]",
                                    "ActionReason": "RPT.SAME",
                                    "srcColDefinition": "[id] int NULL",
                                    "--&gt;": "-->",
                                    "tgtColDefinition": "[id] int NULL",
                                    "tgtTypeName": "int",
                                    "tgtMaxStrLength": "4",
                                    "difMaxLength": "0",
                                    "tgtPrecision": "10",
                                    "difPrecision": "0",
                                    "tgtScale": "0",
                                    "difScale": "0",
                                    "SelectClauseNoDml": "[id]",
                                    "DmlStmt": "",
                                    "SelectClausePostDml": "[id]",
                                    "Options": "{\"Debug\": 1, \"Perform DML\": 1}",
                                    "ActionMessage": "/* Source and target column definitions are identical */"
                                },
                                {
                                    "ColumnName": "[n1]",
                                    "ActionReason": "RPT.SAME",
                                    "srcColDefinition": "[n1] decimal(35, 10) NULL",
                                    "--&gt;": "-->",
                                    "tgtColDefinition": "[n1] decimal(35, 10) NULL",
                                    "tgtTypeName": "decimal",
                                    "tgtMaxStrLength": "17",
                                    "difMaxLength": "0",
                                    "tgtPrecision": "35",
                                    "difPrecision": "0",
                                    "tgtScale": "10",
                                    "difScale": "0",
                                    "SelectClauseNoDml": "[n1]",
                                    "DmlStmt": "",
                                    "SelectClausePostDml": "[n1]",
                                    "Options": "{\"Debug\": 1, \"Perform DML\": 1}",
                                    "ActionMessage": "/* Source and target column definitions are identical */"
                                },
                                {
                                    "ColumnName": "[ncs]",
                                    "ActionReason": "RPT.SAME",
                                    "srcColDefinition": "[ncs] nchar(15) NULL",
                                    "--&gt;": "-->",
                                    "tgtColDefinition": "[ncs] nchar(15) NULL",
                                    "tgtTypeName": "nchar",
                                    "tgtMaxStrLength": "15",
                                    "difMaxLength": "0",
                                    "tgtPrecision": "0",
                                    "difPrecision": "0",
                                    "tgtScale": "0",
                                    "difScale": "0",
                                    "SelectClauseNoDml": "[ncs]",
                                    "DmlStmt": "",
                                    "SelectClausePostDml": "[ncs]",
                                    "Options": "{\"Debug\": 1, \"Perform DML\": 1}",
                                    "ActionMessage": "/* Source and target column definitions are identical */"
                                },
                                {
                                    "ColumnName": "[ns]",
                                    "ActionReason": "RPT.SAME",
                                    "srcColDefinition": "[ns] nvarchar(250) NULL",
                                    "--&gt;": "-->",
                                    "tgtColDefinition": "[ns] nvarchar(250) NULL",
                                    "tgtTypeName": "nvarchar",
                                    "tgtMaxStrLength": "250",
                                    "difMaxLength": "0",
                                    "tgtPrecision": "0",
                                    "difPrecision": "0",
                                    "tgtScale": "0",
                                    "difScale": "0",
                                    "SelectClauseNoDml": "[ns]",
                                    "DmlStmt": "",
                                    "SelectClausePostDml": "[ns]",
                                    "Options": "{\"Debug\": 1, \"Perform DML\": 1}",
                                    "ActionMessage": "/* Source and target column definitions are identical */"
                                },
                                {
                                    "ColumnName": "[r1]",
                                    "ActionReason": "RPT.SAME",
                                    "srcColDefinition": "[r1] float(53) NULL",
                                    "--&gt;": "-->",
                                    "tgtColDefinition": "[r1] float(53) NULL",
                                    "tgtTypeName": "float",
                                    "tgtMaxStrLength": "8",
                                    "difMaxLength": "0",
                                    "tgtPrecision": "53",
                                    "difPrecision": "0",
                                    "tgtScale": "0",
                                    "difScale": "0",
                                    "SelectClauseNoDml": "[r1]",
                                    "DmlStmt": "",
                                    "SelectClausePostDml": "[r1]",
                                    "Options": "{\"Debug\": 1, \"Perform DML\": 1}",
                                    "ActionMessage": "/* Source and target column definitions are identical */"
                                },
                                {
                                    "ColumnName": "[s]",
                                    "ActionReason": "RPT.SAME",
                                    "srcColDefinition": "[s] varchar(250) NULL",
                                    "--&gt;": "-->",
                                    "tgtColDefinition": "[s] varchar(250) NULL",
                                    "tgtTypeName": "varchar",
                                    "tgtMaxStrLength": "250",
                                    "difMaxLength": "0",
                                    "tgtPrecision": "0",
                                    "difPrecision": "0",
                                    "tgtScale": "0",
                                    "difScale": "0",
                                    "SelectClauseNoDml": "[s]",
                                    "DmlStmt": "",
                                    "SelectClausePostDml": "[s]",
                                    "Options": "{\"Debug\": 1, \"Perform DML\": 1}",
                                    "ActionMessage": "/* Source and target column definitions are identical */"
                                },
                                {
                                    "ColumnName": "[t]",
                                    "ActionReason": "RPT.SAME",
                                    "srcColDefinition": "[t] time(7) NULL",
                                    "--&gt;": "-->",
                                    "tgtColDefinition": "[t] time(7) NULL",
                                    "tgtTypeName": "time",
                                    "tgtMaxStrLength": "5",
                                    "difMaxLength": "0",
                                    "tgtPrecision": "16",
                                    "difPrecision": "0",
                                    "tgtScale": "7",
                                    "difScale": "0",
                                    "SelectClauseNoDml": "[t]",
                                    "DmlStmt": "",
                                    "SelectClausePostDml": "[t]",
                                    "Options": "{\"Debug\": 1, \"Perform DML\": 1}",
                                    "ActionMessage": "/* Source and target column definitions are identical */"
                                },
                                {
                                    "ColumnName": "[var2nvar]",
                                    "ActionReason": "RPT.SAME",
                                    "srcColDefinition": "[var2nvar] nvarchar(250) NULL",
                                    "--&gt;": "-->",
                                    "tgtColDefinition": "[var2nvar] nvarchar(250) NULL",
                                    "tgtTypeName": "nvarchar",
                                    "tgtMaxStrLength": "250",
                                    "difMaxLength": "0",
                                    "tgtPrecision": "0",
                                    "difPrecision": "0",
                                    "tgtScale": "0",
                                    "difScale": "0",
                                    "SelectClauseNoDml": "[var2nvar]",
                                    "DmlStmt": "",
                                    "SelectClausePostDml": "[var2nvar]",
                                    "Options": "{\"Debug\": 1, \"Perform DML\": 1}",
                                    "ActionMessage": "/* Source and target column definitions are identical */"
                                },
                                {
                                    "ColumnName": "[vbin]",
                                    "ActionReason": "RPT.SAME",
                                    "srcColDefinition": "[vbin] varbinary(120) NULL",
                                    "--&gt;": "-->",
                                    "tgtColDefinition": "[vbin] varbinary(120) NULL",
                                    "tgtTypeName": "varbinary",
                                    "tgtMaxStrLength": "120",
                                    "difMaxLength": "0",
                                    "tgtPrecision": "0",
                                    "difPrecision": "0",
                                    "tgtScale": "0",
                                    "difScale": "0",
                                    "SelectClauseNoDml": "[vbin]",
                                    "DmlStmt": "",
                                    "SelectClausePostDml": "[vbin]",
                                    "Options": "{\"Debug\": 1, \"Perform DML\": 1}",
                                    "ActionMessage": "/* Source and target column definitions are identical */"
                                },
                                {
                                    "ColumnName": "[var2nvarsz]",
                                    "ActionReason": "RPT.SMALLER_SOURCE",
                                    "srcColDefinition": "[var2nvarsz] nvarchar(200) NULL",
                                    "--&gt;": "-->",
                                    "tgtColDefinition": "[var2nvarsz] nvarchar(250) NULL",
                                    "tgtTypeName": "nvarchar",
                                    "tgtMaxStrLength": "250",
                                    "difMaxLength": "-50",
                                    "tgtPrecision": "0",
                                    "difPrecision": "0",
                                    "tgtScale": "0",
                                    "difScale": "0",
                                    "SelectClauseNoDml": "[var2nvarsz]",
                                    "DmlStmt": "",
                                    "SelectClausePostDml": "[var2nvarsz]",
                                    "Options": "{\"Debug\": 1, \"Perform DML\": 1}",
                                    "ActionMessage": "/* Target column is of same base type but allows more data (ex. int -> bigint; varchar(50) -> varchar(100)) */"
                                }
                            ]
                        },
                        "text/html": [
                            "<table>",
                            "<tr><th>ColumnName</th><th>ActionReason</th><th>srcColDefinition</th><th>--&amp;gt;</th><th>tgtColDefinition</th><th>tgtTypeName</th><th>tgtMaxStrLength</th><th>difMaxLength</th><th>tgtPrecision</th><th>difPrecision</th><th>tgtScale</th><th>difScale</th><th>SelectClauseNoDml</th><th>DmlStmt</th><th>SelectClausePostDml</th><th>Options</th><th>ActionMessage</th></tr>",
                            "<tr><td>[bin]</td><td>RPT.SAME</td><td>[bin] binary(120) NULL</td><td>--&gt;</td><td>[bin] binary(120) NULL</td><td>binary</td><td>120</td><td>0</td><td>0</td><td>0</td><td>0</td><td>0</td><td>[bin]</td><td></td><td>[bin]</td><td>{&quot;Debug&quot;: 1, &quot;Perform DML&quot;: 1}</td><td>/* Source and target column definitions are identical */</td></tr>",
                            "<tr><td>[bucks]</td><td>RPT.SAME</td><td>[bucks] money NULL</td><td>--&gt;</td><td>[bucks] money NULL</td><td>money</td><td>8</td><td>0</td><td>19</td><td>0</td><td>4</td><td>0</td><td>[bucks]</td><td></td><td>[bucks]</td><td>{&quot;Debug&quot;: 1, &quot;Perform DML&quot;: 1}</td><td>/* Source and target column definitions are identical */</td></tr>",
                            "<tr><td>[char2ncharar]</td><td>RPT.SAME</td><td>[char2ncharar] nchar(25) NULL</td><td>--&gt;</td><td>[char2ncharar] nchar(25) NULL</td><td>nchar</td><td>25</td><td>0</td><td>0</td><td>0</td><td>0</td><td>0</td><td>[char2ncharar]</td><td></td><td>[char2ncharar]</td><td>{&quot;Debug&quot;: 1, &quot;Perform DML&quot;: 1}</td><td>/* Source and target column definitions are identical */</td></tr>",
                            "<tr><td>[cs]</td><td>RPT.SAME</td><td>[cs] char(15) NULL</td><td>--&gt;</td><td>[cs] char(15) NULL</td><td>char</td><td>15</td><td>0</td><td>0</td><td>0</td><td>0</td><td>0</td><td>[cs]</td><td></td><td>[cs]</td><td>{&quot;Debug&quot;: 1, &quot;Perform DML&quot;: 1}</td><td>/* Source and target column definitions are identical */</td></tr>",
                            "<tr><td>[dt1]</td><td>RPT.SAME</td><td>[dt1] smalldatetime NULL</td><td>--&gt;</td><td>[dt1] smalldatetime NULL</td><td>smalldatetime</td><td>4</td><td>0</td><td>16</td><td>0</td><td>0</td><td>0</td><td>[dt1]</td><td></td><td>[dt1]</td><td>{&quot;Debug&quot;: 1, &quot;Perform DML&quot;: 1}</td><td>/* Source and target column definitions are identical */</td></tr>",
                            "<tr><td>[dt2]</td><td>RPT.SAME</td><td>[dt2] datetime NULL</td><td>--&gt;</td><td>[dt2] datetime NULL</td><td>datetime</td><td>8</td><td>0</td><td>23</td><td>0</td><td>3</td><td>0</td><td>[dt2]</td><td></td><td>[dt2]</td><td>{&quot;Debug&quot;: 1, &quot;Perform DML&quot;: 1}</td><td>/* Source and target column definitions are identical */</td></tr>",
                            "<tr><td>[dt3]</td><td>RPT.SAME</td><td>[dt3] datetime2(7) NULL</td><td>--&gt;</td><td>[dt3] datetime2(7) NULL</td><td>datetime2</td><td>8</td><td>0</td><td>27</td><td>0</td><td>7</td><td>0</td><td>[dt3]</td><td></td><td>[dt3]</td><td>{&quot;Debug&quot;: 1, &quot;Perform DML&quot;: 1}</td><td>/* Source and target column definitions are identical */</td></tr>",
                            "<tr><td>[dt4]</td><td>RPT.SAME</td><td>[dt4] datetimeoffset(5) NULL</td><td>--&gt;</td><td>[dt4] datetimeoffset(5) NULL</td><td>datetimeoffset</td><td>10</td><td>0</td><td>32</td><td>0</td><td>5</td><td>0</td><td>[dt4]</td><td></td><td>[dt4]</td><td>{&quot;Debug&quot;: 1, &quot;Perform DML&quot;: 1}</td><td>/* Source and target column definitions are identical */</td></tr>",
                            "<tr><td>[dt5]</td><td>RPT.SAME</td><td>[dt5] datetimeoffset(7) NULL</td><td>--&gt;</td><td>[dt5] datetimeoffset(7) NULL</td><td>datetimeoffset</td><td>10</td><td>0</td><td>34</td><td>0</td><td>7</td><td>0</td><td>[dt5]</td><td></td><td>[dt5]</td><td>{&quot;Debug&quot;: 1, &quot;Perform DML&quot;: 1}</td><td>/* Source and target column definitions are identical */</td></tr>",
                            "<tr><td>[ft]</td><td>RPT.SAME</td><td>[ft] float(53) NULL</td><td>--&gt;</td><td>[ft] float(53) NULL</td><td>float</td><td>8</td><td>0</td><td>53</td><td>0</td><td>0</td><td>0</td><td>[ft]</td><td></td><td>[ft]</td><td>{&quot;Debug&quot;: 1, &quot;Perform DML&quot;: 1}</td><td>/* Source and target column definitions are identical */</td></tr>",
                            "<tr><td>[i1]</td><td>RPT.SAME</td><td>[i1] smallint NULL</td><td>--&gt;</td><td>[i1] smallint NULL</td><td>smallint</td><td>2</td><td>0</td><td>5</td><td>0</td><td>0</td><td>0</td><td>[i1]</td><td></td><td>[i1]</td><td>{&quot;Debug&quot;: 1, &quot;Perform DML&quot;: 1}</td><td>/* Source and target column definitions are identical */</td></tr>",
                            "<tr><td>[i2]</td><td>RPT.SAME</td><td>[i2] int NULL</td><td>--&gt;</td><td>[i2] int NULL</td><td>int</td><td>4</td><td>0</td><td>10</td><td>0</td><td>0</td><td>0</td><td>[i2]</td><td></td><td>[i2]</td><td>{&quot;Debug&quot;: 1, &quot;Perform DML&quot;: 1}</td><td>/* Source and target column definitions are identical */</td></tr>",
                            "<tr><td>[i3]</td><td>RPT.SAME</td><td>[i3] bigint NULL</td><td>--&gt;</td><td>[i3] bigint NULL</td><td>bigint</td><td>8</td><td>0</td><td>19</td><td>0</td><td>0</td><td>0</td><td>[i3]</td><td></td><td>[i3]</td><td>{&quot;Debug&quot;: 1, &quot;Perform DML&quot;: 1}</td><td>/* Source and target column definitions are identical */</td></tr>",
                            "<tr><td>[id]</td><td>RPT.SAME</td><td>[id] int NULL</td><td>--&gt;</td><td>[id] int NULL</td><td>int</td><td>4</td><td>0</td><td>10</td><td>0</td><td>0</td><td>0</td><td>[id]</td><td></td><td>[id]</td><td>{&quot;Debug&quot;: 1, &quot;Perform DML&quot;: 1}</td><td>/* Source and target column definitions are identical */</td></tr>",
                            "<tr><td>[n1]</td><td>RPT.SAME</td><td>[n1] decimal(35, 10) NULL</td><td>--&gt;</td><td>[n1] decimal(35, 10) NULL</td><td>decimal</td><td>17</td><td>0</td><td>35</td><td>0</td><td>10</td><td>0</td><td>[n1]</td><td></td><td>[n1]</td><td>{&quot;Debug&quot;: 1, &quot;Perform DML&quot;: 1}</td><td>/* Source and target column definitions are identical */</td></tr>",
                            "<tr><td>[ncs]</td><td>RPT.SAME</td><td>[ncs] nchar(15) NULL</td><td>--&gt;</td><td>[ncs] nchar(15) NULL</td><td>nchar</td><td>15</td><td>0</td><td>0</td><td>0</td><td>0</td><td>0</td><td>[ncs]</td><td></td><td>[ncs]</td><td>{&quot;Debug&quot;: 1, &quot;Perform DML&quot;: 1}</td><td>/* Source and target column definitions are identical */</td></tr>",
                            "<tr><td>[ns]</td><td>RPT.SAME</td><td>[ns] nvarchar(250) NULL</td><td>--&gt;</td><td>[ns] nvarchar(250) NULL</td><td>nvarchar</td><td>250</td><td>0</td><td>0</td><td>0</td><td>0</td><td>0</td><td>[ns]</td><td></td><td>[ns]</td><td>{&quot;Debug&quot;: 1, &quot;Perform DML&quot;: 1}</td><td>/* Source and target column definitions are identical */</td></tr>",
                            "<tr><td>[r1]</td><td>RPT.SAME</td><td>[r1] float(53) NULL</td><td>--&gt;</td><td>[r1] float(53) NULL</td><td>float</td><td>8</td><td>0</td><td>53</td><td>0</td><td>0</td><td>0</td><td>[r1]</td><td></td><td>[r1]</td><td>{&quot;Debug&quot;: 1, &quot;Perform DML&quot;: 1}</td><td>/* Source and target column definitions are identical */</td></tr>",
                            "<tr><td>[s]</td><td>RPT.SAME</td><td>[s] varchar(250) NULL</td><td>--&gt;</td><td>[s] varchar(250) NULL</td><td>varchar</td><td>250</td><td>0</td><td>0</td><td>0</td><td>0</td><td>0</td><td>[s]</td><td></td><td>[s]</td><td>{&quot;Debug&quot;: 1, &quot;Perform DML&quot;: 1}</td><td>/* Source and target column definitions are identical */</td></tr>",
                            "<tr><td>[t]</td><td>RPT.SAME</td><td>[t] time(7) NULL</td><td>--&gt;</td><td>[t] time(7) NULL</td><td>time</td><td>5</td><td>0</td><td>16</td><td>0</td><td>7</td><td>0</td><td>[t]</td><td></td><td>[t]</td><td>{&quot;Debug&quot;: 1, &quot;Perform DML&quot;: 1}</td><td>/* Source and target column definitions are identical */</td></tr>",
                            "<tr><td>[var2nvar]</td><td>RPT.SAME</td><td>[var2nvar] nvarchar(250) NULL</td><td>--&gt;</td><td>[var2nvar] nvarchar(250) NULL</td><td>nvarchar</td><td>250</td><td>0</td><td>0</td><td>0</td><td>0</td><td>0</td><td>[var2nvar]</td><td></td><td>[var2nvar]</td><td>{&quot;Debug&quot;: 1, &quot;Perform DML&quot;: 1}</td><td>/* Source and target column definitions are identical */</td></tr>",
                            "<tr><td>[vbin]</td><td>RPT.SAME</td><td>[vbin] varbinary(120) NULL</td><td>--&gt;</td><td>[vbin] varbinary(120) NULL</td><td>varbinary</td><td>120</td><td>0</td><td>0</td><td>0</td><td>0</td><td>0</td><td>[vbin]</td><td></td><td>[vbin]</td><td>{&quot;Debug&quot;: 1, &quot;Perform DML&quot;: 1}</td><td>/* Source and target column definitions are identical */</td></tr>",
                            "<tr><td>[var2nvarsz]</td><td>RPT.SMALLER_SOURCE</td><td>[var2nvarsz] nvarchar(200) NULL</td><td>--&gt;</td><td>[var2nvarsz] nvarchar(250) NULL</td><td>nvarchar</td><td>250</td><td>-50</td><td>0</td><td>0</td><td>0</td><td>0</td><td>[var2nvarsz]</td><td></td><td>[var2nvarsz]</td><td>{&quot;Debug&quot;: 1, &quot;Perform DML&quot;: 1}</td><td>/* Target column is of same base type but allows more data (ex. int -&gt; bigint; varchar(50) -&gt; varchar(100)) */</td></tr>",
                            "</table>"
                        ]
                    }
                }
            ],
            "execution_count": 19
        },
        {
            "cell_type": "markdown",
            "source": [
                "### Check audit table"
            ],
            "metadata": {
                "language": "sql",
                "azdata_cell_guid": "4ca7285a-999d-4e82-a6fa-1619ba1f0f79"
            },
            "attachments": {}
        },
        {
            "cell_type": "code",
            "source": [
                "select      *\r\n",
                "from        audit.SchemaDrift\r\n",
                "where       SchemaName = 'dbo' and TableName = 'smaller'"
            ],
            "metadata": {
                "language": "sql",
                "azdata_cell_guid": "73dd9e52-aefe-4b4d-b2b3-3b0d13627366"
            },
            "outputs": [
                {
                    "output_type": "display_data",
                    "data": {
                        "text/html": "(22 rows affected)"
                    },
                    "metadata": {}
                },
                {
                    "output_type": "display_data",
                    "data": {
                        "text/html": "Total execution time: 00:00:00.006"
                    },
                    "metadata": {}
                },
                {
                    "output_type": "execute_result",
                    "metadata": {},
                    "execution_count": 20,
                    "data": {
                        "application/vnd.dataresource+json": {
                            "schema": {
                                "fields": [
                                    {
                                        "name": "SchemaName"
                                    },
                                    {
                                        "name": "TableName"
                                    },
                                    {
                                        "name": "ColumnName"
                                    },
                                    {
                                        "name": "Definition"
                                    },
                                    {
                                        "name": "PriorDefinition"
                                    },
                                    {
                                        "name": "ActionReason"
                                    },
                                    {
                                        "name": "SysStartTime"
                                    },
                                    {
                                        "name": "SysEndTime"
                                    }
                                ]
                            },
                            "data": [
                                {
                                    "SchemaName": "dbo",
                                    "TableName": "smaller",
                                    "ColumnName": "[bin]",
                                    "Definition": "[bin] binary(120) NULL",
                                    "PriorDefinition": "[bin] binary(90) NULL",
                                    "ActionReason": "DML.SMALLER_STRING",
                                    "SysStartTime": "2023-10-23 17:22:02.6637413",
                                    "SysEndTime": "9999-12-31 23:59:59.9999999"
                                },
                                {
                                    "SchemaName": "dbo",
                                    "TableName": "smaller",
                                    "ColumnName": "[bucks]",
                                    "Definition": "[bucks] money NULL",
                                    "PriorDefinition": "[bucks] smallmoney NULL",
                                    "ActionReason": "DML.SMALLER_NUMERIC",
                                    "SysStartTime": "2023-10-23 17:22:02.6458032",
                                    "SysEndTime": "9999-12-31 23:59:59.9999999"
                                },
                                {
                                    "SchemaName": "dbo",
                                    "TableName": "smaller",
                                    "ColumnName": "[char2ncharar]",
                                    "Definition": "[char2ncharar] nchar(25) NULL",
                                    "PriorDefinition": "[char2ncharar] char(25) NULL",
                                    "ActionReason": "DML.UNICODE_TO_ASCII",
                                    "SysStartTime": "2023-10-23 17:22:02.6617467",
                                    "SysEndTime": "9999-12-31 23:59:59.9999999"
                                },
                                {
                                    "SchemaName": "dbo",
                                    "TableName": "smaller",
                                    "ColumnName": "[cs]",
                                    "Definition": "[cs] char(15) NULL",
                                    "PriorDefinition": "[cs] char(10) NULL",
                                    "ActionReason": "DML.SMALLER_STRING",
                                    "SysStartTime": "2023-10-23 17:22:02.6527781",
                                    "SysEndTime": "9999-12-31 23:59:59.9999999"
                                },
                                {
                                    "SchemaName": "dbo",
                                    "TableName": "smaller",
                                    "ColumnName": "[dt1]",
                                    "Definition": "[dt1] smalldatetime NULL",
                                    "PriorDefinition": "[dt1] date NULL",
                                    "ActionReason": "DML.SMALLER_NUMERIC",
                                    "SysStartTime": "2023-10-23 17:22:02.6328982",
                                    "SysEndTime": "9999-12-31 23:59:59.9999999"
                                },
                                {
                                    "SchemaName": "dbo",
                                    "TableName": "smaller",
                                    "ColumnName": "[dt2]",
                                    "Definition": "[dt2] datetime NULL",
                                    "PriorDefinition": "[dt2] smalldatetime NULL",
                                    "ActionReason": "DML.SMALLER_NUMERIC",
                                    "SysStartTime": "2023-10-23 17:22:02.6358352",
                                    "SysEndTime": "9999-12-31 23:59:59.9999999"
                                },
                                {
                                    "SchemaName": "dbo",
                                    "TableName": "smaller",
                                    "ColumnName": "[dt3]",
                                    "Definition": "[dt3] datetime2(7) NULL",
                                    "PriorDefinition": "[dt3] datetime NULL",
                                    "ActionReason": "DML.SMALLER_NUMERIC",
                                    "SysStartTime": "2023-10-23 17:22:02.6378997",
                                    "SysEndTime": "9999-12-31 23:59:59.9999999"
                                },
                                {
                                    "SchemaName": "dbo",
                                    "TableName": "smaller",
                                    "ColumnName": "[dt4]",
                                    "Definition": "[dt4] datetimeoffset(5) NULL",
                                    "PriorDefinition": "[dt4] datetime2(5) NULL",
                                    "ActionReason": "DML.SMALLER_NUMERIC",
                                    "SysStartTime": "2023-10-23 17:22:02.6398317",
                                    "SysEndTime": "9999-12-31 23:59:59.9999999"
                                },
                                {
                                    "SchemaName": "dbo",
                                    "TableName": "smaller",
                                    "ColumnName": "[dt5]",
                                    "Definition": "[dt5] datetimeoffset(7) NULL",
                                    "PriorDefinition": "[dt5] datetimeoffset(5) NULL",
                                    "ActionReason": "DML.SCALE",
                                    "SysStartTime": "2023-10-23 17:22:02.6418210",
                                    "SysEndTime": "9999-12-31 23:59:59.9999999"
                                },
                                {
                                    "SchemaName": "dbo",
                                    "TableName": "smaller",
                                    "ColumnName": "[ft]",
                                    "Definition": "[ft] float(53) NULL",
                                    "PriorDefinition": "[ft] real NULL",
                                    "ActionReason": "DML.PRECISION",
                                    "SysStartTime": "2023-10-23 17:22:02.6667320",
                                    "SysEndTime": "9999-12-31 23:59:59.9999999"
                                },
                                {
                                    "SchemaName": "dbo",
                                    "TableName": "smaller",
                                    "ColumnName": "[i1]",
                                    "Definition": "[i1] smallint NULL",
                                    "PriorDefinition": "[i1] tinyint NULL",
                                    "ActionReason": "DML.SMALLER_NUMERIC",
                                    "SysStartTime": "2023-10-23 17:22:02.6199556",
                                    "SysEndTime": "9999-12-31 23:59:59.9999999"
                                },
                                {
                                    "SchemaName": "dbo",
                                    "TableName": "smaller",
                                    "ColumnName": "[i2]",
                                    "Definition": "[i2] int NULL",
                                    "PriorDefinition": "[i2] smallint NULL",
                                    "ActionReason": "DML.SMALLER_NUMERIC",
                                    "SysStartTime": "2023-10-23 17:22:02.6279388",
                                    "SysEndTime": "9999-12-31 23:59:59.9999999"
                                },
                                {
                                    "SchemaName": "dbo",
                                    "TableName": "smaller",
                                    "ColumnName": "[i3]",
                                    "Definition": "[i3] bigint NULL",
                                    "PriorDefinition": "[i3] int NULL",
                                    "ActionReason": "DML.SMALLER_NUMERIC",
                                    "SysStartTime": "2023-10-23 17:22:02.6299307",
                                    "SysEndTime": "9999-12-31 23:59:59.9999999"
                                },
                                {
                                    "SchemaName": "dbo",
                                    "TableName": "smaller",
                                    "ColumnName": "[n1]",
                                    "Definition": "[n1] decimal(35, 10) NULL",
                                    "PriorDefinition": "[n1] decimal(20, 5) NULL",
                                    "ActionReason": "DML.PRECISION_SCALE",
                                    "SysStartTime": "2023-10-23 17:22:02.6497893",
                                    "SysEndTime": "9999-12-31 23:59:59.9999999"
                                },
                                {
                                    "SchemaName": "dbo",
                                    "TableName": "smaller",
                                    "ColumnName": "[ncs]",
                                    "Definition": "[ncs] nchar(15) NULL",
                                    "PriorDefinition": "[ncs] nchar(10) NULL",
                                    "ActionReason": "DML.SMALLER_STRING",
                                    "SysStartTime": "2023-10-23 17:22:02.6537828",
                                    "SysEndTime": "9999-12-31 23:59:59.9999999"
                                },
                                {
                                    "SchemaName": "dbo",
                                    "TableName": "smaller",
                                    "ColumnName": "[ns]",
                                    "Definition": "[ns] nvarchar(250) NULL",
                                    "PriorDefinition": "[ns] nvarchar(200) NULL",
                                    "ActionReason": "DML.SMALLER_STRING",
                                    "SysStartTime": "2023-10-23 17:22:02.6567724",
                                    "SysEndTime": "9999-12-31 23:59:59.9999999"
                                },
                                {
                                    "SchemaName": "dbo",
                                    "TableName": "smaller",
                                    "ColumnName": "[r1]",
                                    "Definition": "[r1] float(53) NULL",
                                    "PriorDefinition": "[r1] real NULL",
                                    "ActionReason": "DML.PRECISION",
                                    "SysStartTime": "2023-10-23 17:22:02.6477948",
                                    "SysEndTime": "9999-12-31 23:59:59.9999999"
                                },
                                {
                                    "SchemaName": "dbo",
                                    "TableName": "smaller",
                                    "ColumnName": "[s]",
                                    "Definition": "[s] varchar(250) NULL",
                                    "PriorDefinition": "[s] varchar(200) NULL",
                                    "ActionReason": "DML.SMALLER_STRING",
                                    "SysStartTime": "2023-10-23 17:22:02.6557663",
                                    "SysEndTime": "9999-12-31 23:59:59.9999999"
                                },
                                {
                                    "SchemaName": "dbo",
                                    "TableName": "smaller",
                                    "ColumnName": "[t]",
                                    "Definition": "[t] time(7) NULL",
                                    "PriorDefinition": "[t] time(5) NULL",
                                    "ActionReason": "DML.SCALE",
                                    "SysStartTime": "2023-10-23 17:22:02.6438080",
                                    "SysEndTime": "9999-12-31 23:59:59.9999999"
                                },
                                {
                                    "SchemaName": "dbo",
                                    "TableName": "smaller",
                                    "ColumnName": "[var2nvar]",
                                    "Definition": "[var2nvar] nvarchar(250) NULL",
                                    "PriorDefinition": "[var2nvar] varchar(250) NULL",
                                    "ActionReason": "DML.UNICODE_TO_ASCII",
                                    "SysStartTime": "2023-10-23 17:22:02.6587640",
                                    "SysEndTime": "9999-12-31 23:59:59.9999999"
                                },
                                {
                                    "SchemaName": "dbo",
                                    "TableName": "smaller",
                                    "ColumnName": "[var2nvarsz]",
                                    "Definition": "[var2nvarsz] nvarchar(250) NULL",
                                    "PriorDefinition": "[var2nvarsz] varchar(250) NULL",
                                    "ActionReason": "DML.UNICODE_TO_ASCII",
                                    "SysStartTime": "2023-10-23 17:22:02.6597610",
                                    "SysEndTime": "9999-12-31 23:59:59.9999999"
                                },
                                {
                                    "SchemaName": "dbo",
                                    "TableName": "smaller",
                                    "ColumnName": "[vbin]",
                                    "Definition": "[vbin] varbinary(120) NULL",
                                    "PriorDefinition": "[vbin] varbinary(90) NULL",
                                    "ActionReason": "DML.SMALLER_STRING",
                                    "SysStartTime": "2023-10-23 17:22:02.6647444",
                                    "SysEndTime": "9999-12-31 23:59:59.9999999"
                                }
                            ]
                        },
                        "text/html": [
                            "<table>",
                            "<tr><th>SchemaName</th><th>TableName</th><th>ColumnName</th><th>Definition</th><th>PriorDefinition</th><th>ActionReason</th><th>SysStartTime</th><th>SysEndTime</th></tr>",
                            "<tr><td>dbo</td><td>smaller</td><td>[bin]</td><td>[bin] binary(120) NULL</td><td>[bin] binary(90) NULL</td><td>DML.SMALLER_STRING</td><td>2023-10-23 17:22:02.6637413</td><td>9999-12-31 23:59:59.9999999</td></tr>",
                            "<tr><td>dbo</td><td>smaller</td><td>[bucks]</td><td>[bucks] money NULL</td><td>[bucks] smallmoney NULL</td><td>DML.SMALLER_NUMERIC</td><td>2023-10-23 17:22:02.6458032</td><td>9999-12-31 23:59:59.9999999</td></tr>",
                            "<tr><td>dbo</td><td>smaller</td><td>[char2ncharar]</td><td>[char2ncharar] nchar(25) NULL</td><td>[char2ncharar] char(25) NULL</td><td>DML.UNICODE_TO_ASCII</td><td>2023-10-23 17:22:02.6617467</td><td>9999-12-31 23:59:59.9999999</td></tr>",
                            "<tr><td>dbo</td><td>smaller</td><td>[cs]</td><td>[cs] char(15) NULL</td><td>[cs] char(10) NULL</td><td>DML.SMALLER_STRING</td><td>2023-10-23 17:22:02.6527781</td><td>9999-12-31 23:59:59.9999999</td></tr>",
                            "<tr><td>dbo</td><td>smaller</td><td>[dt1]</td><td>[dt1] smalldatetime NULL</td><td>[dt1] date NULL</td><td>DML.SMALLER_NUMERIC</td><td>2023-10-23 17:22:02.6328982</td><td>9999-12-31 23:59:59.9999999</td></tr>",
                            "<tr><td>dbo</td><td>smaller</td><td>[dt2]</td><td>[dt2] datetime NULL</td><td>[dt2] smalldatetime NULL</td><td>DML.SMALLER_NUMERIC</td><td>2023-10-23 17:22:02.6358352</td><td>9999-12-31 23:59:59.9999999</td></tr>",
                            "<tr><td>dbo</td><td>smaller</td><td>[dt3]</td><td>[dt3] datetime2(7) NULL</td><td>[dt3] datetime NULL</td><td>DML.SMALLER_NUMERIC</td><td>2023-10-23 17:22:02.6378997</td><td>9999-12-31 23:59:59.9999999</td></tr>",
                            "<tr><td>dbo</td><td>smaller</td><td>[dt4]</td><td>[dt4] datetimeoffset(5) NULL</td><td>[dt4] datetime2(5) NULL</td><td>DML.SMALLER_NUMERIC</td><td>2023-10-23 17:22:02.6398317</td><td>9999-12-31 23:59:59.9999999</td></tr>",
                            "<tr><td>dbo</td><td>smaller</td><td>[dt5]</td><td>[dt5] datetimeoffset(7) NULL</td><td>[dt5] datetimeoffset(5) NULL</td><td>DML.SCALE</td><td>2023-10-23 17:22:02.6418210</td><td>9999-12-31 23:59:59.9999999</td></tr>",
                            "<tr><td>dbo</td><td>smaller</td><td>[ft]</td><td>[ft] float(53) NULL</td><td>[ft] real NULL</td><td>DML.PRECISION</td><td>2023-10-23 17:22:02.6667320</td><td>9999-12-31 23:59:59.9999999</td></tr>",
                            "<tr><td>dbo</td><td>smaller</td><td>[i1]</td><td>[i1] smallint NULL</td><td>[i1] tinyint NULL</td><td>DML.SMALLER_NUMERIC</td><td>2023-10-23 17:22:02.6199556</td><td>9999-12-31 23:59:59.9999999</td></tr>",
                            "<tr><td>dbo</td><td>smaller</td><td>[i2]</td><td>[i2] int NULL</td><td>[i2] smallint NULL</td><td>DML.SMALLER_NUMERIC</td><td>2023-10-23 17:22:02.6279388</td><td>9999-12-31 23:59:59.9999999</td></tr>",
                            "<tr><td>dbo</td><td>smaller</td><td>[i3]</td><td>[i3] bigint NULL</td><td>[i3] int NULL</td><td>DML.SMALLER_NUMERIC</td><td>2023-10-23 17:22:02.6299307</td><td>9999-12-31 23:59:59.9999999</td></tr>",
                            "<tr><td>dbo</td><td>smaller</td><td>[n1]</td><td>[n1] decimal(35, 10) NULL</td><td>[n1] decimal(20, 5) NULL</td><td>DML.PRECISION_SCALE</td><td>2023-10-23 17:22:02.6497893</td><td>9999-12-31 23:59:59.9999999</td></tr>",
                            "<tr><td>dbo</td><td>smaller</td><td>[ncs]</td><td>[ncs] nchar(15) NULL</td><td>[ncs] nchar(10) NULL</td><td>DML.SMALLER_STRING</td><td>2023-10-23 17:22:02.6537828</td><td>9999-12-31 23:59:59.9999999</td></tr>",
                            "<tr><td>dbo</td><td>smaller</td><td>[ns]</td><td>[ns] nvarchar(250) NULL</td><td>[ns] nvarchar(200) NULL</td><td>DML.SMALLER_STRING</td><td>2023-10-23 17:22:02.6567724</td><td>9999-12-31 23:59:59.9999999</td></tr>",
                            "<tr><td>dbo</td><td>smaller</td><td>[r1]</td><td>[r1] float(53) NULL</td><td>[r1] real NULL</td><td>DML.PRECISION</td><td>2023-10-23 17:22:02.6477948</td><td>9999-12-31 23:59:59.9999999</td></tr>",
                            "<tr><td>dbo</td><td>smaller</td><td>[s]</td><td>[s] varchar(250) NULL</td><td>[s] varchar(200) NULL</td><td>DML.SMALLER_STRING</td><td>2023-10-23 17:22:02.6557663</td><td>9999-12-31 23:59:59.9999999</td></tr>",
                            "<tr><td>dbo</td><td>smaller</td><td>[t]</td><td>[t] time(7) NULL</td><td>[t] time(5) NULL</td><td>DML.SCALE</td><td>2023-10-23 17:22:02.6438080</td><td>9999-12-31 23:59:59.9999999</td></tr>",
                            "<tr><td>dbo</td><td>smaller</td><td>[var2nvar]</td><td>[var2nvar] nvarchar(250) NULL</td><td>[var2nvar] varchar(250) NULL</td><td>DML.UNICODE_TO_ASCII</td><td>2023-10-23 17:22:02.6587640</td><td>9999-12-31 23:59:59.9999999</td></tr>",
                            "<tr><td>dbo</td><td>smaller</td><td>[var2nvarsz]</td><td>[var2nvarsz] nvarchar(250) NULL</td><td>[var2nvarsz] varchar(250) NULL</td><td>DML.UNICODE_TO_ASCII</td><td>2023-10-23 17:22:02.6597610</td><td>9999-12-31 23:59:59.9999999</td></tr>",
                            "<tr><td>dbo</td><td>smaller</td><td>[vbin]</td><td>[vbin] varbinary(120) NULL</td><td>[vbin] varbinary(90) NULL</td><td>DML.SMALLER_STRING</td><td>2023-10-23 17:22:02.6647444</td><td>9999-12-31 23:59:59.9999999</td></tr>",
                            "</table>"
                        ]
                    }
                }
            ],
            "execution_count": 20
        }
    ]
}