{
    "metadata": {
        "kernelspec": {
            "name": "SQL",
            "display_name": "SQL",
            "language": "sql"
        },
        "language_info": {
            "name": "sql",
            "version": ""
        }
    },
    "nbformat_minor": 2,
    "nbformat": 4,
    "cells": [
        {
            "cell_type": "markdown",
            "source": [
                "# Tables for testing schema drift handling"
            ],
            "metadata": {
                "azdata_cell_guid": "ebdb411e-bfc5-4143-a3ea-9171ab8b672c"
            },
            "attachments": {}
        },
        {
            "cell_type": "code",
            "source": [
                "if exists(select * from sys.schemas s join sys.tables t on t.schema_id = s.schema_id where s.name = 'dbo' and t.name = 'sdtPersonA')\r\n",
                "    drop table dbo.sdtPersonA\r\n",
                "\r\n",
                "create table dbo.sdtPersonA\r\n",
                "    (   Id int not null\r\n",
                "    ,   FirstName varchar(20)\r\n",
                "    ,   LastName varchar(25)\r\n",
                "    ,   MiddleInitial char(1)\r\n",
                "    ,   HeightInches tinyint\r\n",
                "    ,   WeightPounds smallint\r\n",
                "    )"
            ],
            "metadata": {
                "azdata_cell_guid": "be23fedc-fb04-4d77-b9ee-83eeec840f6f",
                "language": "sql"
            },
            "outputs": [
                {
                    "output_type": "display_data",
                    "data": {
                        "text/html": "Commands completed successfully."
                    },
                    "metadata": {}
                },
                {
                    "output_type": "display_data",
                    "data": {
                        "text/html": "Total execution time: 00:00:00.025"
                    },
                    "metadata": {}
                }
            ],
            "execution_count": 4
        },
        {
            "cell_type": "code",
            "source": [
                "if exists(select * from sys.schemas s join sys.tables t on t.schema_id = s.schema_id where s.name = 'dbo' and t.name = 'sdtPersonB')\r\n",
                "    drop table dbo.sdtPersonB\r\n",
                "\r\n",
                "create table dbo.sdtPersonB\r\n",
                "    (   Id int not null\r\n",
                "    ,   FirstName varchar(25)\r\n",
                "    ,   MiddleName varchar(25)\r\n",
                "    ,   LastName varchar(25)\r\n",
                "    ,   EyeColor varchar(15)\r\n",
                "    ,   NationOfOriginIsoCode char(5)\r\n",
                "    )"
            ],
            "metadata": {
                "language": "sql",
                "azdata_cell_guid": "b36477c3-815e-40d7-acd7-47ca66188f4f"
            },
            "outputs": [
                {
                    "output_type": "display_data",
                    "data": {
                        "text/html": "Commands completed successfully."
                    },
                    "metadata": {}
                },
                {
                    "output_type": "display_data",
                    "data": {
                        "text/html": "Total execution time: 00:00:00.014"
                    },
                    "metadata": {}
                }
            ],
            "execution_count": 5
        },
        {
            "cell_type": "markdown",
            "source": [
                "## Actions generated"
            ],
            "metadata": {
                "language": "sql",
                "azdata_cell_guid": "79be2699-3ae8-413c-8f96-c4a4e8937bac"
            },
            "attachments": {}
        },
        {
            "cell_type": "code",
            "source": [
                ""
            ],
            "metadata": {
                "language": "sql",
                "azdata_cell_guid": "e74967c0-3315-454d-b328-d94ff3cce88d"
            },
            "outputs": [
                {
                    "output_type": "display_data",
                    "data": {
                        "text/html": "Commands completed successfully."
                    },
                    "metadata": {}
                },
                {
                    "output_type": "display_data",
                    "data": {
                        "text/html": "Total execution time: 00:00:00"
                    },
                    "metadata": {}
                }
            ],
            "execution_count": 6
        }
    ]
}